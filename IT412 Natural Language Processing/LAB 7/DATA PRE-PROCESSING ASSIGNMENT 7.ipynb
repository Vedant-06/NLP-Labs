{
 "cells": [
  {
   "cell_type": "code",
   "execution_count": 1,
   "metadata": {},
   "outputs": [],
   "source": [
    "import numpy as np\n",
    "import pandas as pd"
   ]
  },
  {
   "cell_type": "code",
   "execution_count": 2,
   "metadata": {},
   "outputs": [],
   "source": [
    "path = 'C:/Users/Vedant/Desktop/NLP LAB/Assignment7'"
   ]
  },
  {
   "cell_type": "code",
   "execution_count": 3,
   "metadata": {},
   "outputs": [],
   "source": [
    "import io"
   ]
  },
  {
   "cell_type": "code",
   "execution_count": 4,
   "metadata": {},
   "outputs": [],
   "source": [
    "with io.open(path+'/eng-hin.txt',encoding = 'utf8') as f:\n",
    "    file = f.read()\n",
    "with io.open(path+'/eng-fra.txt',encoding = 'utf8') as f:\n",
    "    file1 = f.read()"
   ]
  },
  {
   "cell_type": "code",
   "execution_count": 5,
   "metadata": {},
   "outputs": [],
   "source": [
    "engh = []\n",
    "hin = []"
   ]
  },
  {
   "cell_type": "code",
   "execution_count": 6,
   "metadata": {},
   "outputs": [],
   "source": [
    "from string import punctuation\n",
    "table = str.maketrans('','',punctuation+'।')\n",
    "for x in file.split('\\n'):\n",
    "    if len(x.split('\\t')) == 3:\n",
    "        engh.append(x.split('\\t')[0].translate(table).lower()+'\\n')\n",
    "        hin.append(x.split('\\t')[1].translate(table)+'\\n')"
   ]
  },
  {
   "cell_type": "code",
   "execution_count": 7,
   "metadata": {},
   "outputs": [],
   "source": [
    "engf = []\n",
    "fra = []"
   ]
  },
  {
   "cell_type": "code",
   "execution_count": 8,
   "metadata": {},
   "outputs": [],
   "source": [
    "from string import punctuation\n",
    "table = str.maketrans('','',punctuation)\n",
    "for x in file1.split('\\n'):\n",
    "    if len(x.split('\\t')) == 2:\n",
    "        engf.append(x.split('\\t')[0].translate(table).lower()+'\\n')\n",
    "        fra.append(x.split('\\t')[1].lower().translate(table)+'\\n')"
   ]
  },
  {
   "cell_type": "code",
   "execution_count": 11,
   "metadata": {},
   "outputs": [],
   "source": [
    "file1 = open(path+\"/DATA-EH/engh.txt\",\"a\",encoding = 'utf8') \n",
    "for x in engh:\n",
    "    file1.write(x)\n",
    "file1.close()\n",
    "file1 = open(path+\"/DATA-EH/engf.txt\",\"a\",encoding = 'utf8') \n",
    "for x in engf:\n",
    "    file1.write(x)\n",
    "file1.close()\n",
    "file1 = open(path+\"/DATA-EH/hin.txt\",\"a\",encoding = 'utf8') \n",
    "for x in hin:\n",
    "    file1.write(x)\n",
    "file1.close()\n",
    "file1 = open(path+\"/DATA-EH/fra.txt\",\"a\",encoding = 'utf8') \n",
    "for x in fra:\n",
    "    file1.write(x)\n",
    "file1.close()"
   ]
  },
  {
   "cell_type": "code",
   "execution_count": null,
   "metadata": {},
   "outputs": [],
   "source": []
  }
 ],
 "metadata": {
  "kernelspec": {
   "display_name": "Python 3",
   "language": "python",
   "name": "python3"
  },
  "language_info": {
   "codemirror_mode": {
    "name": "ipython",
    "version": 3
   },
   "file_extension": ".py",
   "mimetype": "text/x-python",
   "name": "python",
   "nbconvert_exporter": "python",
   "pygments_lexer": "ipython3",
   "version": "3.7.3"
  }
 },
 "nbformat": 4,
 "nbformat_minor": 2
}
