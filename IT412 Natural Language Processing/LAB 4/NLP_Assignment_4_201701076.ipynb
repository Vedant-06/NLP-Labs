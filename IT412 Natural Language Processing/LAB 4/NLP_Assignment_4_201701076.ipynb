{
  "nbformat": 4,
  "nbformat_minor": 0,
  "metadata": {
    "colab": {
      "name": "NLP_Assignment_4_201701076",
      "provenance": [],
      "collapsed_sections": []
    },
    "kernelspec": {
      "name": "python3",
      "display_name": "Python 3"
    }
  },
  "cells": [
    {
      "cell_type": "code",
      "metadata": {
        "id": "I-vxywO7SJx5",
        "colab_type": "code",
        "outputId": "cacf6667-bf9c-4229-edbb-f0c71dc4f321",
        "colab": {
          "base_uri": "https://localhost:8080/",
          "height": 122
        }
      },
      "source": [
        "from google.colab import drive\n",
        "drive.mount('/content/drive')"
      ],
      "execution_count": 1,
      "outputs": [
        {
          "output_type": "stream",
          "text": [
            "Go to this URL in a browser: https://accounts.google.com/o/oauth2/auth?client_id=947318989803-6bn6qk8qdgf4n4g3pfee6491hc0brc4i.apps.googleusercontent.com&redirect_uri=urn%3aietf%3awg%3aoauth%3a2.0%3aoob&response_type=code&scope=email%20https%3a%2f%2fwww.googleapis.com%2fauth%2fdocs.test%20https%3a%2f%2fwww.googleapis.com%2fauth%2fdrive%20https%3a%2f%2fwww.googleapis.com%2fauth%2fdrive.photos.readonly%20https%3a%2f%2fwww.googleapis.com%2fauth%2fpeopleapi.readonly\n",
            "\n",
            "Enter your authorization code:\n",
            "··········\n",
            "Mounted at /content/drive\n"
          ],
          "name": "stdout"
        }
      ]
    },
    {
      "cell_type": "code",
      "metadata": {
        "id": "QxeUHpl-kJfa",
        "colab_type": "code",
        "colab": {}
      },
      "source": [
        "with open(\"/content/drive/My Drive/train.txt\",\"r\") as file:\n",
        "    D = file.read()"
      ],
      "execution_count": 0,
      "outputs": []
    },
    {
      "cell_type": "code",
      "metadata": {
        "id": "5a2V-XSmlJvL",
        "colab_type": "code",
        "outputId": "3a5da924-b919-43db-8efc-185f3c82a5d9",
        "colab": {
          "base_uri": "https://localhost:8080/",
          "height": 68
        }
      },
      "source": [
        "import pandas as pd\n",
        "import numpy as np\n",
        "import nltk\n",
        "from nltk.corpus import conll2000\n",
        "nltk.download('conll2000')"
      ],
      "execution_count": 25,
      "outputs": [
        {
          "output_type": "stream",
          "text": [
            "[nltk_data] Downloading package conll2000 to /root/nltk_data...\n",
            "[nltk_data]   Package conll2000 is already up-to-date!\n"
          ],
          "name": "stdout"
        },
        {
          "output_type": "execute_result",
          "data": {
            "text/plain": [
              "True"
            ]
          },
          "metadata": {
            "tags": []
          },
          "execution_count": 25
        }
      ]
    },
    {
      "cell_type": "code",
      "metadata": {
        "id": "8OlSt4V9lOzg",
        "colab_type": "code",
        "colab": {}
      },
      "source": [
        "L = D.split(\"\\n\")"
      ],
      "execution_count": 0,
      "outputs": []
    },
    {
      "cell_type": "code",
      "metadata": {
        "id": "mM_W8XxulfgE",
        "colab_type": "code",
        "colab": {}
      },
      "source": [
        "data = []\n",
        "for x in L:\n",
        "  data.append(x.split())"
      ],
      "execution_count": 0,
      "outputs": []
    },
    {
      "cell_type": "code",
      "metadata": {
        "id": "XFwDNNAJlsEF",
        "colab_type": "code",
        "outputId": "8e71f112-8fbf-4a67-d24f-ad338fe9f385",
        "colab": {
          "base_uri": "https://localhost:8080/",
          "height": 34
        }
      },
      "source": [
        "len(data)"
      ],
      "execution_count": 6,
      "outputs": [
        {
          "output_type": "execute_result",
          "data": {
            "text/plain": [
              "220664"
            ]
          },
          "metadata": {
            "tags": []
          },
          "execution_count": 6
        }
      ]
    },
    {
      "cell_type": "code",
      "metadata": {
        "id": "u_qIKMN3tbCr",
        "colab_type": "code",
        "colab": {}
      },
      "source": [
        "em = []\n",
        "y = []\n",
        "for x in data:\n",
        "  if len(x) == 3:\n",
        "    if 'PP' in x[2].split('-'):\n",
        "      em.append(x[1])\n",
        "    else:\n",
        "      if len(em) != 0:\n",
        "        y.append(em)\n",
        "        em = []"
      ],
      "execution_count": 0,
      "outputs": []
    },
    {
      "cell_type": "code",
      "metadata": {
        "id": "BrUsk5aW_7wl",
        "colab_type": "code",
        "colab": {}
      },
      "source": [
        "Rules_PP, count_PP = np.unique(y,return_counts = True)"
      ],
      "execution_count": 0,
      "outputs": []
    },
    {
      "cell_type": "code",
      "metadata": {
        "id": "hSq5PNUeAOUT",
        "colab_type": "code",
        "colab": {}
      },
      "source": [
        "em = []\n",
        "y = []\n",
        "for x in data:\n",
        "  if len(x) == 3:\n",
        "    if 'NP' in x[2].split('-'):\n",
        "      em.append(x[1])\n",
        "    else:\n",
        "      if len(em) != 0:\n",
        "        y.append(em)\n",
        "        em = []"
      ],
      "execution_count": 0,
      "outputs": []
    },
    {
      "cell_type": "code",
      "metadata": {
        "id": "p8Jr1vZrAYg4",
        "colab_type": "code",
        "colab": {}
      },
      "source": [
        "Rules_NP, count_PP = np.unique(y,return_counts = True)"
      ],
      "execution_count": 0,
      "outputs": []
    },
    {
      "cell_type": "code",
      "metadata": {
        "id": "3N2ctXSDDMhp",
        "colab_type": "code",
        "colab": {}
      },
      "source": [
        "em = []\n",
        "y = []\n",
        "for x in data:\n",
        "  if len(x) == 3:\n",
        "    if 'VP' in x[2].split('-'):\n",
        "      em.append(x[1])\n",
        "    else:\n",
        "      if len(em) != 0:\n",
        "        y.append(em)\n",
        "        em = []"
      ],
      "execution_count": 0,
      "outputs": []
    },
    {
      "cell_type": "code",
      "metadata": {
        "id": "nCzNZJKMDVNU",
        "colab_type": "code",
        "colab": {}
      },
      "source": [
        "Rules_VP, count_PP = np.unique(y,return_counts = True)"
      ],
      "execution_count": 0,
      "outputs": []
    },
    {
      "cell_type": "code",
      "metadata": {
        "id": "QiQ4BGVcDmpe",
        "colab_type": "code",
        "colab": {}
      },
      "source": [
        "with open(\"/content/drive/My Drive/test.txt\",\"r\") as file:\n",
        "    t = file.read()"
      ],
      "execution_count": 0,
      "outputs": []
    },
    {
      "cell_type": "code",
      "metadata": {
        "id": "__kth25Tbwo9",
        "colab_type": "code",
        "colab": {}
      },
      "source": [
        "data_t = t.split('\\n')"
      ],
      "execution_count": 0,
      "outputs": []
    },
    {
      "cell_type": "code",
      "metadata": {
        "id": "bCxCj558C8RC",
        "colab_type": "code",
        "colab": {}
      },
      "source": [
        "Data_t = []\n",
        "for x in L:\n",
        "  Data_t.append(x.split())"
      ],
      "execution_count": 0,
      "outputs": []
    },
    {
      "cell_type": "code",
      "metadata": {
        "id": "RiSOVUDoWZs5",
        "colab_type": "code",
        "colab": {}
      },
      "source": [
        "pos_t = []\n",
        "pos = []\n",
        "ch = []\n",
        "ch_t = []\n",
        "sent = []\n",
        "sent_t = []"
      ],
      "execution_count": 0,
      "outputs": []
    },
    {
      "cell_type": "code",
      "metadata": {
        "id": "QVJlfr-f_ILH",
        "colab_type": "code",
        "colab": {}
      },
      "source": [
        "for x in data:\n",
        "  if len(x) == 3 and x[0] != '.' and x[0].isalpha():\n",
        "    sent.append(x[0])\n",
        "    pos.append(x[1])\n",
        "    ch.append(x[2])\n",
        "  elif len(x) != 0 and x[0] == '.':\n",
        "    pos_t.append(pos)\n",
        "    pos=[]\n",
        "    ch_t.append(ch)\n",
        "    ch=[]\n",
        "    sent_t.append(sent)\n",
        "    sent = []"
      ],
      "execution_count": 0,
      "outputs": []
    },
    {
      "cell_type": "code",
      "metadata": {
        "id": "qAbXgVt6JLlV",
        "colab_type": "code",
        "colab": {}
      },
      "source": [
        "np = []\n",
        "for x in Rules_NP:\n",
        "  rule = ''\n",
        "  for tag in x:\n",
        "    if tag.isalpha():\n",
        "      rule = rule+'<'+tag+'>'\n",
        "  rule = '{'+rule+'}'\n",
        "  np.append(rule)\n",
        "\n",
        "  np_grammer = 'NP:'\n",
        "  for rule in np:\n",
        "    np_grammer = np_grammer+'\\n'+rule\n",
        "    "
      ],
      "execution_count": 0,
      "outputs": []
    },
    {
      "cell_type": "code",
      "metadata": {
        "id": "wRK8PmS_KMlv",
        "colab_type": "code",
        "colab": {}
      },
      "source": [
        "vp = []\n",
        "for x in Rules_VP:\n",
        "  rule = ''\n",
        "  for tag in x:\n",
        "    if tag.isalpha():\n",
        "      rule = rule+'<'+tag+'>'\n",
        "  rule = '{'+rule+'}'\n",
        "  vp.append(rule)\n",
        "\n",
        "  vp_grammer = 'VP:'\n",
        "  for rule in vp:\n",
        "    vp_grammer = vp_grammer+'\\n'+rule"
      ],
      "execution_count": 0,
      "outputs": []
    },
    {
      "cell_type": "code",
      "metadata": {
        "id": "38fle3ARRFGN",
        "colab_type": "code",
        "colab": {}
      },
      "source": [
        "pp = []\n",
        "for x in Rules_PP:\n",
        "  rule = ''\n",
        "  for tag in x:\n",
        "    if tag.isalpha():\n",
        "      rule = rule+'<'+tag+'>'\n",
        "  rule = '{'+rule+'}'\n",
        "  vp.append(rule)\n",
        "\n",
        "  pp_grammer = 'PP:'\n",
        "  for rule in pp:\n",
        "    pp_grammer = pp_grammer+'\\n'+rule"
      ],
      "execution_count": 0,
      "outputs": []
    },
    {
      "cell_type": "code",
      "metadata": {
        "id": "BkLKzeAvKPdq",
        "colab_type": "code",
        "colab": {}
      },
      "source": [
        "chunkParser = nltk.RegexpParser(np_grammer)\n",
        "test_sents = conll2000.chunked_sents('test.txt', chunk_types=['NP'])"
      ],
      "execution_count": 0,
      "outputs": []
    },
    {
      "cell_type": "code",
      "metadata": {
        "id": "bSOeQkhkNVxu",
        "colab_type": "code",
        "outputId": "8d28a342-8abc-4965-9d74-108e19c95de8",
        "colab": {
          "base_uri": "https://localhost:8080/",
          "height": 102
        }
      },
      "source": [
        "print(chunkParser.evaluate(test_sents))"
      ],
      "execution_count": 27,
      "outputs": [
        {
          "output_type": "stream",
          "text": [
            "ChunkParse score:\n",
            "    IOB Accuracy:  47.8%%\n",
            "    Precision:     12.8%%\n",
            "    Recall:        36.3%%\n",
            "    F-Measure:     19.0%%\n"
          ],
          "name": "stdout"
        }
      ]
    },
    {
      "cell_type": "code",
      "metadata": {
        "id": "HDW8OSJssBn_",
        "colab_type": "code",
        "colab": {}
      },
      "source": [
        "chunkParser = nltk.RegexpParser(vp_grammer)\n",
        "test_sents = conll2000.chunked_sents('test.txt', chunk_types=['VP'])"
      ],
      "execution_count": 0,
      "outputs": []
    },
    {
      "cell_type": "code",
      "metadata": {
        "id": "TQTumEbntobT",
        "colab_type": "code",
        "colab": {
          "base_uri": "https://localhost:8080/",
          "height": 102
        },
        "outputId": "fbb5140c-2a86-4f74-ab90-f82b7aa579a9"
      },
      "source": [
        "print(chunkParser.evaluate(test_sents))"
      ],
      "execution_count": 29,
      "outputs": [
        {
          "output_type": "stream",
          "text": [
            "ChunkParse score:\n",
            "    IOB Accuracy:  37.3%%\n",
            "    Precision:      9.4%%\n",
            "    Recall:        68.9%%\n",
            "    F-Measure:     16.5%%\n"
          ],
          "name": "stdout"
        }
      ]
    },
    {
      "cell_type": "code",
      "metadata": {
        "id": "FEIpHHustspk",
        "colab_type": "code",
        "colab": {}
      },
      "source": [
        "chunkParser = nltk.RegexpParser(vp_grammer)\n",
        "test_sents = conll2000.chunked_sents('test.txt', chunk_types=['PP'])"
      ],
      "execution_count": 0,
      "outputs": []
    },
    {
      "cell_type": "code",
      "metadata": {
        "id": "ICsnki74twM-",
        "colab_type": "code",
        "colab": {
          "base_uri": "https://localhost:8080/",
          "height": 102
        },
        "outputId": "3d05f129-5b28-4814-ed58-cc0ac24f5299"
      },
      "source": [
        "print(chunkParser.evaluate(test_sents))"
      ],
      "execution_count": 31,
      "outputs": [
        {
          "output_type": "stream",
          "text": [
            "ChunkParse score:\n",
            "    IOB Accuracy:  26.2%%\n",
            "    Precision:      0.0%%\n",
            "    Recall:         0.0%%\n",
            "    F-Measure:      0.0%%\n"
          ],
          "name": "stdout"
        }
      ]
    },
    {
      "cell_type": "code",
      "metadata": {
        "id": "J7YsXLHBtzGu",
        "colab_type": "code",
        "colab": {}
      },
      "source": [
        "chunkParser = nltk.RegexpParser(np_grammer+vp_grammer+pp_grammer)\n",
        "test_sents = conll2000.chunked_sents('test.txt', chunk_types=['NP,VP,PP'])"
      ],
      "execution_count": 0,
      "outputs": []
    },
    {
      "cell_type": "code",
      "metadata": {
        "id": "rgKXz73nt9BU",
        "colab_type": "code",
        "colab": {
          "base_uri": "https://localhost:8080/",
          "height": 102
        },
        "outputId": "3d0dc973-ae8e-43de-956e-c2e537193f5f"
      },
      "source": [
        "print(chunkParser.evaluate(test_sents))"
      ],
      "execution_count": 33,
      "outputs": [
        {
          "output_type": "stream",
          "text": [
            "ChunkParse score:\n",
            "    IOB Accuracy:  13.4%%\n",
            "    Precision:      0.0%%\n",
            "    Recall:         0.0%%\n",
            "    F-Measure:      0.0%%\n"
          ],
          "name": "stdout"
        }
      ]
    },
    {
      "cell_type": "code",
      "metadata": {
        "id": "II4oGc7xt-9u",
        "colab_type": "code",
        "colab": {}
      },
      "source": [
        ""
      ],
      "execution_count": 0,
      "outputs": []
    }
  ]
}