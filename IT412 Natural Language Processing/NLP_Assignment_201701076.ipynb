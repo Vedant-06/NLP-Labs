{
 "cells": [
  {
   "cell_type": "code",
   "execution_count": 0,
   "metadata": {
    "colab": {},
    "colab_type": "code",
    "id": "zw64lX58_dyx"
   },
   "outputs": [],
   "source": [
    "import numpy as np\n",
    "import pandas as pd\n",
    "import nltk\n",
    "from nltk.stem import PorterStemmer\n",
    "from sklearn.cluster import AgglomerativeClustering\n",
    "import scipy.cluster.hierarchy as sch\n",
    "import matplotlib.pyplot as plt\n",
    "import math"
   ]
  },
  {
   "cell_type": "code",
   "execution_count": 2,
   "metadata": {
    "colab": {
     "base_uri": "https://localhost:8080/",
     "height": 34
    },
    "colab_type": "code",
    "id": "85YAhsna0l6o",
    "outputId": "7128dcc5-fedf-47f8-d8b6-96b142abc055"
   },
   "outputs": [
    {
     "name": "stdout",
     "output_type": "stream",
     "text": [
      "Drive already mounted at /content/drive; to attempt to forcibly remount, call drive.mount(\"/content/drive\", force_remount=True).\n"
     ]
    }
   ],
   "source": [
    "from google.colab import drive\n",
    "drive.mount('/content/drive')"
   ]
  },
  {
   "cell_type": "code",
   "execution_count": 0,
   "metadata": {
    "colab": {},
    "colab_type": "code",
    "id": "DA0DCBEy08OG"
   },
   "outputs": [],
   "source": [
    "with open(\"/content/drive/My Drive/stemming-assignment.txt\",\"r\") as file:\n",
    "    D = file.read()"
   ]
  },
  {
   "cell_type": "code",
   "execution_count": 0,
   "metadata": {
    "colab": {},
    "colab_type": "code",
    "id": "o0dAbfWk1c4j"
   },
   "outputs": [],
   "source": [
    "words = D.split(\"\\n\")"
   ]
  },
  {
   "cell_type": "code",
   "execution_count": 4,
   "metadata": {
    "colab": {
     "base_uri": "https://localhost:8080/",
     "height": 34
    },
    "colab_type": "code",
    "id": "kHS_C9ta1gEO",
    "outputId": "b192c42c-9d40-45ab-cb01-5b3179097b98"
   },
   "outputs": [
    {
     "data": {
      "text/plain": [
       "23532"
      ]
     },
     "execution_count": 4,
     "metadata": {
      "tags": []
     },
     "output_type": "execute_result"
    }
   ],
   "source": [
    "len(words)"
   ]
  },
  {
   "cell_type": "code",
   "execution_count": 0,
   "metadata": {
    "colab": {},
    "colab_type": "code",
    "id": "BiaIhiin16b8"
   },
   "outputs": [],
   "source": [
    "power_of_half = [pow(0.5,x) for x in range(50)]"
   ]
  },
  {
   "cell_type": "code",
   "execution_count": 0,
   "metadata": {
    "colab": {},
    "colab_type": "code",
    "id": "fNK8ypMU1ixp"
   },
   "outputs": [],
   "source": [
    "def d1(s1,s2):\n",
    "    d = 0\n",
    "    if (len(s2) < len(s1)):\n",
    "        s1, s2 = s2, s1\n",
    "    for i in range(len(s1)):\n",
    "        if s1[i] != s2[i]:\n",
    "            d = d + power_of_half[i]\n",
    "    for i in range(len(s2)-len(s1)):\n",
    "        d = d + power_of_half[len(s1)+i]\n",
    "    return d"
   ]
  },
  {
   "cell_type": "code",
   "execution_count": 0,
   "metadata": {
    "colab": {},
    "colab_type": "code",
    "id": "jEH9TZAm1phx"
   },
   "outputs": [],
   "source": [
    "def d2(s1,s2):\n",
    "    d = 0\n",
    "    d2 = 0 \n",
    "    d3 = 0\n",
    "    d4 = 0\n",
    "    m = 0\n",
    "    if (len(s2) < len(s1)):\n",
    "        s1, s2 = s2, s1\n",
    "    for i in range(len(s1)):\n",
    "        if s1[i] != s2[i]:\n",
    "            m = i\n",
    "            break\n",
    "    for i in range(len(s2)-m):\n",
    "        d = d + power_of_half[i]\n",
    "    if m != 0:\n",
    "      d2 = d/m\n",
    "      d3 = (len(s2)-m)*d/m\n",
    "      d4 = (len(s2)-m)*d/(len(s2))\n",
    "    else:\n",
    "      d2 = math.inf\n",
    "      d3 = math.inf\n",
    "      d4 = math.inf\n",
    "    return (d2,d3,d4)"
   ]
  },
  {
   "cell_type": "code",
   "execution_count": 0,
   "metadata": {
    "colab": {},
    "colab_type": "code",
    "id": "_-wvLZCk1tCU"
   },
   "outputs": [],
   "source": [
    "def dist(distance_,words):\n",
    "    dis = np.zeros((len(words),len(words)))\n",
    "    for x in range(len(words)):\n",
    "        for y in range(x,len(words)):\n",
    "     \n",
    "            if distance_ == 'd0':\n",
    "                dis[x][y] = levenshtein(words[x],words[y])\n",
    "            elif distance_ == 'd1':\n",
    "                dis[x][y] = d1(words[x],words[y])\n",
    "            dis[y][x] = dis[x][y]\n",
    "    return dis"
   ]
  },
  {
   "cell_type": "code",
   "execution_count": 0,
   "metadata": {
    "colab": {},
    "colab_type": "code",
    "id": "MmiQtABx10uG"
   },
   "outputs": [],
   "source": [
    "dis1 = dist(\"d1\",words)"
   ]
  },
  {
   "cell_type": "code",
   "execution_count": 0,
   "metadata": {
    "colab": {},
    "colab_type": "code",
    "id": "XuTTa4V3Hjmj"
   },
   "outputs": [],
   "source": [
    "import pickle\n",
    "with open(\"/content/drive/My Drive/dist1\", 'wb') as f:\n",
    "    pickle.dump(dis1,f, protocol=4)"
   ]
  },
  {
   "cell_type": "code",
   "execution_count": 0,
   "metadata": {
    "colab": {},
    "colab_type": "code",
    "id": "Sjrr_ltNDqAC"
   },
   "outputs": [],
   "source": [
    "def dist1(words):  \n",
    "  dis2 = np.zeros((len(words),len(words)))\n",
    "  dis3 = np.zeros((len(words),len(words)))\n",
    "  dis4 = np.zeros((len(words),len(words)))\n",
    "  for x in range(len(words)):\n",
    "    for y in range(x,len(words)):\n",
    "       dis2[x][y],dis3[x][y],dis4[x][y] = d2(words[x],words[y])\n",
    "  return (dis2,dis3,dis4)"
   ]
  },
  {
   "cell_type": "code",
   "execution_count": 0,
   "metadata": {
    "colab": {},
    "colab_type": "code",
    "id": "yhan3-932AHq"
   },
   "outputs": [],
   "source": [
    "dis2,dis3,dis4 = dist1(words)"
   ]
  },
  {
   "cell_type": "code",
   "execution_count": 0,
   "metadata": {
    "colab": {},
    "colab_type": "code",
    "id": "ASB96MBjKP4x"
   },
   "outputs": [],
   "source": [
    "import pickle\n",
    "with open(\"/content/drive/My Drive/dist2\", 'wb') as f:\n",
    "    pickle.dump(dis2,f, protocol=4)"
   ]
  },
  {
   "cell_type": "code",
   "execution_count": 0,
   "metadata": {
    "colab": {},
    "colab_type": "code",
    "id": "NMNztm7LQaVh"
   },
   "outputs": [],
   "source": [
    "import pickle\n",
    "with open(\"/content/drive/My Drive/dist3\", 'wb') as f:\n",
    "    pickle.dump(dis3,f, protocol=4)"
   ]
  },
  {
   "cell_type": "code",
   "execution_count": 0,
   "metadata": {
    "colab": {},
    "colab_type": "code",
    "id": "_hF0sdVcM8jC"
   },
   "outputs": [],
   "source": [
    "import pickle\n",
    "with open(\"/content/drive/My Drive/dist4\", 'wb') as f:\n",
    "    pickle.dump(dis4,f, protocol=4)"
   ]
  },
  {
   "cell_type": "code",
   "execution_count": 0,
   "metadata": {
    "colab": {},
    "colab_type": "code",
    "id": "bD33PhqmQhv7"
   },
   "outputs": [],
   "source": [
    "threshold = np.arange(np.min(dis1),np.max(dis1),(np.max(dis1)-np.min(dis1))/50)"
   ]
  },
  {
   "cell_type": "code",
   "execution_count": 11,
   "metadata": {
    "colab": {
     "base_uri": "https://localhost:8080/",
     "height": 867
    },
    "colab_type": "code",
    "id": "DX7tT9ApUhSE",
    "outputId": "aad2c187-a6e2-401b-f354-506b00511a78"
   },
   "outputs": [
    {
     "name": "stdout",
     "output_type": "stream",
     "text": [
      "0.0\n",
      "0.03999999970197678\n",
      "0.07999999940395355\n",
      "0.11999999910593033\n",
      "0.1599999988079071\n",
      "0.19999999850988387\n",
      "0.23999999821186066\n",
      "0.27999999791383745\n",
      "0.3199999976158142\n",
      "0.359999997317791\n",
      "0.39999999701976774\n",
      "0.43999999672174456\n",
      "0.4799999964237213\n",
      "0.5199999961256981\n",
      "0.5599999958276749\n",
      "0.5999999955296517\n",
      "0.6399999952316284\n",
      "0.6799999949336052\n",
      "0.719999994635582\n",
      "0.7599999943375587\n",
      "0.7999999940395355\n",
      "0.8399999937415124\n",
      "0.8799999934434891\n",
      "0.9199999931454659\n",
      "0.9599999928474426\n",
      "0.9999999925494194\n",
      "1.0399999922513963\n",
      "1.079999991953373\n",
      "1.1199999916553498\n",
      "1.1599999913573265\n",
      "1.1999999910593033\n",
      "1.23999999076128\n",
      "1.2799999904632569\n",
      "1.3199999901652337\n",
      "1.3599999898672104\n",
      "1.3999999895691873\n",
      "1.439999989271164\n",
      "1.4799999889731408\n",
      "1.5199999886751174\n",
      "1.5599999883770943\n",
      "1.599999988079071\n",
      "1.6399999877810478\n",
      "1.6799999874830247\n",
      "1.7199999871850014\n",
      "1.7599999868869782\n",
      "1.7999999865889549\n",
      "1.8399999862909318\n",
      "1.8799999859929084\n",
      "1.9199999856948853\n",
      "1.9599999853968622\n"
     ]
    }
   ],
   "source": [
    "nos_of_clusters = []\n",
    "for x in threshold:\n",
    "    print(x)\n",
    "    clustering = AgglomerativeClustering(n_clusters=None, affinity='precomputed', memory=None, connectivity=None, compute_full_tree='true',linkage='complete', distance_threshold=x)\n",
    "    y = clustering.fit_predict(dis1)\n",
    "    nos_of_clusters.append(np.max(y))"
   ]
  },
  {
   "cell_type": "code",
   "execution_count": 12,
   "metadata": {
    "colab": {
     "base_uri": "https://localhost:8080/",
     "height": 282
    },
    "colab_type": "code",
    "id": "7on_xNZvUpk8",
    "outputId": "32595ca8-1d57-4a0c-9dbc-442707aeb08a"
   },
   "outputs": [
    {
     "data": {
      "text/plain": [
       "[<matplotlib.lines.Line2D at 0x7ff3b5f933c8>]"
      ]
     },
     "execution_count": 12,
     "metadata": {
      "tags": []
     },
     "output_type": "execute_result"
    },
    {
     "data": {
      "image/png": "[encoded data removed]",
      "text/plain": [
       "<Figure size 432x288 with 1 Axes>"
      ]
     },
     "metadata": {
      "tags": []
     },
     "output_type": "display_data"
    }
   ],
   "source": [
    "plt.plot(threshold,nos_of_clusters)"
   ]
  },
  {
   "cell_type": "code",
   "execution_count": 0,
   "metadata": {
    "colab": {},
    "colab_type": "code",
    "id": "t2Qg6KwosSJJ"
   },
   "outputs": [],
   "source": [
    "clustering = AgglomerativeClustering(n_clusters=None, affinity='precomputed', memory=None, connectivity=None, compute_full_tree='true',linkage='complete', distance_threshold=0.51)\n",
    "y = clustering.fit_predict(dis1)\n",
    "clusters,cluster_counts = np.unique(y,return_counts= True)"
   ]
  },
  {
   "cell_type": "code",
   "execution_count": 0,
   "metadata": {
    "colab": {},
    "colab_type": "code",
    "id": "t5-dBkG9tBwp"
   },
   "outputs": [],
   "source": [
    "dic = {}\n",
    "stems = []\n",
    "i = 0\n",
    "for x in clusters:\n",
    "    l = []\n",
    "    for i in range(len(y)):\n",
    "        if y[i] == x:\n",
    "            l.append(words[i])\n",
    "    l.sort(key = len)\n",
    "    stems.append(l[0])\n",
    "    dic[x] = l\n",
    "        \n",
    "dic1 = {}\n",
    "for key,value in dic.items():\n",
    "    for x in value:\n",
    "        dic1[x] = key"
   ]
  },
  {
   "cell_type": "code",
   "execution_count": 0,
   "metadata": {
    "colab": {},
    "colab_type": "code",
    "id": "gghYLOwDtknj"
   },
   "outputs": [],
   "source": [
    "stemmer = PorterStemmer()"
   ]
  },
  {
   "cell_type": "code",
   "execution_count": 0,
   "metadata": {
    "colab": {},
    "colab_type": "code",
    "id": "TGIa0fBPtyVR"
   },
   "outputs": [],
   "source": [
    "counter = 0\n",
    "for word in words:\n",
    "    if stems[dic1[word]] == stemmer.stem(word):\n",
    "        #print(stems[dic1[word]])\n",
    "        #print(stemmer.stem(word))\n",
    "        counter = counter + 1"
   ]
  },
  {
   "cell_type": "code",
   "execution_count": 0,
   "metadata": {
    "colab": {},
    "colab_type": "code",
    "id": "meoV4N1wt0uv"
   },
   "outputs": [],
   "source": [
    "Eff = counter/len(words)"
   ]
  },
  {
   "cell_type": "code",
   "execution_count": 23,
   "metadata": {
    "colab": {
     "base_uri": "https://localhost:8080/",
     "height": 34
    },
    "colab_type": "code",
    "id": "Vdn2RMkYt2zb",
    "outputId": "b01a7248-b14d-4435-c7b6-e23fc805f4fd"
   },
   "outputs": [
    {
     "data": {
      "text/plain": [
       "370"
      ]
     },
     "execution_count": 23,
     "metadata": {
      "tags": []
     },
     "output_type": "execute_result"
    }
   ],
   "source": [
    "counter"
   ]
  },
  {
   "cell_type": "code",
   "execution_count": 0,
   "metadata": {
    "colab": {},
    "colab_type": "code",
    "id": "m0-sXMKUt4fa"
   },
   "outputs": [],
   "source": []
  }
 ],
 "metadata": {
  "colab": {
   "machine_shape": "hm",
   "name": "NLP_Assignment_201701076",
   "provenance": []
  },
  "kernelspec": {
   "display_name": "Python 3",
   "language": "python",
   "name": "python3"
  },
  "language_info": {
   "codemirror_mode": {
    "name": "ipython",
    "version": 3
   },
   "file_extension": ".py",
   "mimetype": "text/x-python",
   "name": "python",
   "nbconvert_exporter": "python",
   "pygments_lexer": "ipython3",
   "version": "3.7.3"
  }
 },
 "nbformat": 4,
 "nbformat_minor": 1
}
