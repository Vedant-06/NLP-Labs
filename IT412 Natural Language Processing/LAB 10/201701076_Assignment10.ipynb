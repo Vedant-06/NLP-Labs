{
  "nbformat": 4,
  "nbformat_minor": 0,
  "metadata": {
    "colab": {
      "name": "201701076_Assignment10.ipynb",
      "provenance": [],
      "collapsed_sections": []
    },
    "kernelspec": {
      "name": "python3",
      "display_name": "Python 3"
    },
    "accelerator": "GPU"
  },
  "cells": [
    {
      "cell_type": "code",
      "metadata": {
        "id": "Za45Mb2ucPs0",
        "colab_type": "code",
        "colab": {
          "base_uri": "https://localhost:8080/",
          "height": 34
        },
        "outputId": "0d9fbf62-c518-4fa6-ec12-f0ec845a1c24"
      },
      "source": [
        "from google.colab import drive\n",
        "drive.mount('/content/drive/')"
      ],
      "execution_count": null,
      "outputs": [
        {
          "output_type": "stream",
          "text": [
            "Drive already mounted at /content/drive/; to attempt to forcibly remount, call drive.mount(\"/content/drive/\", force_remount=True).\n"
          ],
          "name": "stdout"
        }
      ]
    },
    {
      "cell_type": "code",
      "metadata": {
        "id": "TZv8Hqd-fKTW",
        "colab_type": "code",
        "colab": {}
      },
      "source": [
        "import torch\n",
        "from torchtext import data\n",
        "from torchtext.vocab import Vectors\n",
        "import spacy\n",
        "import pandas as pd\n",
        "import numpy as np\n",
        "from sklearn.metrics import accuracy_score\n",
        "import os\n",
        "import time\n",
        "import torch.nn.functional as F\n",
        "from torch.autograd import Variable\n",
        "import torch.optim as optim\n",
        "import torchtext as text"
      ],
      "execution_count": null,
      "outputs": []
    },
    {
      "cell_type": "code",
      "metadata": {
        "id": "zMZuBkFHcbBp",
        "colab_type": "code",
        "colab": {
          "base_uri": "https://localhost:8080/",
          "height": 34
        },
        "outputId": "d7911c6f-2fc5-45b0-9795-989b7aeeb784"
      },
      "source": [
        "%cd /content/drive/My Drive/Classroom/Ass10"
      ],
      "execution_count": null,
      "outputs": [
        {
          "output_type": "stream",
          "text": [
            "/content/drive/My Drive/Classroom/Ass10\n"
          ],
          "name": "stdout"
        }
      ]
    },
    {
      "cell_type": "code",
      "metadata": {
        "id": "a0XBrH1zRHHY",
        "colab_type": "code",
        "colab": {}
      },
      "source": [
        "SEED = 42\n",
        "torch.manual_seed(SEED)\n",
        "torch.backends.cudnn.deterministic = True  "
      ],
      "execution_count": null,
      "outputs": []
    },
    {
      "cell_type": "code",
      "metadata": {
        "id": "G4LjoTSPRHzv",
        "colab_type": "code",
        "colab": {}
      },
      "source": [
        "TEXT = data.Field(tokenize='spacy',batch_first=True,include_lengths=True)\n",
        "LABEL = data.LabelField(dtype = torch.float,batch_first=True)"
      ],
      "execution_count": null,
      "outputs": []
    },
    {
      "cell_type": "code",
      "metadata": {
        "id": "9Uoff1rYRNJt",
        "colab_type": "code",
        "colab": {}
      },
      "source": [
        "fields = [('text',TEXT),('label', LABEL)]"
      ],
      "execution_count": null,
      "outputs": []
    },
    {
      "cell_type": "code",
      "metadata": {
        "id": "_d54zHJERO6o",
        "colab_type": "code",
        "colab": {
          "base_uri": "https://localhost:8080/",
          "height": 34
        },
        "outputId": "5d1ca20e-db07-44c9-9422-6c233ceb8ba1"
      },
      "source": [
        "#loading custom dataset\n",
        "training_data=data.TabularDataset(path = 'train.csv',format = 'csv',fields = fields,skip_header = True)\n",
        "valid_data = data.TabularDataset(path = 'test.csv',format = 'csv',fields = fields,skip_header = True)\n",
        "\n",
        "#print preprocessed text\n",
        "print(vars(training_data.examples[0]))"
      ],
      "execution_count": null,
      "outputs": [
        {
          "output_type": "stream",
          "text": [
            "{'text': ['21', 'Times', 'British', 'People', 'Confused', 'The', 'Hell', 'Out', 'Of', 'Everyone', 'On', 'Twitter'], 'label': 'clickbait'}\n"
          ],
          "name": "stdout"
        }
      ]
    },
    {
      "cell_type": "code",
      "metadata": {
        "id": "DEcrZVt8SK7T",
        "colab_type": "code",
        "colab": {}
      },
      "source": [
        "import random\n",
        "train_data = training_data"
      ],
      "execution_count": null,
      "outputs": []
    },
    {
      "cell_type": "code",
      "metadata": {
        "id": "TV0lLZzqv589",
        "colab_type": "code",
        "colab": {
          "base_uri": "https://localhost:8080/",
          "height": 105
        },
        "outputId": "6e22ba30-18b3-4c6a-c5f3-64e31f8678ea"
      },
      "source": [
        "TEXT.build_vocab(train_data,min_freq=3,vectors = \"glove.6B.50d\")  \n",
        "LABEL.build_vocab(train_data)\n",
        "\n",
        "print(\"Size of TEXT vocabulary: \",len(TEXT.vocab))\n",
        "print(\"Size of LABEL vocabulary:\",len(LABEL.vocab))\n",
        "print(TEXT.vocab.freqs.most_common(10))\n",
        "print(TEXT.vocab.stoi)   "
      ],
      "execution_count": null,
      "outputs": [
        {
          "output_type": "stream",
          "text": [
            "Size of TEXT vocabulary:  9569\n",
            "Size of LABEL vocabulary: 2\n",
            "[('You', 4438), ('\"', 4274), ('The', 4099), ('in', 3464), (',', 3233), ('to', 2743), ('To', 2601), (\"'s\", 2375), ('A', 2301), ('of', 2142)]\n",
            "defaultdict(<function _default_unk_index at 0x7f65acfc61e0>, {'<unk>': 0, '<pad>': 1, 'You': 2, '\"': 3, 'The': 4, 'in': 5, ',': 6, 'to': 7, 'To': 8, \"'s\": 9, 'A': 10, 'of': 11, 'Your': 12, '-': 13, 'Of': 14, 'In': 15, 'Are': 16, 'That': 17, 'Is': 18, 'This': 19, 'for': 20, 'And': 21, 'On': 22, 'For': 23, 'Will': 24, 'What': 25, 'the': 26, 'With': 27, 'on': 28, 'and': 29, \"'\": 30, 'a': 31, 'About': 32, 'Who': 33, 'New': 34, ':': 35, 'Things': 36, 'From': 37, 'People': 38, 'How': 39, 'at': 40, 'Which': 41, 'We': 42, 'Know': 43, 'Make': 44, 'Can': 45, 'Do': 46, 'It': 47, '17': 48, '21': 49, 'Should': 50, 'Be': 51, 'Based': 52, 'US': 53, '19': 54, 'These': 55, 'At': 56, 'Actually': 57, 'Have': 58, 'All': 59, 'Times': 60, \"n't\": 61, 'U.S.': 62, 'by': 63, 'Here': 64, 'Their': 65, 'after': 66, 'Like': 67, 'Up': 68, 'Was': 69, 'If': 70, '2015': 71, 'as': 72, 'Best': 73, 'Life': 74, 'Most': 75, 'One': 76, 'Out': 77, 'Or': 78, 'When': 79, \"'ll\": 80, 'More': 81, 'An': 82, 'Need': 83, 'Just': 84, 'His': 85, 'World': 86, 'First': 87, 'Time': 88, 'Has': 89, '18': 90, '15': 91, '23': 92, 'with': 93, 'As': 94, 'I': 95, \"'re\": 96, 'Get': 97, 'Ever': 98, 'Every': 99, 'Her': 100, 'dies': 101, 'from': 102, 'dead': 103, 'UK': 104, 'Zodiac': 105, 'Day': 106, 'Real': 107, 'Everyone': 108, 'Love': 109, 'British': 110, 'over': 111, 'killed': 112, 'Obama': 113, 'Too': 114, 'Were': 115, '13': 116, 'Favorite': 117, 'Would': 118, 'By': 119, '22': 120, 'After': 121, 'Way': 122, 'Only': 123, 'Australian': 124, 'Photos': 125, 'Pictures': 126, 'Sign': 127, 'Over': 128, 'Women': 129, 'Tweets': 130, 'Ways': 131, 'Understand': 132, 'Christmas': 133, 'Halloween': 134, 'No': 135, '16': 136, 'They': 137, 'Character': 138, 'Really': 139, 'Game': 140, 'Now': 141, 'Guess': 142, 'Never': 143, 'Show': 144, '24': 145, ';': 146, 'Star': 147, 'China': 148, 'Iraq': 149, 'Well': 150, 'kills': 151, 'Disney': 152, 'Reasons': 153, 'Questions': 154, '27': 155, 'Not': 156, 'Had': 157, 'Look': 158, 'wins': 159, 'Movie': 160, 'Man': 161, 'Year': 162, '$': 163, 'Two': 164, 'So': 165, 'Why': 166, '11': 167, 'Tell': 168, 'Try': 169, '12': 170, 'Hilarious': 171, 'Its': 172, 'TV': 173, 'Us': 174, 'Harry': 175, 'Video': 176, 'Into': 177, 'President': 178, 'South': 179, 'Want': 180, '25': 181, 'Did': 182, 'India': 183, 'Made': 184, 'new': 185, 'See': 186, '14': 187, 'Pakistan': 188, 'Being': 189, 'Canadian': 190, 'Thing': 191, 'American': 192, 'Got': 193, 'Week': 194, 'Food': 195, 'Watch': 196, '2016': 197, 'Looks': 198, 'found': 199, '10': 200, 'crash': 201, 'Song': 202, 'Test': 203, 'Than': 204, '2': 205, 'North': 206, 'London': 207, 'Old': 208, 'Remember': 209, 'Woman': 210, \"'ve\": 211, 'Right': 212, 'House': 213, '20': 214, 'Kids': 215, 'Laugh': 216, 'Potter': 217, 'Says': 218, 'Sex': 219, 'Instagram': 220, 'York': 221, '.': 222, '7': 223, 'Former': 224, 'Girl': 225, 'Say': 226, 'Canada': 227, 'Much': 228, 'Internet': 229, 'Perfect': 230, '2008': 231, '26': 232, 'Adorable': 233, 'Home': 234, 'police': 235, 'California': 236, 'Off': 237, '?': 238, 'Australia': 239, 'Take': 240, 'Friends': 241, 'Anyone': 242, 'Black': 243, 'Back': 244, 'Gifts': 245, 'first': 246, 'Hair': 247, 'Name': 248, 'Prove': 249, '9': 250, 'Give': 251, 'Court': 252, 'Iran': 253, 'Little': 254, 'Some': 255, 'Totally': 256, '%': 257, 'Big': 258, 'Confessions': 259, 'Girls': 260, 'Men': 261, 'Movies': 262, 'West': 263, 'government': 264, 'says': 265, 'Wars': 266, 'be': 267, 'Celebrity': 268, 'Down': 269, 'United': 270, 'arrested': 271, 'but': 272, 'May': 273, 'Perfectly': 274, 'Said': 275, 'Years': 276, 'Cup': 277, 'Fall': 278, 'Guy': 279, 'Better': 280, 'Everything': 281, 'My': 282, '29': 283, 'Dog': 284, 'School': 285, 'She': 286, 'age': 287, 'least': 288, 'Could': 289, 'Party': 290, 'Afghanistan': 291, 'Fans': 292, 'Good': 293, 'France': 294, 'Taylor': 295, 'True': 296, 'president': 297, 'Amazing': 298, 'City': 299, 'Does': 300, 'He': 301, 'Help': 302, 'Indian': 303, 'against': 304, 'an': 305, 'Makeup': 306, 'Before': 307, 'England': 308, 'Find': 309, 'Music': 310, 'Swift': 311, 'fire': 312, 'Feel': 313, 'Question': 314, 'Bush': 315, 'Hot': 316, 'Korea': 317, 'Live': 318, 'Moments': 319, 'Worst': 320, '1': 321, '3': 322, 'Characters': 323, 'Family': 324, 'Happened': 325, 'Many': 326, 'Person': 327, 'Struggles': 328, 'Talk': 329, '31': 330, 'Single': 331, 'Wikinews': 332, 'Bank': 333, 'Easy': 334, ' ': 335, 'Baby': 336, 'Eat': 337, 'Go': 338, 'Wedding': 339, 'Been': 340, 'Delicious': 341, 'League': 342, 'Red': 343, 'Signs': 344, 'While': 345, 'Work': 346, 'attack': 347, 'earthquake': 348, 'into': 349, '5': 350, 'AF': 351, 'election': 352, 'off': 353, 'two': 354, 'Russia': 355, 'Texas': 356, 'During': 357, 'Japan': 358, 'States': 359, '30': 360, 'Case': 361, 'College': 362, 'Last': 363, 'Obsessed': 364, 'Police': 365, 'Super': 366, 'UN': 367, 'Zealand': 368, 'bomb': 369, '8': 370, 'America': 371, 'Cast': 372, 'Cat': 373, 'Going': 374, 'High': 375, 'Three': 376, 'Chinese': 377, 'Needs': 378, 'Products': 379, 'Still': 380, 'Twitter': 381, '100': 382, 'Iraqi': 383, 'Other': 384, 'Thanksgiving': 385, 'Dogs': 386, 'French': 387, 'Someone': 388, 'Words': 389, 'is': 390, 'Book': 391, 'State': 392, 'White': 393, 'million': 394, ')': 395, 'Beautiful': 396, 'Florida': 397, 'Photo': 398, 'Russian': 399, 'Against': 400, 'Cute': 401, 'European': 402, 'John': 403, 'Minister': 404, 'announces': 405, 'crashes': 406, 'Afghan': 407, 'Air': 408, 'David': 409, 'Friend': 410, 'Literally': 411, 'Tried': 412, 'death': 413, 'Color': 414, 'Football': 415, 'Four': 416, 'Guaranteed': 417, 'There': 418, 'Through': 419, 'Went': 420, 'Books': 421, 'Deal': 422, 'Happen': 423, 'Israel': 424, 'Parents': 425, 'Relationship': 426, 'Season': 427, 'launches': 428, 'Holiday': 429, 'Lyrics': 430, 'Quiz': 431, 'Stop': 432, 'Top': 433, 'nuclear': 434, 'Beauty': 435, 'Guys': 436, 'Insanely': 437, 'Own': 438, 'Without': 439, '4': 440, '90s': 441, 'Damn': 442, 'Games': 443, 'Michael': 444, 'Plan': 445, 'Senate': 446, 'Tumblr': 447, 'claims': 448, 'Determine': 449, 'Facebook': 450, 'Grand': 451, 'Long': 452, 'Making': 453, 'court': 454, 'Again': 455, 'Change': 456, 'Israeli': 457, 'Justin': 458, 'Posts': 459, 'interviews': 460, 'presidential': 461, 'year': 462, 'Lady': 463, 'Office': 464, 'Story': 465, 'Win': 466, 'may': 467, 'plane': 468, 'Celebrities': 469, 'Date': 470, 'Force': 471, 'Health': 472, 'Our': 473, 'Space': 474, 'Valentine': 475, 'more': 476, 'BuzzFeed': 477, 'Ca': 478, 'Google': 479, 'Group': 480, 'Horror': 481, 'Jenner': 482, 'Songs': 483, 'Tour': 484, 'injured': 485, 'people': 486, '2007': 487, 'But': 488, 'Dad': 489, 'Definitely': 490, 'Europe': 491, 'Face': 492, 'Gaza': 493, 'Probably': 494, 'Today': 495, 'Use': 496, 'Wo': 497, 'hits': 498, 'win': 499, '6': 500, 'Adele': 501, 'Ex': 502, 'Funny': 503, 'Honest': 504, 'Quotes': 505, 'Recipes': 506, 'Vs': 507, 'elections': 508, 'man': 509, 'years': 510, '28': 511, 'Fan': 512, 'Mom': 513, 'Money': 514, 'National': 515, 'Next': 516, 'record': 517, 'Chief': 518, 'History': 519, 'Loss': 520, 'Month': 521, 'military': 522, 'up': 523, 'Bad': 524, 'Birth': 525, 'Faces': 526, 'Fucking': 527, 'Great': 528, 'Identify': 529, 'Mexico': 530, 'Shows': 531, 'Think': 532, 'Dead': 533, 'International': 534, 'Kardashian': 535, 'Open': 536, 'Series': 537, 'Union': 538, 'aged': 539, 'candidate': 540, 'down': 541, 'leader': 542, 'one': 543, 'Animals': 544, 'Cats': 545, 'Leader': 546, 'Meet': 547, 'Profit': 548, 'Taliban': 549, 'Very': 550, 'Weird': 551, 'near': 552, 'out': 553, 'strike': 554, 'three': 555, 'Answer': 556, 'Around': 557, 'Mets': 558, 'Might': 559, 'Read': 560, 'Second': 561, 'University': 562, 'football': 563, 'murder': 564, 'Classic': 565, 'Completely': 566, 'Costumes': 567, 'Different': 568, 'Even': 569, 'Future': 570, 'German': 571, 'News': 572, 'Play': 573, 'San': 574, 'Set': 575, 'charged': 576, '&': 577, '2009': 578, 'Apple': 579, 'Body': 580, 'Couple': 581, 'Gay': 582, 'Iconic': 583, 'Important': 584, 'Makes': 585, 'Phone': 586, 'Them': 587, 'not': 588, 'Couples': 589, 'Hard': 590, 'Japanese': 591, 'Keep': 592, 'Matches': 593, 'Same': 594, 'Thrones': 595, 'War': 596, 'Where': 597, 'Winter': 598, 'state': 599, 'Asked': 600, 'Because': 601, 'Buy': 602, 'Hate': 603, 'Night': 604, 'Seen': 605, 'Small': 606, 'Thoughts': 607, 'kill': 608, 'will': 609, '(': 610, '2010': 611, 'Americans': 612, 'Names': 613, 'Pop': 614, 'Takes': 615, 'Taste': 616, 'Told': 617, 'Trump': 618, 'Zimbabwe': 619, 'about': 620, 'Bomb': 621, 'Death': 622, 'Donald': 623, 'Famous': 624, 'Final': 625, 'Five': 626, 'Funniest': 627, 'Getting': 628, 'Me': 629, 'Personality': 630, 'Post': 631, 'Pretty': 632, 'Report': 633, 'ban': 634, 'sex': 635, 'shot': 636, 'war': 637, 'Car': 638, 'PM': 639, 'Prime': 640, 'oil': 641, 'world': 642, '50': 643, 'Africa': 644, 'Art': 645, 'Bieber': 646, 'Britain': 647, 'Drunk': 648, 'EU': 649, 'Lost': 650, 'Mind': 651, 'Move': 652, 'Plans': 653, 'car': 654, 'case': 655, 'party': 656, 'Another': 657, 'Coast': 658, 'Costume': 659, 'Cover': 660, 'Depression': 661, 'Fire': 662, 'Happens': 663, 'Incredibly': 664, 'Kind': 665, 'Let': 666, 'Power': 667, 'Suicide': 668, 'Team': 669, 'Texts': 670, 'Tips': 671, 'Turkey': 672, 'Yankees': 673, 'during': 674, 'rules': 675, 'strikes': 676, 'Age': 677, 'Ask': 678, 'Awesome': 679, 'Belong': 680, 'Called': 681, 'Doing': 682, 'Job': 683, 'Kid': 684, 'Kim': 685, 'Reveal': 686, 'Shit': 687, 'Study': 688, 'Wrong': 689, 'bombing': 690, 'protest': 691, '32': 692, 'African': 693, 'Awkward': 694, 'Bill': 695, 'Chile': 696, 'Cut': 697, 'Hogwarts': 698, 'Judge': 699, 'Killed': 700, 'Looking': 701, 'Moment': 702, 'Pizza': 703, 'Put': 704, 'Stories': 705, 'Taiwan': 706, 'Washington': 707, 'Won': 708, 'YouTube': 709, 'anti': 710, 'day': 711, 'de': 712, 'have': 713, 'hit': 714, 'protests': 715, 'Animal': 716, 'Dating': 717, 'Drake': 718, 'Eating': 719, 'End': 720, 'Found': 721, 'Heart': 722, 'Kanye': 723, 'Korean': 724, 'Part': 725, 'Secret': 726, 'Sum': 727, 'die': 728, 'reported': 729, 'suicide': 730, 'that': 731, 'vote': 732, '33': 733, 'Absolutely': 734, 'Fashion': 735, 'Golden': 736, 'Having': 737, 'Human': 738, 'Ideas': 739, 'Italian': 740, 'Jennifer': 741, 'Pay': 742, 'Race': 743, 'Sri': 744, 'Start': 745, 'Street': 746, 'Tom': 747, 'Wins': 748, 'iPhone': 749, 'launch': 750, 'missing': 751, 'troops': 752, '#': 753, 'Advice': 754, 'Aid': 755, 'Amy': 756, 'Artist': 757, 'Church': 758, 'Clinton': 759, 'Insane': 760, 'Ryan': 761, 'Supreme': 762, 'Taking': 763, 'Tax': 764, 'calls': 765, 'flu': 766, 'school': 767, '00s': 768, 'Always': 769, 'Behind': 770, 'Each': 771, 'Free': 772, 'G.M.': 773, 'Goals': 774, 'Green': 775, 'Illinois': 776, 'Match': 777, 'Mean': 778, 'Microsoft': 779, 'Public': 780, 'Somali': 781, 'Tattoos': 782, 'Trailer': 783, 'explosion': 784, 'flight': 785, 'group': 786, 'minister': 787, 'released': 788, 'report': 789, '2005': 790, 'BBC': 791, 'Billion': 792, 'Bring': 793, 'Call': 794, 'Charts': 795, 'Cool': 796, 'Economy': 797, 'Facts': 798, 'Film': 799, 'Gave': 800, 'Incredible': 801, 'Ireland': 802, 'Media': 803, 'Pope': 804, 'Premier': 805, 'Sales': 806, 'Science': 807, 'Style': 808, 'Tiny': 809, 'Trying': 810, 'Wants': 811, 'Watching': 812, 'begins': 813, 'second': 814, 'Awards': 815, 'Chris': 816, 'Germany': 817, 'Government': 818, 'Greatest': 819, 'Hilariously': 820, 'Knows': 821, 'Model': 822, 'Northern': 823, 'Online': 824, 'Paris': 825, 'Prix': 826, 'Rock': 827, 'Scotland': 828, 'Secrets': 829, 'Six': 830, 'Spain': 831, 'Student': 832, 'Talks': 833, 'Williams': 834, 'Wish': 835, 'plans': 836, 'train': 837, 'Away': 838, 'Badass': 839, 'Baseball': 840, 'Between': 841, 'Biggest': 842, 'Crisis': 843, 'Die': 844, 'Early': 845, 'English': 846, 'Finds': 847, 'Hurricane': 848, 'James': 849, 'Lives': 850, 'Looked': 851, 'Mexican': 852, 'NASA': 853, 'Random': 854, 'Round': 855, 'Santa': 856, 'Slightly': 857, 'Wear': 858, 'Wikipedia': 859, 'Workers': 860, 'aid': 861, 'four': 862, 'say': 863, 'Cards': 864, 'Care': 865, 'Challenge': 866, 'Episode': 867, 'Genius': 868, 'Gorgeous': 869, 'Jones': 870, 'Kill': 871, 'Kills': 872, 'Learned': 873, 'Military': 874, 'Security': 875, 'Students': 876, 'Title': 877, 'Together': 878, 'Turn': 879, 'air': 880, 'are': 881, 'guilty': 882, 'home': 883, 'leaves': 884, 'or': 885, \"'m\": 886, 'Believe': 887, 'Boy': 888, 'Candy': 889, 'Children': 890, 'Crossword': 891, 'Desserts': 892, 'Doctor': 893, 'Far': 894, 'Foods': 895, 'Healthy': 896, 'Indonesia': 897, 'Jobs': 898, 'Knicks': 899, 'Lovers': 900, 'Loves': 901, 'Married': 902, 'Oil': 903, 'Queen': 904, 'Rules': 905, 'Stimulus': 906, 'Then': 907, 'Trial': 908, 'USA': 909, 'Victory': 910, 'Web': 911, 'all': 912, 'attacks': 913, 'bus': 914, 'children': 915, 'final': 916, 'five': 917, 'makes': 918, 'resigns': 919, 'than': 920, 'Airlines': 921, 'Brazilian': 922, 'Crush': 923, 'Earth': 924, 'Feels': 925, 'Fight': 926, 'Fuck': 927, 'Late': 928, 'Netflix': 929, 'Picture': 930, 'Places': 931, 'Posters': 932, 'Rose': 933, 'Scientology': 934, 'Toronto': 935, 'Under': 936, 'Young': 937, 'bill': 938, 'billion': 939, 'old': 940, 'public': 941, 'security': 942, 'set': 943, 'six': 944, 'was': 945, 'woman': 946, 'Album': 947, 'BFF': 948, 'Brazil': 949, 'Cheese': 950, 'East': 951, 'Gets': 952, 'Him': 953, 'Hit': 954, 'Hollywood': 955, 'Italy': 956, 'Jackson': 957, 'Jersey': 958, 'Lawrence': 959, 'Official': 960, 'Place': 961, 'Powerful': 962, 'Role': 963, 'Sea': 964, 'Senator': 965, 'Son': 966, 'Teen': 967, 'Thai': 968, 'accident': 969, 'coast': 970, 'former': 971, 'held': 972, 'helicopter': 973, 'high': 974, 'rocket': 975, 'Awakens': 976, 'Banks': 977, 'Cutest': 978, 'Drop': 979, 'Friday': 980, 'Gilmore': 981, 'Interview': 982, 'Iranian': 983, 'Kylie': 984, 'Loud': 985, 'Major': 986, 'Must': 987, 'Officials': 988, 'Prince': 989, 'Ready': 990, 'Ridiculously': 991, 'Sense': 992, 'Share': 993, 'Social': 994, 'Storm': 995, 'Used': 996, 'Using': 997, 'Vote': 998, 'Yourself': 999, 'becomes': 1000, 'due': 1001, 'emergency': 1002, 'injures': 1003, 'jet': 1004, 'reports': 1005, 'run': 1006, 'trial': 1007, \"'d\": 1008, '2006': 1009, '34': 1010, 'Adult': 1011, 'Anxiety': 1012, 'Budget': 1013, 'Changing': 1014, 'Childhood': 1015, 'Chocolate': 1016, 'Control': 1017, 'Finally': 1018, 'Forever': 1019, 'Gas': 1020, 'Gender': 1021, 'Gives': 1022, 'Happy': 1023, 'Immediately': 1024, 'Madoff': 1025, 'Mars': 1026, 'Million': 1027, 'Mumbai': 1028, 'Pakistani': 1029, 'Relate': 1030, 'Return': 1031, 'Send': 1032, 'Stars': 1033, 'Wales': 1034, 'campaign': 1035, 'child': 1036, 'its': 1037, 'opposition': 1038, 'show': 1039, 'video': 1040, 'Britney': 1041, 'Chicago': 1042, 'Fake': 1043, 'Flight': 1044, 'Formula': 1045, 'Gaga': 1046, 'General': 1047, 'Gift': 1048, 'Hear': 1049, 'Hearing': 1050, 'Lanka': 1051, 'Lead': 1052, 'Leave': 1053, 'Living': 1054, 'Olympic': 1055, 'Plane': 1056, 'Reminder': 1057, 'Response': 1058, 'Scream': 1059, 'Town': 1060, 'Turns': 1061, 'Violence': 1062, 'Virginia': 1063, 'Wall': 1064, 'Whole': 1065, 'Wore': 1066, 'accused': 1067, 'continues': 1068, 'drug': 1069, 'opens': 1070, 'political': 1071, 'warns': 1072, 'Army': 1073, 'Bankruptcy': 1074, 'Boyfriend': 1075, 'Business': 1076, 'Child': 1077, 'Company': 1078, 'Cry': 1079, 'Cuts': 1080, 'Drink': 1081, 'Egyptian': 1082, 'Epic': 1083, 'Failed': 1084, 'Gomez': 1085, 'Heartbreaking': 1086, 'Helped': 1087, 'Ice': 1088, 'Inquiry': 1089, 'Inside': 1090, 'Lessons': 1091, 'Low': 1092, 'Oscar': 1093, 'Past': 1094, 'Philippines': 1095, 'Princess': 1096, 'Prison': 1097, 'Problems': 1098, 'Recession': 1099, 'Rise': 1100, 'Run': 1101, 'Scottish': 1102, 'Seeks': 1103, 'Shares': 1104, 'Short': 1105, 'Straight': 1106, 'Talking': 1107, 'Took': 1108, 'Tropical': 1109, 'Type': 1110, 'bomber': 1111, 'close': 1112, 'deal': 1113, 'prison': 1114, 'reaches': 1115, 'ship': 1116, 'soldiers': 1117, 'support': 1118, 'suspected': 1119, 'under': 1120, '35': 1121, 'Airport': 1122, 'Alone': 1123, 'Baghdad': 1124, 'Bowl': 1125, 'Canadians': 1126, 'Chill': 1127, 'Cold': 1128, 'Crazy': 1129, 'Election': 1130, 'Fast': 1131, 'Francisco': 1132, 'Governor': 1133, 'Hacks': 1134, 'Hamilton': 1135, 'Head': 1136, 'Irish': 1137, 'Less': 1138, 'Pick': 1139, 'Reality': 1140, 'Scientists': 1141, 'Selena': 1142, 'Shuttle': 1143, 'Simple': 1144, 'Something': 1145, 'Spears': 1146, 'U.N.': 1147, 'Ultimate': 1148, 'Worth': 1149, 'forces': 1150, 'investigation': 1151, 'killing': 1152, 'officer': 1153, 'passes': 1154, 'release': 1155, 'satellite': 1156, 'shooting': 1157, 'talks': 1158, 'test': 1159, 'victims': 1160, '!': 1161, 'According': 1162, 'Ad': 1163, 'Almost': 1164, 'Blow': 1165, 'Buffalo': 1166, 'Close': 1167, 'Direction': 1168, 'Energy': 1169, 'Eye': 1170, 'Fear': 1171, 'Financial': 1172, 'Grew': 1173, 'Hardest': 1174, 'Houses': 1175, 'Johnson': 1176, 'King': 1177, 'Lover': 1178, 'Moves': 1179, 'Pumpkin': 1180, 'Quote': 1181, 'Sexy': 1182, 'Size': 1183, 'Somalia': 1184, 'Spanish': 1185, 'Stay': 1186, 'Third': 1187, 'Thousands': 1188, 'Wanted': 1189, 'blast': 1190, 'building': 1191, 'charges': 1192, 'continue': 1193, 'defeat': 1194, 'end': 1195, 'face': 1196, 'game': 1197, 'has': 1198, 'no': 1199, 'parliament': 1200, 'rights': 1201, 'same': 1202, 'storm': 1203, 'time': 1204, 'women': 1205, '/': 1206, '42': 1207, 'Actual': 1208, 'Add': 1209, 'Appreciate': 1210, 'Asian': 1211, 'Battle': 1212, 'Bob': 1213, 'Bollywood': 1214, 'Boston': 1215, 'Championship': 1216, 'Choose': 1217, 'Come': 1218, 'Crash': 1219, 'Cricket': 1220, 'December': 1221, 'Despite': 1222, 'Dinner': 1223, 'Ends': 1224, 'Fraud': 1225, 'George': 1226, 'Hell': 1227, 'Killing': 1228, 'Least': 1229, 'Left': 1230, 'Marriage': 1231, 'Memes': 1232, 'Met': 1233, 'Michigan': 1234, 'NATO': 1235, 'Nine': 1236, 'Quarter': 1237, 'Reason': 1238, 'Reports': 1239, 'Rights': 1240, 'Save': 1241, 'Search': 1242, 'Sudan': 1243, 'Surprise': 1244, 'Trade': 1245, 'Trans': 1246, 'Victoria': 1247, 'bombings': 1248, 'breaks': 1249, 'crisis': 1250, 'ends': 1251, 'plant': 1252, 'power': 1253, 'service': 1254, 'seven': 1255, 'takes': 1256, 'team': 1257, 'terror': 1258, 'workers': 1259, '39': 1260, '40': 1261, 'Beyond': 1262, 'Board': 1263, 'Brown': 1264, 'Bunch': 1265, 'Channel': 1266, 'Coach': 1267, 'Coffee': 1268, 'Debate': 1269, 'Dreams': 1270, 'Drug': 1271, 'Egypt': 1272, 'Ellen': 1273, 'Eyes': 1274, 'Fails': 1275, 'Favourite': 1276, 'Female': 1277, 'Full': 1278, 'Haiti': 1279, 'Industry': 1280, 'Jokes': 1281, 'Justice': 1282, 'Knew': 1283, 'Level': 1284, 'Magical': 1285, 'Minutes': 1286, 'NFL': 1287, 'Order': 1288, 'Park': 1289, 'Parliament': 1290, 'Porn': 1291, 'Presidential': 1292, 'Prices': 1293, 'Princesses': 1294, 'Secretary': 1295, 'Sexual': 1296, 'Snapchat': 1297, 'Struggle': 1298, 'Stunning': 1299, 'Summed': 1300, 'Summer': 1301, 'Tattoo': 1302, 'Treats': 1303, 'Wearing': 1304, 'al': 1305, 'being': 1306, 'deaths': 1307, 'his': 1308, 'magnitude': 1309, 'marriage': 1310, 'plan': 1311, '500': 1312, 'Accused': 1313, 'Al': 1314, 'Any': 1315, 'Attack': 1316, 'Attacks': 1317, 'Band': 1318, 'Bond': 1319, 'Bowie': 1320, 'Breakfast': 1321, 'Cake': 1322, 'Calls': 1323, 'Changed': 1324, 'Congress': 1325, 'DIY': 1326, 'Dance': 1327, 'Decline': 1328, 'DiCaprio': 1329, 'Done': 1330, 'Dress': 1331, 'Experience': 1332, 'Films': 1333, 'GIFs': 1334, 'Island': 1335, 'Kendall': 1336, 'Kingdom': 1337, 'Law': 1338, 'Listen': 1339, 'Magazine': 1340, 'Market': 1341, 'Mayor': 1342, 'Musical': 1343, 'Near': 1344, 'Ocean': 1345, 'Offer': 1346, 'Paul': 1347, 'Qaeda': 1348, 'Queens': 1349, 'Saudi': 1350, 'Shot': 1351, 'Shut': 1352, 'Slow': 1353, 'Squad': 1354, 'Stage': 1355, 'Sydney': 1356, 'Thinks': 1357, 'Tired': 1358, 'Truly': 1359, 'X': 1360, 'between': 1361, 'declares': 1362, 'eight': 1363, 'faces': 1364, 'finds': 1365, 'following': 1366, 'health': 1367, 'law': 1368, 'media': 1369, 'open': 1370, 'race': 1371, 'southern': 1372, 'threatens': 1373, 'toll': 1374, 'use': 1375, 'water': 1376, 'Arizona': 1377, 'Capture': 1378, 'Carpet': 1379, 'Celebs': 1380, 'Clean': 1381, 'Data': 1382, 'Days': 1383, 'Debt': 1384, 'Deep': 1385, 'Democrats': 1386, 'Emo': 1387, 'Georgia': 1388, 'Globes': 1389, 'Gulf': 1390, 'Lose': 1391, 'McDonald': 1392, 'Non': 1393, 'Palestinian': 1394, 'Players': 1395, 'Polish': 1396, 'Popular': 1397, 'Released': 1398, 'Service': 1399, 'Seven': 1400, 'Shopping': 1401, 'Southern': 1402, 'Starbucks': 1403, 'Swiss': 1404, 'Terrible': 1405, 'Thailand': 1406, 'Toys': 1407, 'Travel': 1408, 'Wife': 1409, 'Word': 1410, 'Works': 1411, 'could': 1412, 'debate': 1413, 'denies': 1414, 'gives': 1415, 'hospital': 1416, 'human': 1417, 'journalist': 1418, 'round': 1419, 'search': 1420, 'through': 1421, 'top': 1422, 'Actors': 1423, 'Ads': 1424, 'Airways': 1425, 'Angeles': 1426, 'Barack': 1427, 'Beat': 1428, 'Break': 1429, 'Cancer': 1430, 'Chicken': 1431, 'Choice': 1432, 'Cuba': 1433, 'Dinners': 1434, 'Discovery': 1435, 'Explosion': 1436, 'FIFA': 1437, 'Giant': 1438, 'God': 1439, 'Goes': 1440, 'Greek': 1441, 'Guilty': 1442, 'Hand': 1443, 'Helps': 1444, 'Holidays': 1445, 'Hope': 1446, 'Image': 1447, 'Indonesian': 1448, 'Jack': 1449, 'Jessica': 1450, 'Jimmy': 1451, 'Lazy': 1452, 'Lesbian': 1453, 'Los': 1454, 'Member': 1455, 'Mother': 1456, 'Nigeria': 1457, 'Offers': 1458, 'Once': 1459, 'Perry': 1460, 'Point': 1461, 'Rangers': 1462, 'Room': 1463, 'Sale': 1464, 'Sell': 1465, 'Soccer': 1466, 'Spice': 1467, 'Sports': 1468, 'Stadium': 1469, 'Taipei': 1470, 'Theme': 1471, 'Tinder': 1472, 'Truths': 1473, 'Turkish': 1474, 'Utah': 1475, 'Version': 1476, 'Videos': 1477, 'Water': 1478, 'Working': 1479, 'action': 1480, 'causes': 1481, 'city': 1482, 'cuts': 1483, 'gas': 1484, 'gets': 1485, 'jailed': 1486, 'jobs': 1487, 'lead': 1488, 'officials': 1489, 'receives': 1490, 'releases': 1491, 'return': 1492, 'season': 1493, 'take': 1494, 'threat': 1495, '2011': 1496, '38': 1497, 'Absolute': 1498, 'Act': 1499, 'Adults': 1500, 'Amid': 1501, 'Bar': 1502, 'Blair': 1503, 'Blue': 1504, 'Bride': 1505, 'Champions': 1506, 'Class': 1507, 'Council': 1508, 'Defense': 1509, 'Dispute': 1510, 'Exactly': 1511, 'Fiji': 1512, 'Fund': 1513, 'Gordon': 1514, 'Greece': 1515, 'Guantanamo': 1516, 'Inspired': 1517, 'Investors': 1518, 'Katrina': 1519, 'Leonardo': 1520, 'List': 1521, 'Magic': 1522, 'Mental': 1523, 'Minute': 1524, 'Morning': 1525, 'Parks': 1526, 'Pieces': 1527, 'Playing': 1528, 'Please': 1529, 'Pro': 1530, 'Proved': 1531, 'Push': 1532, 'Reaction': 1533, 'Recognize': 1534, 'Rugby': 1535, 'Scott': 1536, 'Self': 1537, 'Selfie': 1538, 'Sharing': 1539, 'Shia': 1540, 'Sick': 1541, 'Station': 1542, 'Steve': 1543, 'Themed': 1544, 'Truth': 1545, 'US$': 1546, 'Ukraine': 1547, 'WTF': 1548, 'Warm': 1549, 'Weekend': 1550, 'Weirdest': 1551, 'Wonderful': 1552, 'Woods': 1553, 'Wrote': 1554, 'across': 1555, 'airport': 1556, 'back': 1557, 'before': 1558, 'convicted': 1559, 'corruption': 1560, 'cut': 1561, 'film': 1562, 'food': 1563, 'pirates': 1564, 'rejects': 1565, 'results': 1566, 'star': 1567, 'study': 1568, 'their': 1569, 'victory': 1570, 'votes': 1571, '200': 1572, '37': 1573, '45': 1574, 'Account': 1575, 'Bake': 1576, 'Ball': 1577, 'Birthday': 1578, 'Brilliant': 1579, 'Card': 1580, 'Carolina': 1581, 'Celeb': 1582, 'Colors': 1583, 'Companies': 1584, 'Cook': 1585, 'Costs': 1586, 'Country': 1587, 'Credit': 1588, 'Deserve': 1589, 'Drinking': 1590, 'Emoji': 1591, 'Entire': 1592, 'Finals': 1593, 'Finding': 1594, 'Growing': 1595, 'Kitchen': 1596, 'Lines': 1597, 'Lot': 1598, 'Massive': 1599, 'Middle': 1600, 'Miss': 1601, 'Missing': 1602, 'Myanmar': 1603, 'Needed': 1604, 'Pacific': 1605, 'Pennsylvania': 1606, 'Philippine': 1607, 'Radio': 1608, 'Rather': 1609, 'Reading': 1610, 'Record': 1611, 'Republic': 1612, 'Revealed': 1613, 'Romanian': 1614, 'Romantic': 1615, 'Serious': 1616, 'Side': 1617, 'Sister': 1618, 'Sleep': 1619, 'Soulmate': 1620, 'Special': 1621, 'Speech': 1622, 'Spending': 1623, 'Strong': 1624, 'Styles': 1625, 'Support': 1626, 'Sweet': 1627, 'Taught': 1628, 'Themselves': 1629, 'Tries': 1630, 'Tweet': 1631, 'Visit': 1632, 'Yahoo': 1633, 'Yourself(ie': 1634, 'approves': 1635, 'arrest': 1636, 'blasts': 1637, 'call': 1638, 'change': 1639, 'director': 1640, 'disaster': 1641, 'flooding': 1642, 'fuel': 1643, 'increase': 1644, 'missile': 1645, 'nine': 1646, 'ten': 1647, 'virus': 1648, '90': 1649, 'A.I.G.': 1650, 'Accidentally': 1651, 'Actor': 1652, 'Anti': 1653, 'Atlantic': 1654, 'Award': 1655, 'Bachelor': 1656, 'Basically': 1657, 'Basketball': 1658, 'Beijing': 1659, 'Bizarre': 1660, 'Calendar': 1661, 'Christian': 1662, 'Claims': 1663, 'Cocktails': 1664, 'Comes': 1665, 'Cost': 1666, 'Detroit': 1667, 'Dream': 1668, 'Economic': 1669, 'Ed': 1670, 'Emmys': 1671, 'Faith': 1672, 'Falls': 1673, 'Figure': 1674, 'Follow': 1675, 'Fred': 1676, 'GIF': 1677, 'Glorious': 1678, 'Grey': 1679, 'Held': 1680, 'Hero': 1681, 'Hockey': 1682, 'Images': 1683, 'Items': 1684, 'Labor': 1685, 'Line': 1686, 'MTV': 1687, 'Male': 1688, 'Mark': 1689, 'Marry': 1690, 'Massachusetts': 1691, 'Medical': 1692, 'Meme': 1693, 'Models': 1694, 'Murder': 1695, 'Muslim': 1696, 'NYC': 1697, 'Nations': 1698, 'Navy': 1699, 'Officially': 1700, 'Olympics': 1701, 'Poland': 1702, 'Political': 1703, 'Queensland': 1704, 'Re': 1705, 'Returns': 1706, 'Reynolds': 1707, 'Schumer': 1708, 'Sees': 1709, 'Seriously': 1710, 'Smith': 1711, 'Sony': 1712, 'Soul': 1713, 'St.': 1714, 'Stake': 1715, 'Steps': 1716, 'Stock': 1717, 'Tech': 1718, 'Tricks': 1719, 'Vines': 1720, 'Wikimedia': 1721, 'budget': 1722, 'cabinet': 1723, 'cancer': 1724, 'confirmed': 1725, 'discovered': 1726, 'fraud': 1727, 'goes': 1728, 'outbreak': 1729, 'reveals': 1730, 'running': 1731, 'site': 1732, 'who': 1733, '£': 1734, '0': 1735, '43': 1736, '60': 1737, 'Alan': 1738, 'Amazon': 1739, 'Bailout': 1740, 'Ban': 1741, 'Bangladesh': 1742, 'Bid': 1743, 'Bling': 1744, 'Chelsea': 1745, 'Chrysler': 1746, 'Climate': 1747, 'Clothes': 1748, 'Club': 1749, 'Comic': 1750, 'Comics': 1751, 'Coming': 1752, 'Congo': 1753, 'Dessert': 1754, 'Dressed': 1755, 'Dutch': 1756, 'Emma': 1757, 'Exist': 1758, 'Federal': 1759, 'Flu': 1760, 'Forget': 1761, 'Foundation': 1762, 'Fun': 1763, 'Gippsland': 1764, 'Girlfriend': 1765, 'Hotline': 1766, 'Hunger': 1767, 'Large': 1768, 'Leaders': 1769, 'Motivational': 1770, 'N.B.A.': 1771, 'Named': 1772, 'Natural': 1773, 'Partner': 1774, 'Period': 1775, 'Pichilemu': 1776, 'Player': 1777, 'Poehler': 1778, 'Puppy': 1779, 'Republican': 1780, 'Rice': 1781, 'Running': 1782, 'Seek': 1783, 'Sent': 1784, 'Singing': 1785, 'Slayed': 1786, 'Snacks': 1787, 'Speak': 1788, 'Step': 1789, 'Strip': 1790, 'Suspect': 1791, 'Tea': 1792, 'Term': 1793, 'Text': 1794, 'Tough': 1795, 'Viral': 1796, 'Voice': 1797, 'Waiting': 1798, 'actor': 1799, 'alert': 1800, 'anniversary': 1801, 'bid': 1802, 'claim': 1803, 'collapse': 1804, 'collide': 1805, 'days': 1806, 'evacuated': 1807, 'general': 1808, 'head': 1809, 'hold': 1810, 'host': 1811, 'if': 1812, 'last': 1813, 'mission': 1814, 'probe': 1815, 'series': 1816, 'suspect': 1817, 'this': 1818, 'trade': 1819, 'visit': 1820, 'vs.': 1821, '41': 1822, 'Agency': 1823, 'Ahead': 1824, 'Already': 1825, 'Artists': 1826, 'Ass': 1827, 'Beautifully': 1828, 'Building': 1829, 'Chance': 1830, 'Chilean': 1831, 'Creepy': 1832, 'Dancing': 1833, 'Democratic': 1834, 'Dick': 1835, 'Difference': 1836, 'Euro': 1837, 'Focus': 1838, 'Forces': 1839, 'Guinea': 1840, 'Half': 1841, 'Hey': 1842, 'Humanity': 1843, 'II': 1844, 'Impossible': 1845, 'LaBeouf': 1846, 'Laden': 1847, 'Leaves': 1848, 'Libyan': 1849, 'Losing': 1850, 'Manchester': 1851, 'Meeting': 1852, 'Missouri': 1853, 'Network': 1854, 'Norwegian': 1855, 'Pass': 1856, 'Pet': 1857, 'Plus': 1858, 'Poll': 1859, 'Price': 1860, 'Relationships': 1861, 'Reporter': 1862, 'Scene': 1863, 'Shared': 1864, 'Snow': 1865, 'Soldiers': 1866, 'Stand': 1867, 'Sunshine': 1868, 'Thompson': 1869, 'Thought': 1870, 'Tim': 1871, 'Tonight': 1872, 'Uses': 1873, 'Winning': 1874, 'Zayn': 1875, 'bin': 1876, 'driver': 1877, 'family': 1878, 'fires': 1879, 'free': 1880, 'girl': 1881, 'governor': 1882, 'level': 1883, 'make': 1884, 'markets': 1885, 'news': 1886, 'phone': 1887, 'possible': 1888, 'raises': 1889, 're': 1890, 'rise': 1891, 'several': 1892, 'speech': 1893, 'stage': 1894, 'term': 1895, 'title': 1896, 'unveils': 1897, 'violence': 1898, 'while': 1899, '’s': 1900, '2012': 1901, '44': 1902, 'Academy': 1903, 'Across': 1904, 'Agree': 1905, 'Anna': 1906, 'Argentina': 1907, 'Asia': 1908, 'Auto': 1909, 'BFFs': 1910, 'Becomes': 1911, 'Bed': 1912, 'Boobs': 1913, 'Brand': 1914, 'Bristol': 1915, 'Brother': 1916, 'CanadaVOTES': 1917, 'Captures': 1918, 'Cash': 1919, 'Center': 1920, 'Confused': 1921, 'Controversial': 1922, 'Cookie': 1923, 'Culture': 1924, 'DJ': 1925, 'Darfur': 1926, 'Details': 1927, 'Dude': 1928, 'EMAs': 1929, 'Elf': 1930, 'Emotional': 1931, 'Employees': 1932, 'Excited': 1933, 'Executive': 1934, 'Eyebrows': 1935, 'Feelings': 1936, 'Files': 1937, 'Finish': 1938, 'Finland': 1939, 'Finnish': 1940, 'Fox': 1941, 'Freaking': 1942, 'Friendship': 1943, 'Goddamn': 1944, 'Gold': 1945, 'Gossip': 1946, 'Grown': 1947, 'Guard': 1948, 'Gun': 1949, 'Hamas': 1950, 'Hello': 1951, 'Holds': 1952, 'Husband': 1953, 'Iceland': 1954, 'Indians': 1955, 'Jets': 1956, 'Letter': 1957, 'Lived': 1958, 'Local': 1959, 'McCain': 1960, 'Meal': 1961, 'Mildly': 1962, 'Museum': 1963, 'Nailed': 1964, 'Nuclear': 1965, 'Older': 1966, 'Opposition': 1967, 'Orleans': 1968, 'Peace': 1969, 'Penis': 1970, 'Picks': 1971, 'Possible': 1972, 'Proof': 1973, 'Protests': 1974, 'Rachel': 1975, 'Raise': 1976, 'Results': 1977, 'Review': 1978, 'Rings': 1979, 'Rising': 1980, 'River': 1981, 'Robert': 1982, 'Ron': 1983, 'Scenes': 1984, 'Shoot': 1985, 'Singapore': 1986, 'Site': 1987, 'Spend': 1988, 'Stephen': 1989, 'Stewart': 1990, 'Store': 1991, 'Suit': 1992, 'Target': 1993, 'Teens': 1994, 'Tina': 1995, 'Titles': 1996, 'Toyota': 1997, 'Train': 1998, 'Turning': 1999, 'UEFA': 2000, 'Villain': 2001, 'Walking': 2002, 'Watched': 2003, 'Wild': 2004, 'activist': 2005, 'amid': 2006, 'attempt': 2007, 'border': 2008, 'central': 2009, 'chief': 2010, 'controversial': 2011, 'dozens': 2012, 'draw': 2013, 'elected': 2014, 'explodes': 2015, 'founder': 2016, 'go': 2017, 'he': 2018, 'ice': 2019, 'inquiry': 2020, 'it': 2021, 'jail': 2022, 'landing': 2023, 'leaders': 2024, 'leave': 2025, 'loses': 2026, 'major': 2027, 'officers': 2028, 'place': 2029, 'player': 2030, 'prices': 2031, 'protesters': 2032, 'returns': 2033, 'sales': 2034, 'sentenced': 2035, 'shows': 2036, 'since': 2037, 'soldier': 2038, 'starts': 2039, 'summit': 2040, 'town': 2041, '36': 2042, '80': 2043, 'Advent': 2044, 'Ago': 2045, 'Airbus': 2046, 'April': 2047, 'Arrested': 2048, 'Beach': 2049, 'Beckham': 2050, 'Bell': 2051, 'Border': 2052, 'Brothers': 2053, 'Captured': 2054, 'Career': 2055, 'Central': 2056, 'Charges': 2057, 'Clever': 2058, 'Colombia': 2059, 'Colorado': 2060, 'Cookies': 2061, 'Daniel': 2062, 'Dear': 2063, 'Demi': 2064, 'Dozens': 2065, 'E': 2066, 'Eastern': 2067, 'Edition': 2068, 'Embarrassing': 2069, 'Eve': 2070, 'Fears': 2071, 'Flawless': 2072, 'Ford': 2073, 'Foreign': 2074, 'Forgot': 2075, 'Funds': 2076, 'Global': 2077, 'Golf': 2078, 'Gym': 2079, 'Hands': 2080, 'Harris': 2081, 'Hates': 2082, 'Hotel': 2083, 'Hottest': 2084, 'Inspiring': 2085, 'Instagrams': 2086, 'Islands': 2087, 'Issues': 2088, 'Ivory': 2089, 'January': 2090, 'July': 2091, 'Kardashians': 2092, 'Katy': 2093, 'Key': 2094, 'Kong': 2095, 'Latest': 2096, 'Lee': 2097, 'Libya': 2098, 'Light': 2099, 'Losses': 2100, 'Lovato': 2101, 'Missed': 2102, 'Moms': 2103, 'NASCAR': 2104, 'Nobel': 2105, 'November': 2106, 'Opens': 2107, 'Original': 2108, 'Patrick': 2109, 'Policy': 2110, 'Press': 2111, 'Puzzle': 2112, 'Quick': 2113, 'Reach': 2114, 'React': 2115, 'Reactions': 2116, 'Rebels': 2117, 'Rescue': 2118, 'SNL': 2119, 'Sang': 2120, 'Secretly': 2121, 'Serena': 2122, 'Solve': 2123, 'Steven': 2124, 'Stone': 2125, 'Sunday': 2126, 'Swine': 2127, 'Taken': 2128, 'Terrifying': 2129, 'Those': 2130, 'Ties': 2131, 'Toy': 2132, 'Track': 2133, 'Tree': 2134, 'Trick': 2135, 'Types': 2136, 'Underrated': 2137, 'Universe': 2138, 'Western': 2139, 'Whose': 2140, 'Wikileaks': 2141, 'Wimbledon': 2142, 'Wine': 2143, 'YA': 2144, 'Yankee': 2145, 'abuse': 2146, 'again': 2147, 'announced': 2148, 'army': 2149, 'arrests': 2150, 'bank': 2151, 'cause': 2152, 'championship': 2153, 'collision': 2154, 'computer': 2155, 'conference': 2156, 'economy': 2157, 'explosions': 2158, 'global': 2159, 'her': 2160, 'hostage': 2161, 'issues': 2162, 'judge': 2163, 'laws': 2164, 'leak': 2165, 'legal': 2166, 'mine': 2167, 'moon': 2168, 'most': 2169, 'policeman': 2170, 'politician': 2171, 'raid': 2172, 'rate': 2173, 'singer': 2174, 'sue': 2175, 'third': 2176, 'thousands': 2177, 'threatened': 2178, 'tsunami': 2179, 'unemployment': 2180, 'users': 2181, 'visits': 2182, 'weapons': 2183, 'work': 2184, '70': 2185, '9/11': 2186, 'Able': 2187, 'Alive': 2188, 'Also': 2189, 'Annoying': 2190, 'Ariana': 2191, 'Become': 2192, 'Beer': 2193, 'Belgian': 2194, 'Boeing': 2195, 'Brain': 2196, 'Broke': 2197, 'Butter': 2198, 'Camera': 2199, 'Conference': 2200, 'County': 2201, 'Creative': 2202, 'Daughter': 2203, 'Delay': 2204, 'Else': 2205, 'Eurovision': 2206, 'Field': 2207, 'Gains': 2208, 'Gates': 2209, 'Gigi': 2210, 'Giving': 2211, 'Globe': 2212, 'Grande': 2213, 'Gunman': 2214, 'Handle': 2215, 'Heavy': 2216, 'Hillary': 2217, 'Himself': 2218, 'Hong': 2219, 'Indiana': 2220, 'Join': 2221, 'Joke': 2222, 'Keeps': 2223, 'Kelly': 2224, 'Learn': 2225, 'Lord': 2226, 'Lyric': 2227, 'Malik': 2228, 'Martin': 2229, 'Meaning': 2230, 'Merger': 2231, 'Messages': 2232, 'Minds': 2233, 'Mini': 2234, 'Moon': 2235, 'Moscow': 2236, 'Oklahoma': 2237, 'Owner': 2238, 'Paper': 2239, 'Personal': 2240, 'Phoenix': 2241, 'Pics': 2242, 'Played': 2243, 'Prize': 2244, 'Product': 2245, 'Professor': 2246, 'Protest': 2247, 'Queer': 2248, 'Ranked': 2249, 'Refugees': 2250, 'Rey': 2251, 'Ridiculous': 2252, 'Rihanna': 2253, 'Rodriguez': 2254, 'Ruin': 2255, 'Seconds': 2256, 'September': 2257, 'Sets': 2258, 'Shirt': 2259, 'Shop': 2260, 'Shots': 2261, 'Since': 2262, 'Spot': 2263, 'Surprising': 2264, 'Survive': 2265, 'Syrian': 2266, 'Tells': 2267, 'Tests': 2268, 'Tony': 2269, 'Twentysomethings': 2270, 'Unexpected': 2271, 'Vegan': 2272, 'admits': 2273, 'agreement': 2274, 'banned': 2275, 'base': 2276, 'boy': 2277, 'cargo': 2278, 'closes': 2279, 'falls': 2280, 'federal': 2281, 'gay': 2282, 'given': 2283, 'holds': 2284, 'increases': 2285, 'life': 2286, 'm': 2287, 'men': 2288, 'offers': 2289, 'office': 2290, 'online': 2291, 'other': 2292, 'passenger': 2293, 'policy': 2294, 'rebels': 2295, 'safety': 2296, 'signs': 2297, 'still': 2298, 'stop': 2299, 'successfully': 2300, 'suffers': 2301, 'suspects': 2302, 'swine': 2303, 'week': 2304, '55': 2305, '62': 2306, 'Andy': 2307, 'Anne': 2308, 'App': 2309, 'Arrest': 2310, 'Ate': 2311, 'BAFTAs': 2312, 'Basic': 2313, 'Bay': 2314, 'Became': 2315, 'Blanket': 2316, 'Blast': 2317, 'Bonds': 2318, 'Butt': 2319, 'Caught': 2320, 'Co': 2321, 'Cooker': 2322, 'Cozy': 2323, 'Cream': 2324, 'Dark': 2325, 'Defends': 2326, 'Died': 2327, 'Digital': 2328, 'Drama': 2329, 'Effort': 2330, 'Efron': 2331, 'Emmy': 2332, 'Emojis': 2333, 'Era': 2334, 'Expected': 2335, 'Fed': 2336, 'Federer': 2337, 'Fell': 2338, 'Feminist': 2339, 'Festival': 2340, 'Fourth': 2341, 'Freed': 2342, 'Fresh': 2343, 'H1N1': 2344, 'Hadid': 2345, 'Hall': 2346, 'Hemsworth': 2347, 'Herself': 2348, 'Hits': 2349, 'Horoscope': 2350, 'Huge': 2351, 'Hurt': 2352, 'J.': 2353, 'Jim': 2354, 'Joe': 2355, 'Kenya': 2356, 'Kiss': 2357, 'Laughing': 2358, 'Leaving': 2359, 'Liberal': 2360, 'Lights': 2361, 'March': 2362, 'Melbourne': 2363, 'Memory': 2364, 'Mike': 2365, 'Modern': 2366, 'Moore': 2367, 'N.F.L.': 2368, 'Newsletter': 2369, 'Nick': 2370, 'Nicki': 2371, 'OMG': 2372, 'Panel': 2373, 'Path': 2374, 'Photographer': 2375, 'Pie': 2376, 'Pregnant': 2377, 'Prosecutors': 2378, 'Puts': 2379, 'Putting': 2380, 'Raises': 2381, 'Rare': 2382, 'Relatable': 2383, 'Remains': 2384, 'Representatives': 2385, 'Robot': 2386, 'Saved': 2387, 'Shooting': 2388, 'Simpsons': 2389, 'Smart': 2390, 'Smile': 2391, 'Snapchats': 2392, 'Software': 2393, 'Stanley': 2394, 'Status': 2395, 'Stopped': 2396, 'Strike': 2397, 'System': 2398, 'Teach': 2399, 'Teams': 2400, 'Ted': 2401, 'Tennessee': 2402, 'Tennis': 2403, 'Tiger': 2404, 'Trends': 2405, 'Twins': 2406, 'U.S': 2407, 'UBS': 2408, 'UConn': 2409, 'Upset': 2410, 'Whether': 2411, 'Winners': 2412, 'Workout': 2413, 'Write': 2414, 'Zac': 2415, 'administration': 2416, 'aircraft': 2417, 'appeal': 2418, 'attempts': 2419, 'bans': 2420, 'bird': 2421, 'charge': 2422, 'climate': 2423, 'collapses': 2424, 'company': 2425, 'confirms': 2426, 'crew': 2427, 'defeats': 2428, 'detained': 2429, 'financial': 2430, 'forms': 2431, 'freed': 2432, 'house': 2433, 'hundreds': 2434, 'hurricane': 2435, 'international': 2436, 'journalists': 2437, 'killer': 2438, 'largest': 2439, 'launched': 2440, 'likely': 2441, 'market': 2442, 'members': 2443, 'mobile': 2444, 'named': 2445, 'next': 2446, 'now': 2447, 'official': 2448, 'orders': 2449, 'pay': 2450, 'polls': 2451, 'prime': 2452, 'proposes': 2453, 'rape': 2454, 'recalls': 2455, 'relations': 2456, 'rescue': 2457, 'rises': 2458, 'road': 2459, 'sets': 2460, 'sign': 2461, 'student': 2462, 'suggests': 2463, 'suspended': 2464, 'taken': 2465, 'terrorist': 2466, 'threats': 2467, 'today': 2468, 'tour': 2469, 'truck': 2470, 'worldwide': 2471, '...': 2472, '82': 2473, 'Accurate': 2474, 'Action': 2475, 'Apps': 2476, 'Author': 2477, 'Bet': 2478, 'Biden': 2479, 'Bird': 2480, 'Bonuses': 2481, 'Booze': 2482, 'Breaking': 2483, 'Bus': 2484, 'CEO': 2485, 'CIA': 2486, 'Cakes': 2487, 'Changes': 2488, 'Charge': 2489, 'Chemical': 2490, 'Cities': 2491, 'Collection': 2492, 'Columbia': 2493, 'Comment': 2494, 'Common': 2495, 'Complete': 2496, 'Concerns': 2497, 'Created': 2498, 'Crimes': 2499, 'Crowd': 2500, 'Decade': 2501, 'Deficit': 2502, 'Director': 2503, 'Dollar': 2504, 'Downturn': 2505, 'Drive': 2506, 'Dying': 2507, 'Ease': 2508, 'Eight': 2509, 'Everywhere': 2510, 'Experiences': 2511, 'Explain': 2512, 'FBI': 2513, 'Fair': 2514, 'Fallon': 2515, 'February': 2516, 'Filipino': 2517, 'Fuel': 2518, 'Given': 2519, 'Grease': 2520, 'Ground': 2521, 'Guide': 2522, 'Hashtag': 2523, 'Healthier': 2524, 'Hill': 2525, 'Hopes': 2526, 'Immigration': 2527, 'Investigation': 2528, 'Issue': 2529, 'Jason': 2530, 'Jet': 2531, 'Joy': 2532, 'Kate': 2533, 'Kevin': 2534, 'Lawmakers': 2535, 'Leads': 2536, 'Liam': 2537, 'Liars': 2538, 'Likely': 2539, 'Lip': 2540, 'Loses': 2541, 'Louisville': 2542, 'Maker': 2543, 'Marathon': 2544, 'Markets': 2545, 'Marvel': 2546, 'Mass': 2547, 'Message': 2548, 'Miami': 2549, 'Minaj': 2550, 'Mine': 2551, 'Minor': 2552, 'Montreal': 2553, 'Mugabe': 2554, 'Nail': 2555, 'Number': 2556, 'Officer': 2557, 'Ohio': 2558, 'Outfits': 2559, 'Pain': 2560, 'Palestinians': 2561, 'Pants': 2562, 'Parent': 2563, 'Parts': 2564, 'Peanut': 2565, 'Performance': 2566, 'Pigskin': 2567, 'Pitch': 2568, 'Planet': 2569, 'Planning': 2570, 'Plant': 2571, 'Plays': 2572, 'Pressure': 2573, 'Pride': 2574, 'Program': 2575, 'Rally': 2576, 'Release': 2577, 'Retail': 2578, 'Reveals': 2579, 'Rickman': 2580, 'Rises': 2581, 'Ruined': 2582, 'Ruling': 2583, 'Sad': 2584, 'Saturn': 2585, 'Senior': 2586, 'Settle': 2587, 'Sox': 2588, 'Spent': 2589, 'Split': 2590, 'Stocks': 2591, 'Sun': 2592, 'Surprised': 2593, 'Survivors': 2594, 'Suspected': 2595, 'Tall': 2596, 'Teenager': 2597, 'Terror': 2598, 'Tied': 2599, 'Total': 2600, 'Turned': 2601, 'Tweeted': 2602, 'Unit': 2603, 'Vegas': 2604, 'Venezuela': 2605, 'View': 2606, 'Vintage': 2607, 'WHO': 2608, 'Watson': 2609, 'Yet': 2610, 'access': 2611, 'agrees': 2612, 'allegations': 2613, 'alleged': 2614, 'arms': 2615, 'asks': 2616, 'battle': 2617, 'beats': 2618, 'birth': 2619, 'carrying': 2620, 'celebrates': 2621, 'centre': 2622, 'civilians': 2623, 'coach': 2624, 'despite': 2625, 'double': 2626, 'early': 2627, 'economic': 2628, 'elects': 2629, 'enters': 2630, 'fails': 2631, 'fall': 2632, 'fired': 2633, 'force': 2634, 'get': 2635, 'gunmen': 2636, 'help': 2637, 'hotel': 2638, 'investigate': 2639, 'issued': 2640, 'leads': 2641, 'lives': 2642, 'made': 2643, 'match': 2644, 'meets': 2645, 'music': 2646, 'nominee': 2647, 'northern': 2648, 'parliamentary': 2649, 'pilot': 2650, 'prepares': 2651, 'resign': 2652, 'ruling': 2653, 'sale': 2654, 'schools': 2655, 'seeks': 2656, 'shut': 2657, 'software': 2658, 'spill': 2659, 'television': 2660, 'twenty': 2661, 'using': 2662, 'wants': 2663, 'warning': 2664, 'website': 2665, 'without': 2666, '1989': 2667, '2nd': 2668, 'ABC': 2669, 'Adam': 2670, 'Adds': 2671, 'Administration': 2672, 'Alaska': 2673, 'Anatomy': 2674, 'Arabia': 2675, 'Arms': 2676, 'Avoid': 2677, 'BP': 2678, 'Babies': 2679, 'Bear': 2680, 'Bears': 2681, 'Bernie': 2682, 'Bit': 2683, 'Blake': 2684, 'Bodies': 2685, 'Bombing': 2686, 'Boys': 2687, 'Build': 2688, 'Built': 2689, 'Burger': 2690, 'Button': 2691, 'Campaign': 2692, 'Candidate': 2693, 'Captain': 2694, 'Carey': 2695, 'Committee': 2696, 'Cooking': 2697, 'Coolest': 2698, 'Countries': 2699, 'Covers': 2700, 'Create': 2701, 'Critics': 2702, 'Cross': 2703, 'Dads': 2704, 'Davis': 2705, 'De': 2706, 'Definitive': 2707, 'Design': 2708, 'Destroy': 2709, 'Development': 2710, 'Device': 2711, 'Dishes': 2712, 'Dr.': 2713, 'Draws': 2714, 'Dropped': 2715, 'Earnings': 2716, 'Earthquake': 2717, 'Essays': 2718, 'Expectations': 2719, 'Facing': 2720, 'Fail': 2721, 'Falling': 2722, 'Feeling': 2723, 'Few': 2724, 'GOP': 2725, 'Geithner': 2726, 'Grow': 2727, 'HIV': 2728, 'Haitian': 2729, 'Helicopter': 2730, 'Holocaust': 2731, 'Honor': 2732, 'Horse': 2733, 'Housing': 2734, 'Humans': 2735, 'Hundreds': 2736, 'Illustrated': 2737, 'Investment': 2738, 'Joseph': 2739, 'K': 2740, 'Kansas': 2741, 'Karzai': 2742, 'Keeping': 2743, 'Kennedy': 2744, 'Khaled': 2745, 'LGBT': 2746, 'Lesbians': 2747, 'Lifts': 2748, 'Lower': 2749, 'Maryland': 2750, 'Minnesota': 2751, 'Monday': 2752, 'Months': 2753, 'Mouthwatering': 2754, 'Moving': 2755, 'NBA': 2756, 'NHL': 2757, 'Nadal': 2758, 'Naked': 2759, 'Neil': 2760, 'Nepal': 2761, 'Nigerian': 2762, 'Noticed': 2763, 'October': 2764, 'Olivia': 2765, 'Ontario': 2766, 'Oprah': 2767, 'Orders': 2768, 'Peru': 2769, 'Peter': 2770, 'Pets': 2771, 'Philadelphia': 2772, 'Posted': 2773, 'Pratt': 2774, 'Project': 2775, 'Proves': 2776, 'Quit': 2777, 'Rainbow': 2778, 'Raising': 2779, 'Rebel': 2780, 'Records': 2781, 'Recovery': 2782, 'Research': 2783, 'Resolutions': 2784, 'Rich': 2785, 'Road': 2786, 'Royal': 2787, 'Ruby': 2788, 'Saying': 2789, 'Scandal': 2790, 'Scores': 2791, 'Selling': 2792, 'Sends': 2793, 'Serbia': 2794, 'Situations': 2795, 'Slump': 2796, 'Spirit': 2797, 'Standards': 2798, 'Starts': 2799, 'Strikes': 2800, 'Suck': 2801, 'Sweden': 2802, 'T': 2803, 'Theory': 2804, 'Thomas': 2805, 'Twenties': 2806, 'Typhoon': 2807, 'Urban': 2808, 'Veterans': 2809, 'Vietnam': 2810, 'Virgin': 2811, 'Warns': 2812, 'Weddings': 2813, 'Windows': 2814, 'Yoga': 2815, 'Younger': 2816, 'Zero': 2817, 'agree': 2818, 'announce': 2819, 'another': 2820, 'appeals': 2821, 'around': 2822, 'attacked': 2823, 'baby': 2824, 'beat': 2825, 'been': 2826, 'begin': 2827, 'bodies': 2828, 'body': 2829, 'book': 2830, 'capital': 2831, 'cholera': 2832, 'clash': 2833, 'closed': 2834, 'comes': 2835, 'companies': 2836, 'considers': 2837, 'controversy': 2838, 'data': 2839, 'delayed': 2840, 'discusses': 2841, 'erupts': 2842, 'feared': 2843, 'fight': 2844, 'heart': 2845, 'mayor': 2846, 'moves': 2847, 'network': 2848, 'offer': 2849, 'ordered': 2850, 'poll': 2851, 'program': 2852, 'quake': 2853, 'quarter': 2854, 'reach': 2855, 'receive': 2856, 'referendum': 2857, 'relief': 2858, 'rescued': 2859, 'resignation': 2860, 'scare': 2861, 'small': 2862, 'source': 2863, 'spacecraft': 2864, 'states': 2865, 'students': 2866, 'system': 2867, 'teen': 2868, 'used': 2869, 'worth': 2870, '2000s': 2871, '2007/08': 2872, '400': 2873, '47': 2874, '48': 2875, '85': 2876, '87': 2877, '95': 2878, 'ASAP': 2879, 'Abu': 2880, 'Abuse': 2881, 'Advance': 2882, 'Angry': 2883, 'Announces': 2884, 'Approves': 2885, 'Armstrong': 2886, 'Arrests': 2887, 'Attention': 2888, 'Audience': 2889, 'Australians': 2890, 'Awaken': 2891, 'Banned': 2892, 'Begins': 2893, 'Blood': 2894, 'Breathtaking': 2895, 'Brings': 2896, 'Burgers': 2897, 'Buying': 2898, 'Came': 2899, 'Capital': 2900, 'Caption': 2901, 'Carrie': 2902, 'Celebrate': 2903, 'Cellphone': 2904, 'Cheap': 2905, 'Chopra': 2906, 'Citigroup': 2907, 'Civil': 2908, 'Clash': 2909, 'Clear': 2910, 'Colour': 2911, 'Comeback': 2912, 'Comedy': 2913, 'Comments': 2914, 'Course': 2915, 'Crime': 2916, 'Cringe': 2917, 'Curry': 2918, 'Czech': 2919, 'DC': 2920, 'DIYs': 2921, 'Del': 2922, 'Department': 2923, 'Diet': 2924, 'Dirty': 2925, 'Discuss': 2926, 'Dow': 2927, 'Driver': 2928, 'Driving': 2929, 'E.U.': 2930, 'Edward': 2931, 'Elections': 2932, 'Engaged': 2933, 'Extremely': 2934, 'FDA': 2935, 'Father': 2936, 'Feet': 2937, 'Felt': 2938, 'Firm': 2939, 'Fish': 2940, 'Flash': 2941, 'Forest': 2942, 'Freak': 2943, 'Friendly': 2944, 'Front': 2945, 'Gary': 2946, 'Gosling': 2947, 'Grilled': 2948, 'Groups': 2949, 'Habits': 2950, 'Heard': 2951, 'Hedge': 2952, 'Hidden': 2953, 'Higher': 2954, 'Hold': 2955, 'Hospital': 2956, 'Houston': 2957, 'Hussein': 2958, 'Idea': 2959, 'Injured': 2960, 'Inner': 2961, 'Introvert': 2962, 'Jose': 2963, 'Kesha': 2964, 'Lankan': 2965, 'Layoffs': 2966, 'Leading': 2967, 'Leslie': 2968, 'Lewis': 2969, 'Lift': 2970, 'Lipstick': 2971, 'Literature': 2972, 'Longer': 2973, 'Loved': 2974, 'Magnitude': 2975, 'Mail': 2976, 'Makers': 2977, 'Mario': 2978, 'Master': 2979, 'Matt': 2980, 'Mermaid': 2981, 'Missile': 2982, 'Mobile': 2983, 'Monster': 2984, 'NBC': 2985, 'Nails': 2986, 'Nokia': 2987, 'Normal': 2988, 'Norway': 2989, 'Nothing': 2990, 'Nude': 2991, 'OK': 2992, 'Opening': 2993, 'Others': 2994, 'Paid': 2995, 'Painfully': 2996, 'Pairs': 2997, 'Parody': 2998, 'Pentagon': 2999, 'Performed': 3000, 'Pirates': 3001, 'Pittsburgh': 3002, 'Points': 3003, 'Polar': 3004, 'Politicians': 3005, 'Portraits': 3006, 'Problem': 3007, 'Proposal': 3008, 'Proud': 3009, 'Puns': 3010, 'Puppies': 3011, 'Pure': 3012, 'Rain': 3013, 'Reimagined': 3014, 'Remain': 3015, 'Resigns': 3016, 'Responded': 3017, 'Reunion': 3018, 'Richard': 3019, 'Ring': 3020, 'Rob': 3021, 'Ross': 3022, 'S.E.C.': 3023, 'Saddam': 3024, 'Safety': 3025, 'Sarah': 3026, 'Saw': 3027, 'Scare': 3028, 'Scary': 3029, 'Seeing': 3030, 'Sexist': 3031, 'Shoes': 3032, 'Simpson': 3033, 'Sisters': 3034, 'Square': 3035, 'Stages': 3036, 'Stuffed': 3037, 'Superhero': 3038, 'Swedish': 3039, 'Syria': 3040, 'Taco': 3041, 'Taiwanese': 3042, 'Tamil': 3043, 'Teachers': 3044, 'Tears': 3045, 'Technology': 3046, 'Television': 3047, 'Ten': 3048, 'Terms': 3049, 'Tops': 3050, 'Tower': 3051, 'Transform': 3052, 'Transgender': 3053, 'Traveling': 3054, 'Treasury': 3055, 'Tribute': 3056, 'Troops': 3057, 'Trouble': 3058, 'Underground': 3059, 'Until': 3060, 'Urges': 3061, 'Vagina': 3062, 'Venezuelan': 3063, 'Vice': 3064, 'Votes': 3065, 'Wait': 3066, 'Weight': 3067, 'Winner': 3068, 'Witch': 3069, 'Yemen': 3070, 'Yes': 3071, 'activists': 3072, 'assault': 3073, 'bailout': 3074, 'board': 3075, 'bombs': 3076, 'changes': 3077, 'church': 3078, 'clashes': 3079, 'cleared': 3080, 'country': 3081, 'decision': 3082, 'declared': 3083, 'dismisses': 3084, 'dog': 3085, 'earthquakes': 3086, 'eleven': 3087, 'evacuation': 3088, 'fears': 3089, 'find': 3090, 'firm': 3091, 'foreign': 3092, 'growth': 3093, 'incident': 3094, 'insurgents': 3095, 'killings': 3096, 'lands': 3097, 'lawsuit': 3098, 'lawyer': 3099, 'light': 3100, 'low': 3101, 'manager': 3102, 'medical': 3103, 'money': 3104, 'number': 3105, 'oldest': 3106, 'others': 3107, 'outside': 3108, 'package': 3109, 'plot': 3110, 'residents': 3111, 'scandal': 3112, 'space': 3113, 'staff': 3114, 'station': 3115, 'sues': 3116, 'suspends': 3117, 'tanker': 3118, 'tax': 3119, 'traffic': 3120, '—': 3121, '2004': 3122, '250': 3123, '84': 3124, 'Access': 3125, 'Addicts': 3126, 'Address': 3127, 'Adorably': 3128, 'Alabama': 3129, 'Alex': 3130, 'Ali': 3131, 'Answers': 3132, 'Anything': 3133, 'Appeal': 3134, 'Atlanta': 3135, 'Audition': 3136, 'Austin': 3137, 'Autumn': 3138, 'Beats': 3139, 'Benedict': 3140, 'Benefits': 3141, 'Binge': 3142, 'Blagojevich': 3143, 'Blowing': 3144, 'Bombs': 3145, 'Born': 3146, 'Bread': 3147, 'Breakup': 3148, 'Bridge': 3149, 'Broken': 3150, 'Brutally': 3151, 'Bull': 3152, 'Calvin': 3153, 'Camp': 3154, 'Cara': 3155, 'Cell': 3156, 'Clothing': 3157, 'Colombian': 3158, 'Commission': 3159, 'Computer': 3160, 'Contest': 3161, 'Cooper': 3162, 'Craziest': 3163, 'D.C.': 3164, 'DNA': 3165, 'Daughters': 3166, 'DeGeneres': 3167, 'Deaths': 3168, 'Detainees': 3169, 'Disorder': 3170, 'Double': 3171, 'Draft': 3172, 'Draw': 3173, 'Drew': 3174, 'Dubai': 3175, 'Duke': 3176, 'Equality': 3177, 'Everybody': 3178, 'Experts': 3179, 'Fame': 3180, 'Fancy': 3181, 'Fave': 3182, 'Fey': 3183, 'Firms': 3184, 'Frank': 3185, 'Freedom': 3186, 'Frozen': 3187, 'G.O.P.': 3188, 'GM': 3189, 'Gain': 3190, 'Giants': 3191, 'Giro': 3192, 'Gone': 3193, 'Grammy': 3194, 'Grammys': 3195, 'Grandma': 3196, 'Groom': 3197, 'Gross': 3198, 'Gunmen': 3199, 'Hawaii': 3200, 'Hole': 3201, 'Homes': 3202, 'Hook': 3203, 'Host': 3204, 'Inspirational': 3205, 'J.K.': 3206, 'Jamie': 3207, 'Jordan': 3208, 'Josh': 3209, 'Kashmir': 3210, 'Kendrick': 3211, 'Killer': 3212, 'Lake': 3213, 'Land': 3214, 'Las': 3215, 'Lawyer': 3216, 'Lebanese': 3217, 'Link': 3218, 'Literary': 3219, 'Mac': 3220, 'Mad': 3221, 'Madagascar': 3222, 'Manager': 3223, 'Map': 3224, 'Mariah': 3225, 'Massa': 3226, 'Masters': 3227, 'Means': 3228, 'Mickelson': 3229, 'Milk': 3230, 'Mission': 3231, 'Montana': 3232, 'Morgan': 3233, 'Munich': 3234, 'Murderer': 3235, 'N.C.A.A.': 3236, 'Nae': 3237, 'Nearly': 3238, 'Netanyahu': 3239, 'Nevada': 3240, 'Newspaper': 3241, 'Officers': 3242, 'Orange': 3243, 'Outside': 3244, 'Papua': 3245, 'Phelps': 3246, 'Pixar': 3247, 'Plot': 3248, 'Positive': 3249, 'Predict': 3250, 'Prefer': 3251, 'Pregnancy': 3252, 'Present': 3253, 'Private': 3254, 'Priyanka': 3255, 'Profile': 3256, 'Promises': 3257, 'Protesters': 3258, 'Punk': 3259, 'Quarterly': 3260, 'Ranking': 3261, 'Rate': 3262, 'Rejects': 3263, 'Relief': 3264, 'Remind': 3265, 'Responses': 3266, 'Rest': 3267, 'Reviews': 3268, 'Ride': 3269, 'Riots': 3270, 'Rival': 3271, 'Romania': 3272, 'Rutgers': 3273, 'Satisfying': 3274, 'Saving': 3275, 'Scheme': 3276, 'Screen': 3277, 'Several': 3278, 'Sexism': 3279, 'Sexually': 3280, 'Shift': 3281, 'Shocking': 3282, 'Sims': 3283, 'Singer': 3284, 'Skin': 3285, 'Slide': 3286, 'Solar': 3287, 'Solo': 3288, 'Stanford': 3289, 'Started': 3290, 'Success': 3291, 'Suits': 3292, 'Surgery': 3293, 'Syracuse': 3294, 'Table': 3295, 'Teacher': 3296, 'Teenage': 3297, 'Tensions': 3298, 'Tested': 3299, 'Threat': 3300, 'Tooth': 3301, 'Tournament': 3302, 'Trading': 3303, 'Transformed': 3304, 'Trudeau': 3305, 'Twenty20': 3306, 'Tyler': 3307, 'Upsets': 3308, 'Vancouver': 3309, 'Vine': 3310, 'Voting': 3311, 'Wake': 3312, 'Warning': 3313, 'Wave': 3314, 'Wings': 3315, 'Wisconsin': 3316, 'accuses': 3317, 'actress': 3318, 'airline': 3319, 'airliner': 3320, 'allegedly': 3321, 'attempted': 3322, 'awarded': 3323, 'away': 3324, 'based': 3325, 'care': 3326, 'cars': 3327, 'center': 3328, 'co': 3329, 'coalition': 3330, 'comments': 3331, 'confidence': 3332, 'constitution': 3333, 'contract': 3334, 'countries': 3335, 'crimes': 3336, 'daughter': 3337, 'dispute': 3338, 'doctor': 3339, 'documents': 3340, 'drops': 3341, 'energy': 3342, 'enter': 3343, 'error': 3344, 'facing': 3345, 'fighting': 3346, 'flights': 3347, 'floods': 3348, 'forced': 3349, 'funding': 3350, 'games': 3351, 'give': 3352, 'gunman': 3353, 'historic': 3354, 'hours': 3355, 'introduces': 3356, 'join': 3357, 'kidnapped': 3358, 'legislation': 3359, 'meet': 3360, 'militants': 3361, 'month': 3362, 'months': 3363, 'murdering': 3364, 'part': 3365, 'prisoners': 3366, 'production': 3367, 'proposal': 3368, 'radio': 3369, 'recession': 3370, 'response': 3371, 'restaurant': 3372, 'review': 3373, 'scientist': 3374, 'sentence': 3375, 'severe': 3376, 'start': 3377, 'sworn': 3378, 'treatment': 3379, 'until': 3380, 'version': 3381, 'weather': 3382, 'wife': 3383, '’': 3384, '€': 3385, '2013': 3386, '75': 3387, 'Accessories': 3388, 'Added': 3389, 'Admits': 3390, 'Allowed': 3391, 'Amber': 3392, 'Among': 3393, 'Ansari': 3394, 'Answered': 3395, 'Anthem': 3396, 'Arab': 3397, 'Assets': 3398, 'Attractive': 3399, 'Austria': 3400, 'Aziz': 3401, 'Bae': 3402, 'Bahrain': 3403, 'Banking': 3404, 'Bars': 3405, 'Bath': 3406, 'Bathroom': 3407, 'Bayern': 3408, 'Becoming': 3409, 'Begin': 3410, 'Ben': 3411, 'Berlin': 3412, 'Bigger': 3413, 'Billy': 3414, 'Bobby': 3415, 'Bombings': 3416, 'Borderline': 3417, 'Both': 3418, 'Boyfriends': 3419, 'Breakfasts': 3420, 'Bringing': 3421, 'Bulls': 3422, 'Burton': 3423, 'Cabinet': 3424, 'Cairo': 3425, 'Calm': 3426, 'Cameron': 3427, 'Capitol': 3428, 'Cases': 3429, 'Catch': 3430, 'Chanel': 3431, 'Chef': 3432, 'Cheney': 3433, 'Cher': 3434, 'Civilian': 3435, 'Clip': 3436, 'Colbert': 3437, 'Coloring': 3438, 'Comedian': 3439, 'Conservative': 3440, 'Consumer': 3441, 'Contract': 3442, 'Cried': 3443, 'Daddy': 3444, 'Daily': 3445, 'Deadly': 3446, 'Dealing': 3447, 'Delta': 3448, 'Demand': 3449, 'Denver': 3450, 'Diego': 3451, 'Disneyland': 3452, 'Dressing': 3453, 'Drool': 3454, 'Dudes': 3455, 'Eddie': 3456, 'Edinburgh': 3457, 'Emergency': 3458, 'Emily': 3459, 'Empire': 3460, 'Engagement': 3461, 'Eric': 3462, 'Estate': 3463, 'Everyday': 3464, 'Evolution': 3465, 'Exit': 3466, 'Expand': 3467, 'Expensive': 3468, 'Extra': 3469, 'FYI': 3470, 'Fantastic': 3471, 'Ferry': 3472, 'Fictional': 3473, 'Fifth': 3474, 'Flavor': 3475, 'Floods': 3476, 'Forecast': 3477, 'Forward': 3478, 'G8': 3479, 'Generation': 3480, 'Ghosts': 3481, 'Glasses': 3482, 'Grandmas': 3483, 'Griffin': 3484, 'Grows': 3485, 'Growth': 3486, 'Guns': 3487, 'Hardy': 3488, 'Henry': 3489, 'Hilary': 3490, 'Hilton': 3491, 'Hocus': 3492, 'Holding': 3493, 'Homeless': 3494, 'Horrifying': 3495, 'Hotter': 3496, 'Hubble': 3497, 'Hudson': 3498, 'Illness': 3499, 'Impossibly': 3500, 'Inspire': 3501, 'Instantly': 3502, 'Insurance': 3503, 'Intense': 3504, 'Iowa': 3505, 'Iraqis': 3506, 'Itself': 3507, 'Jam': 3508, 'Jerusalem': 3509, 'Journalists': 3510, 'Knope': 3511, 'Kylo': 3512, 'Kyrgyzstan': 3513, 'Ladies': 3514, 'Language': 3515, 'Larry': 3516, 'Laws': 3517, 'Lawsuit': 3518, 'Leaked': 3519, 'Lebanon': 3520, 'Libertarian': 3521, 'Lies': 3522, 'Liverpool': 3523, 'Loan': 3524, 'Loans': 3525, 'Louisiana': 3526, 'Loving': 3527, 'MAC': 3528, 'MP': 3529, 'Madrid': 3530, 'Mandela': 3531, 'Meets': 3532, 'Members': 3533, 'Merrill': 3534, 'Mess': 3535, 'Millions': 3536, 'Miranda': 3537, 'Mix': 3538, 'N.H.L.': 3539, 'NDP': 3540, 'Nears': 3541, 'Nelson': 3542, 'Nice': 3543, 'Nightmare': 3544, 'Nintendo': 3545, 'Nominated': 3546, 'Nuts': 3547, \"O'Brien\": 3548, 'Opera': 3549, 'Opinions': 3550, 'Osama': 3551, 'Oscars': 3552, 'Overtime': 3553, 'Owners': 3554, 'Page': 3555, 'Pan': 3556, 'Panda': 3557, 'Parenting': 3558, 'Parties': 3559, 'Pasta': 3560, 'Paying': 3561, 'Percent': 3562, 'Perfection': 3563, 'Phil': 3564, 'Phones': 3565, 'Piece': 3566, 'Pinterest': 3567, 'Pocus': 3568, 'Politics': 3569, 'Porsche': 3570, 'Position': 3571, 'Pot': 3572, 'Potato': 3573, 'Powers': 3574, 'Premiere': 3575, 'Privacy': 3576, 'Projects': 3577, 'Proposed': 3578, 'Qatar': 3579, 'Rap': 3580, 'Rapper': 3581, 'Readers': 3582, 'Realistic': 3583, 'Rec': 3584, 'Received': 3585, 'Recipe': 3586, 'Region': 3587, 'Ren': 3588, 'Republicans': 3589, 'Restore': 3590, 'Returning': 3591, 'Revenue': 3592, 'Revival': 3593, 'Rowling': 3594, 'Rule': 3595, 'Runner': 3596, 'Runs': 3597, 'Sandwiches': 3598, 'Saturday': 3599, 'Screencap': 3600, 'Sentences': 3601, 'Services': 3602, 'Sharp': 3603, 'Sharply': 3604, 'Sheeran': 3605, 'Shelf': 3606, 'Shops': 3607, 'Sites': 3608, 'Slay': 3609, 'Sleeping': 3610, 'Soldier': 3611, 'Sorry': 3612, 'Sotomayor': 3613, 'Speaker': 3614, 'Stevens': 3615, 'Strangers': 3616, 'Stuff': 3617, 'Sunni': 3618, 'Survivor': 3619, 'Texting': 3620, 'Theft': 3621, 'Throw': 3622, 'Ticket': 3623, 'Tie': 3624, 'Toward': 3625, 'Traffic': 3626, 'Transit': 3627, 'Traralgon': 3628, 'Treat': 3629, 'Treaty': 3630, 'Trend': 3631, 'V': 3632, 'Victims': 3633, 'Village': 3634, 'Visits': 3635, 'Weather': 3636, 'Welsh': 3637, 'William': 3638, 'Zimbabwean': 3639, 'according': 3640, 'airlines': 3641, 'annual': 3642, 'area': 3643, 'arrives': 3644, 'author': 3645, 'basketball': 3646, 'become': 3647, 'behind': 3648, 'blames': 3649, 'bridge': 3650, 'buy': 3651, 'candidates': 3652, 'chemical': 3653, 'control': 3654, 'conviction': 3655, 'cost': 3656, 'crime': 3657, 'damage': 3658, 'damaged': 3659, 'demands': 3660, 'denied': 3661, 'destroys': 3662, 'development': 3663, 'discover': 3664, 'does': 3665, 'drone': 3666, 'drop': 3667, 'drugs': 3668, 'endorses': 3669, 'ever': 3670, 'ex': 3671, 'execution': 3672, 'executive': 3673, 'factory': 3674, 'father': 3675, 'ferry': 3676, 'fifteen': 3677, 'fifth': 3678, 'fighter': 3679, 'flood': 3680, 'funeral': 3681, 'genocide': 3682, 'gun': 3683, 'half': 3684, 'hunger': 3685, 'illegal': 3686, 'industry': 3687, 'leaked': 3688, 'levels': 3689, 'line': 3690, 'lottery': 3691, 'many': 3692, 'mass': 3693, 'meeting': 3694, 'miners': 3695, 'mosque': 3696, 'move': 3697, 'murdered': 3698, 'names': 3699, 'national': 3700, 'owner': 3701, 'partially': 3702, 'parties': 3703, 'past': 3704, 'peace': 3705, 'photos': 3706, 'pipeline': 3707, 'planned': 3708, 'play': 3709, 'pleads': 3710, 'price': 3711, 'private': 3712, 'rally': 3713, 'rebel': 3714, 'refuses': 3715, 'remain': 3716, 'reportedly': 3717, 'reporter': 3718, 'research': 3719, 'resume': 3720, 'river': 3721, 'sanctions': 3722, 'seek': 3723, 'seize': 3724, 'sexual': 3725, 'shakes': 3726, 'son': 3727, 'special': 3728, 'spy': 3729, 'stolen': 3730, 'technology': 3731, 'terrorism': 3732, 'treaty': 3733, 'upcoming': 3734, 'urges': 3735, 'van': 3736, 'violent': 3737, 'volcano': 3738, 'weeks': 3739, 'withdraws': 3740, 'worker': 3741, 'wounded': 3742, '*': 3743, '+': 3744, '2008–09': 3745, '4th': 3746, '51': 3747, '65': 3748, '69': 3749, '74': 3750, '76': 3751, '77': 3752, '81': 3753, 'AHS': 3754, 'Abortion': 3755, 'Abroad': 3756, 'Addict': 3757, 'Agrees': 3758, 'Aims': 3759, 'Airplane': 3760, 'Alcohol': 3761, 'Alexander': 3762, 'Alleged': 3763, 'Anger': 3764, 'Annual': 3765, 'Arrived': 3766, 'Arsenal': 3767, 'Arthur': 3768, 'Ashes': 3769, 'Association': 3770, 'Athens': 3771, 'Athletes': 3772, 'Avery': 3773, 'Bags': 3774, 'Base': 3775, 'Beard': 3776, 'Berlusconi': 3777, 'Blessed': 3778, 'Bold': 3779, 'Bolivia': 3780, 'Bomber': 3781, 'Boss': 3782, 'Bought': 3783, 'Brave': 3784, 'Brighten': 3785, 'Broadway': 3786, 'Brooklyn': 3787, 'Bundesliga': 3788, 'Buns': 3789, 'Burma': 3790, 'Buys': 3791, 'CNN': 3792, 'Caitlyn': 3793, 'Capitals': 3794, 'Carbon': 3795, 'Cargo': 3796, 'Carry': 3797, 'Cartoon': 3798, 'Cartoons': 3799, 'Catholic': 3800, 'Celebrated': 3801, 'Celtics': 3802, 'Cereal': 3803, 'Chad': 3804, 'Chairman': 3805, 'Championships': 3806, 'Charged': 3807, 'Chechnya': 3808, 'Check': 3809, 'Chennai': 3810, 'Chrissy': 3811, 'Civilians': 3812, 'Claim': 3813, 'Clue': 3814, 'Coal': 3815, 'Colleges': 3816, 'Commercial': 3817, 'Community': 3818, 'Competition': 3819, 'Concern': 3820, 'Connecticut': 3821, 'Continues': 3822, 'Convention': 3823, 'Count': 3824, 'Courts': 3825, 'Covered': 3826, 'Crying': 3827, 'Cutting': 3828, 'Cyclone': 3829, 'Dates': 3830, 'Deaf': 3831, 'Debut': 3832, 'Decide': 3833, 'Decided': 3834, 'Delhi': 3835, 'Described': 3836, 'Describes': 3837, 'Destroyed': 3838, 'Detail': 3839, 'Devils': 3840, 'Dies': 3841, 'Difficult': 3842, 'Dips': 3843, 'Dissident': 3844, 'Doctors': 3845, 'Drag': 3846, 'Drops': 3847, 'Drought': 3848, 'Drugs': 3849, 'Duff': 3850, 'Dump': 3851, 'Edwards': 3852, 'Egg': 3853, 'Elephant': 3854, 'Elizabeth': 3855, 'Ended': 3856, 'Ending': 3857, 'Enjoy': 3858, 'Enough': 3859, 'Envoy': 3860, 'Episodes': 3861, 'Evil': 3862, 'Executives': 3863, 'Exhibition': 3864, 'F1': 3865, 'Fabulous': 3866, 'Fat': 3867, 'Fights': 3868, 'Flip': 3869, 'Fly': 3870, 'Fucked': 3871, 'Gadgets': 3872, 'Ghraib': 3873, 'Grace': 3874, 'Gray': 3875, 'Greater': 3876, 'Guests': 3877, 'Halloweentown': 3878, 'Halt': 3879, 'Hampshire': 3880, 'Hangover': 3881, 'Happening': 3882, 'Hart': 3883, 'Haunted': 3884, 'Headlines': 3885, 'Helping': 3886, 'Honda': 3887, 'Honestly': 3888, 'Horrible': 3889, 'Household': 3890, 'Hoverboard': 3891, 'Hughes': 3892, 'Hurts': 3893, 'ID': 3894, 'Identity': 3895, 'Illustrations': 3896, 'Inc.': 3897, 'Income': 3898, 'Increase': 3899, 'Industrial': 3900, 'Information': 3901, 'Intel': 3902, 'Investigators': 3903, 'Isaac': 3904, 'Islamic': 3905, 'Jenson': 3906, 'Jeremy': 3907, 'Jobless': 3908, 'Jon': 3909, 'Journalist': 3910, 'Jury': 3911, 'Kenyan': 3912, 'Kerry': 3913, 'Killings': 3914, 'Kissing': 3915, 'Known': 3916, 'Labour': 3917, 'Lana': 3918, 'Latina': 3919, 'Legal': 3920, 'Lego': 3921, 'Lehman': 3922, 'Lets': 3923, 'Letters': 3924, 'Library': 3925, 'Limit': 3926, 'Lonely': 3927, 'Louis': 3928, 'Luke': 3929, 'Luxury': 3930, 'M': 3931, 'Marijuana': 3932, 'Marine': 3933, 'Marketing': 3934, 'Mart': 3935, 'Martha': 3936, 'Mary': 3937, 'Maybe': 3938, 'Measure': 3939, 'Mesmerizing': 3940, 'Miley': 3941, 'Militants': 3942, 'Minimalist': 3943, 'Moldova': 3944, 'Mouth': 3945, 'Mubarak': 3946, 'Mum': 3947, 'Murray': 3948, 'Musicians': 3949, 'Muslims': 3950, 'N': 3951, 'NY': 3952, 'NZ': 3953, 'Natalie': 3954, 'Nation': 3955, 'Native': 3956, 'Nature': 3957, 'Net': 3958, 'Netherlands': 3959, 'Nostalgic': 3960, 'Notice': 3961, 'Novels': 3962, 'Numbers': 3963, 'Offering': 3964, 'Opened': 3965, 'Oregon': 3966, 'Oreo': 3967, 'Outlook': 3968, 'P.': 3969, 'Painful': 3970, 'Palin': 3971, 'Panic': 3972, 'Passenger': 3973, 'Pays': 3974, 'Peak': 3975, 'Phrases': 3976, 'Pies': 3977, 'Piracy': 3978, 'Plastic': 3979, 'Poem': 3980, 'Pole': 3981, 'Poses': 3982, 'Prepares': 3983, 'Presents': 3984, 'Print': 3985, 'Pull': 3986, 'Pushes': 3987, 'Racing': 3988, 'Radcliffe': 3989, 'Raised': 3990, 'Rape': 3991, 'Recognise': 3992, 'Reese': 3993, 'Regret': 3994, 'Reindeer': 3995, 'Resolution': 3996, 'Rivals': 3997, 'Rocket': 3998, 'Rocky': 3999, 'Romance': 4000, 'Routine': 4001, 'Rude': 4002, 'Sanders': 4003, 'Scientist': 4004, 'Screenshot': 4005, 'Sentence': 4006, 'Sentenced': 4007, 'Serial': 4008, 'Setting': 4009, 'Severe': 4010, 'Ship': 4011, 'Shirts': 4012, 'Significant': 4013, 'Simply': 4014, 'Sing': 4015, 'Sit': 4016, 'Sixteen': 4017, 'Snack': 4018, 'Society': 4019, 'Sold': 4020, 'Sound': 4021, 'Southwest': 4022, 'Squash': 4023, 'Stakes': 4024, 'Stole': 4025, 'Stores': 4026, 'Strange': 4027, 'Stuck': 4028, 'Stylish': 4029, 'Sudanese': 4030, 'Sugar': 4031, 'Survey': 4032, 'Teeth': 4033, 'Tehran': 4034, 'Teigen': 4035, 'Tibet': 4036, 'Tigers': 4037, 'Timberlake': 4038, 'Tokyo': 4039, 'Toll': 4040, 'Toxic': 4041, 'Trek': 4042, 'Trials': 4043, 'Trip': 4044, 'Tsvangirai': 4045, 'Twilight': 4046, 'Twin': 4047, 'Tyson': 4048, 'Ugly': 4049, 'Unusual': 4050, 'Upon': 4051, 'Useful': 4052, 'Van': 4053, 'Virtual': 4054, 'W.': 4055, 'Wikimania': 4056, 'Worked': 4057, 'Worse': 4058, 'Writer': 4059, 'Zendaya': 4060, 'accepts': 4061, 'allow': 4062, 'among': 4063, 'armed': 4064, 'authorities': 4065, 'blamed': 4066, 'blood': 4067, 'bombers': 4068, 'born': 4069, 'bound': 4070, 'break': 4071, 'buys': 4072, 'cancels': 4073, 'capture': 4074, 'carbon': 4075, 'catches': 4076, 'caught': 4077, 'caused': 4078, 'celebrate': 4079, 'cell': 4080, 'closure': 4081, 'commits': 4082, 'community': 4083, 'concerns': 4084, 'connection': 4085, 'cooperation': 4086, 'council': 4087, 'cricket': 4088, 'debt': 4089, 'defense': 4090, 'delay': 4091, 'dollar': 4092, 'domain': 4093, 'eastern': 4094, 'efforts': 4095, 'expected': 4096, 'fatal': 4097, 'female': 4098, 'field': 4099, 'files': 4100, 'forum': 4101, 'fourteen': 4102, 'fourth': 4103, 'girls': 4104, 'gold': 4105, 'heads': 4106, 'history': 4107, 'hoax': 4108, 'hostages': 4109, 'hosts': 4110, 'iPod': 4111, 'independence': 4112, 'indicted': 4113, 'invasion': 4114, 'job': 4115, 'joint': 4116, 'jury': 4117, 'land': 4118, 'large': 4119, 'late': 4120, 'lawsuits': 4121, 'lifted': 4122, 'limit': 4123, 'lost': 4124, 'mail': 4125, 'main': 4126, 'mother': 4127, 'murders': 4128, 'night': 4129, 'non': 4130, 'northeastern': 4131, 'opening': 4132, 'order': 4133, 'park': 4134, 'percent': 4135, 'pilots': 4136, 'politicians': 4137, 'postponed': 4138, 'premier': 4139, 'pressure': 4140, 'pulls': 4141, 'raids': 4142, 'rail': 4143, 'rates': 4144, 'reactor': 4145, 'records': 4146, 'remains': 4147, 'rocks': 4148, 'runway': 4149, 'science': 4150, 'scientists': 4151, 'scores': 4152, 'sea': 4153, 'sees': 4154, 'sent': 4155, 'sentences': 4156, 'serial': 4157, 'serious': 4158, 'services': 4159, 'settlement': 4160, 'shoots': 4161, 'shop': 4162, 'short': 4163, 'shuts': 4164, 'sinks': 4165, 'sites': 4166, 'social': 4167, 'south': 4168, 'stock': 4169, 'store': 4170, 'storms': 4171, 'struck': 4172, 'targets': 4173, 'teacher': 4174, 'threaten': 4175, 'ties': 4176, 'told': 4177, 'torture': 4178, 'track': 4179, 'transplant': 4180, 'trapped': 4181, 'victim': 4182, 'were': 4183, 'winner': 4184, '‘': 4185, '1,000': 4186, '101': 4187, '11th': 4188, '2003': 4189, '53': 4190, '61': 4191, '67': 4192, '73': 4193, '79': 4194, '86': 4195, '88': 4196, 'ADHD': 4197, 'APEC': 4198, 'Abbas': 4199, 'Accident': 4200, 'Accounts': 4201, 'Accurately': 4202, 'Acne': 4203, 'Actress': 4204, 'Addicted': 4205, 'Advances': 4206, 'Adventure': 4207, 'Afghans': 4208, 'Agents': 4209, 'Albums': 4210, 'Alliance': 4211, 'Ancient': 4212, 'Anderson': 4213, 'Angela': 4214, 'Anime': 4215, 'Anxious': 4216, 'Apart': 4217, 'Apartment': 4218, 'Apparently': 4219, 'Appeals': 4220, 'Arctic': 4221, 'Area': 4222, 'Armenian': 4223, 'Arrives': 4224, 'Asbestos': 4225, 'Asks': 4226, 'Assembly': 4227, 'Astronaut': 4228, 'August': 4229, 'Awakening': 4230, 'Bag': 4231, 'Bangkok': 4232, 'Barbie': 4233, 'Batman': 4234, 'Beatles': 4235, 'Bedroom': 4236, 'Belgium': 4237, 'Bernanke': 4238, 'Billions': 4239, 'Birds': 4240, 'Birmingham': 4241, 'Blind': 4242, 'Blonde': 4243, 'Blunt': 4244, 'Boozy': 4245, 'Brawn': 4246, 'Breaks': 4247, 'Breast': 4248, 'Brian': 4249, 'Brief': 4250, 'Brought': 4251, 'Brownies': 4252, 'Bun': 4253, 'Businesses': 4254, 'Captions': 4255, 'Cardinals': 4256, 'Cars': 4257, 'Cellphones': 4258, 'Centre': 4259, 'Charity': 4260, 'Cheating': 4261, 'Chip': 4262, 'Cinderella': 4263, 'Claus': 4264, 'Clemens': 4265, 'Closer': 4266, 'Closes': 4267, 'Closet': 4268, 'Clueless': 4269, 'Clues': 4270, 'Co.': 4271, 'Coke': 4272, 'Commander': 4273, 'Commons': 4274, 'Conan': 4275, 'Concert': 4276, 'Conservatives': 4277, 'Copenhagen': 4278, 'Corporate': 4279, 'Craig': 4280, 'Crap': 4281, 'Creepiest': 4282, 'Cringeworthy': 4283, 'Criticism': 4284, 'Crucial': 4285, 'Cups': 4286, 'Danced': 4287, 'Danish': 4288, 'Decadent': 4289, 'Delevingne': 4290, 'Delightful': 4291, 'Democracy': 4292, 'Derby': 4293, 'Describe': 4294, 'Detainee': 4295, 'Dictionary': 4296, 'Differently': 4297, 'Dip': 4298, 'Disappointing': 4299, 'Dish': 4300, 'Diva': 4301, 'Diversity': 4302, 'Division': 4303, 'Documents': 4304, 'Doubts': 4305, 'Drinks': 4306, 'Drone': 4307, 'Dublin': 4308, 'ETA': 4309, 'Efforts': 4310, 'Emissions': 4311, 'Evidence': 4312, 'Exchange': 4313, 'Exes': 4314, 'Exists': 4315, 'Expect': 4316, 'Explained': 4317, 'Eyeliner': 4318, 'FC': 4319, 'Fairy': 4320, 'Farmers': 4321, 'Fatal': 4322, 'Feud': 4323, 'Fighting': 4324, 'Filled': 4325, 'Filming': 4326, 'Fine': 4327, 'Fisher': 4328, 'Fitness': 4329, 'Flee': 4330, 'Flooding': 4331, 'Flying': 4332, 'Foot': 4333, 'Forecasts': 4334, 'Forgotten': 4335, 'Fortune': 4336, 'Forum': 4337, 'Freddie': 4338, 'Fried': 4339, 'Fruit': 4340, 'Fucks': 4341, 'Fukushima': 4342, 'Gaddafi': 4343, 'Gap': 4344, 'Garden': 4345, 'Gene': 4346, 'Ghost': 4347, 'Greenpeace': 4348, 'Hairy': 4349, 'Hannah': 4350, 'Harder': 4351, 'Headline': 4352, 'Heat': 4353, 'Heels': 4354, 'Helpful': 4355, 'Henson': 4356, 'Hipster': 4357, 'Holders': 4358, 'Honduran': 4359, 'Hunter': 4360, 'I.B.M.': 4361, 'I.R.S.': 4362, 'IRA': 4363, 'IRL': 4364, 'Icelandic': 4365, 'Idol': 4366, 'Ikea': 4367, 'Impress': 4368, 'Improve': 4369, 'Indies': 4370, 'Injury': 4371, 'Instant': 4372, 'Instead': 4373, 'Investigates': 4374, 'Jackie': 4375, 'Jailed': 4376, 'Jaw': 4377, 'Jays': 4378, 'Jewish': 4379, 'Joint': 4380, 'Jonas': 4381, 'Jr.': 4382, 'June': 4383, 'Justices': 4384, 'Kabul': 4385, 'Kentucky': 4386, 'Kimmel': 4387, 'Kitten': 4388, 'Krasinski': 4389, 'Kristen': 4390, 'Kuwait': 4391, 'L.A.': 4392, 'Lakers': 4393, 'Lama': 4394, 'Lamar': 4395, 'Lance': 4396, 'Landing': 4397, 'Later': 4398, 'Launch': 4399, 'Lawmaker': 4400, 'Likes': 4401, 'Lil': 4402, 'Lion': 4403, 'Lots': 4404, 'Lovely': 4405, 'Lunch': 4406, 'Maine': 4407, 'Mall': 4408, 'Maps': 4409, 'Matthew': 4410, 'Meals': 4411, 'Memorial': 4412, 'Memphis': 4413, 'Milan': 4414, 'Mixed': 4415, 'Monica': 4416, 'Motion': 4417, 'Mount': 4418, 'Mr.': 4419, 'MySpace': 4420, 'N.': 4421, 'NSW': 4422, 'Nancy': 4423, 'Nebraska': 4424, 'Nerds': 4425, 'None': 4426, 'Note': 4427, 'Novel': 4428, 'Often': 4429, 'Oh': 4430, 'Optimism': 4431, 'Options': 4432, 'Organization': 4433, 'Orlando': 4434, 'Ossetia': 4435, 'Outfit': 4436, 'Parker': 4437, 'Plame': 4438, 'Podcast': 4439, 'Poop': 4440, 'Poor': 4441, 'Possibly': 4442, 'Prepare': 4443, 'Presses': 4444, 'Programs': 4445, 'Progress': 4446, 'Provides': 4447, 'Qantas': 4448, 'Racism': 4449, 'Rage': 4450, 'Ran': 4451, 'Reached': 4452, 'Realize': 4453, 'Recreation': 4454, 'Regulators': 4455, 'Religious': 4456, 'Reportedly': 4457, 'Rescued': 4458, 'Researchers': 4459, 'Risks': 4460, 'Roberts': 4461, 'Robinson': 4462, 'Rom': 4463, 'Rwandan': 4464, 'Ryanair': 4465, 'Santana': 4466, 'Satisfy': 4467, 'Satyam': 4468, 'Scared': 4469, 'Schools': 4470, 'Section': 4471, 'Seeking': 4472, 'Selfies': 4473, 'Sells': 4474, 'Sephora': 4475, 'Settles': 4476, 'Sexiest': 4477, 'Shame': 4478, 'Shaming': 4479, 'Shanghai': 4480, 'Shape': 4481, 'Shelter': 4482, 'Shifts': 4483, 'Shorts': 4484, 'Shower': 4485, 'Signals': 4486, 'Sikh': 4487, 'Skip': 4488, 'Skype': 4489, 'Skywalker': 4490, 'Slaying': 4491, 'Slytherin': 4492, 'Smoke': 4493, 'Smoking': 4494, 'Snape': 4495, 'Soon': 4496, 'Soups': 4497, 'Spaghetti': 4498, 'Spectacular': 4499, 'SpongeBob': 4500, 'Sport': 4501, 'Spread': 4502, 'Sprint': 4503, 'Standing': 4504, 'Stark': 4505, 'Steal': 4506, 'Stick': 4507, 'Stranger': 4508, 'Strategy': 4509, 'Streak': 4510, 'Stupid': 4511, 'Subway': 4512, 'Sues': 4513, 'Sums': 4514, 'Sundance': 4515, 'Sunny': 4516, 'Superheroes': 4517, 'Sure': 4518, 'Sushi': 4519, 'Suspects': 4520, 'Swanson': 4521, 'Sweets': 4522, 'Switch': 4523, 'Syndrome': 4524, 'Talent': 4525, 'Tasty': 4526, 'Tatum': 4527, 'Theater': 4528, 'Thinking': 4529, 'Throwback': 4530, 'Toast': 4531, 'Toilet': 4532, 'Torture': 4533, 'Transformations': 4534, 'Transport': 4535, 'Trivia': 4536, 'Truck': 4537, 'Trust': 4538, 'Tsunami': 4539, 'Tuesday': 4540, 'Tweeting': 4541, 'Twentysomething': 4542, 'Ugandan': 4543, 'Universal': 4544, 'Unless': 4545, 'Unlikely': 4546, 'Vacation': 4547, 'Valley': 4548, 'Vampire': 4549, 'Venture': 4550, 'Verizon': 4551, 'Veteran': 4552, 'Vows': 4553, 'Wal': 4554, 'Walk': 4555, 'Waves': 4556, 'Wheelchair': 4557, 'Wilson': 4558, 'Wind': 4559, 'Worries': 4560, 'Worthy': 4561, 'Zoo': 4562, 'abandoned': 4563, 'abortion': 4564, 'aftershock': 4565, 'ahead': 4566, 'appears': 4567, 'appoints': 4568, 'areas': 4569, 'article': 4570, 'asbestos': 4571, 'assassination': 4572, 'attend': 4573, 'avoid': 4574, 'bail': 4575, 'ballot': 4576, 'biggest': 4577, 'boat': 4578, 'boycott': 4579, 'boys': 4580, 'burn': 4581, 'burning': 4582, 'censorship': 4583, 'challenge': 4584, 'civil': 4585, 'collapsed': 4586, 'concert': 4587, 'condition': 4588, 'conditions': 4589, 'copyright': 4590, 'couple': 4591, 'creator': 4592, 'criminal': 4593, 'custody': 4594, 'delays': 4595, 'delivery': 4596, 'destroyed': 4597, 'details': 4598, 'detention': 4599, 'documentary': 4600, 'elect': 4601, 'emissions': 4602, 'employee': 4603, 'environmental': 4604, 'experts': 4605, 'failed': 4606, 'fast': 4607, 'fined': 4608, 'flag': 4609, 'goal': 4610, 'hospitalized': 4611, 'humanitarian': 4612, 'identified': 4613, 'images': 4614, 'independent': 4615, 'interest': 4616, 'landfall': 4617, 'language': 4618, 'latest': 4619, 'linked': 4620, 'majority': 4621, 'massive': 4622, 'material': 4623, 'measures': 4624, 'militant': 4625, 'milk': 4626, 'mountain': 4627, 'movie': 4628, 'museum': 4629, 'must': 4630, 'nations': 4631, 'newspaper': 4632, 'only': 4633, 'operation': 4634, 'operations': 4635, 'overturns': 4636, 'performance': 4637, 'pledges': 4638, 'policemen': 4639, 'porn': 4640, 'position': 4641, 'possibly': 4642, 'potential': 4643, 'prepare': 4644, 'project': 4645, 'promises': 4646, 'quits': 4647, 'rain': 4648, 'recent': 4649, 'recount': 4650, 'reduce': 4651, 'refinery': 4652, 'reform': 4653, 'refugees': 4654, 'resolution': 4655, 'retires': 4656, 'reveal': 4657, 'rock': 4658, 'runs': 4659, 'safe': 4660, 'secretary': 4661, 'send': 4662, 'seventeen': 4663, 'shoot': 4664, 'sixteen': 4665, 'smoking': 4666, 'sold': 4667, 'sparks': 4668, 'speaks': 4669, 'species': 4670, 'spotted': 4671, 'stops': 4672, 'strong': 4673, 'submarine': 4674, 'surgery': 4675, 'survivors': 4676, 'suspicion': 4677, 'suspicious': 4678, 'tests': 4679, 'they': 4680, 'tourist': 4681, 'transit': 4682, 'transport': 4683, 'twelve': 4684, 'typhoon': 4685, 'underway': 4686, 'v': 4687, 'vice': 4688, 'violations': 4689, 'voice': 4690, 'voting': 4691, 'vs': 4692, 'way': 4693, 'web': 4694, 'wildfires': 4695, 'withdraw': 4696, 'wo': 4697, 'youth': 4698, '150': 4699, '2014': 4700, '2018': 4701, '300': 4702, '300,000': 4703, '3rd': 4704, '46': 4705, '49': 4706, '57': 4707, '64': 4708, '68': 4709, '7-Day': 4710, '72': 4711, '737': 4712, '80s': 4713, '83': 4714, '91': 4715, '92': 4716, '93': 4717, 'AFC': 4718, 'AIDS': 4719, 'AT&T': 4720, 'Acts': 4721, 'Adviser': 4722, 'Agencies': 4723, 'Agreement': 4724, 'Aladdin': 4725, 'Allows': 4726, 'Alonso': 4727, 'Alter': 4728, 'Alternative': 4729, 'Am': 4730, 'Andrew': 4731, 'Anonymous': 4732, 'Anthony': 4733, 'Apology': 4734, 'Appetizers': 4735, 'Approach': 4736, 'Arnold': 4737, 'Arson': 4738, 'Ashley': 4739, 'Atlantis': 4740, 'Authority': 4741, 'Awful': 4742, 'B': 4743, 'B.': 4744, 'Bail': 4745, 'Balls': 4746, 'Barclays': 4747, 'Baylor': 4748, 'Beasts': 4749, 'Belarus': 4750, 'Belcher': 4751, 'Belgrade': 4752, 'Benet': 4753, 'Bin': 4754, 'Bisexual': 4755, 'Blizzard': 4756, 'Blog': 4757, 'Boob': 4758, 'Bothered': 4759, 'Box': 4760, 'Boyega': 4761, 'Bradley': 4762, 'Bucharest': 4763, 'Burning': 4764, 'Busy': 4765, 'C': 4766, 'Cage': 4767, 'Cambodia': 4768, 'Cambridge': 4769, 'Cameras': 4770, 'Candidates': 4771, 'Caribbean': 4772, 'Carrying': 4773, 'Carter': 4774, 'Cavaliers': 4775, 'Celtic': 4776, 'Century': 4777, 'Champion': 4778, 'Channing': 4779, 'Charles': 4780, 'Charter': 4781, 'Chili': 4782, 'Chilling': 4783, 'Cindy': 4784, 'Clark': 4785, 'Clashes': 4786, 'Clears': 4787, 'Cleveland': 4788, 'Closed': 4789, 'Closing': 4790, 'Clubs': 4791, 'Coaches': 4792, 'Code': 4793, 'Commissioner': 4794, 'Compete': 4795, 'Confidence': 4796, 'Congressional': 4797, 'Congressman': 4798, 'Consider': 4799, 'Considers': 4800, 'Constitution': 4801, 'Continue': 4802, 'Cop': 4803, 'Costa': 4804, 'Craigslist': 4805, 'Crown': 4806, 'Cruise': 4807, 'Cruz': 4808, 'Cubs': 4809, 'Cupcakes': 4810, 'Current': 4811, 'Cyrus': 4812, 'Dalai': 4813, 'Dallas': 4814, 'Dam': 4815, 'Deadpool': 4816, 'Deals': 4817, 'Decision': 4818, 'Decorate': 4819, 'Decorations': 4820, 'Deeply': 4821, 'Derek': 4822, 'Designer': 4823, 'Designs': 4824, 'Devil': 4825, 'Dinosaur': 4826, 'Disaster': 4827, 'Disco': 4828, 'Distance': 4829, 'Divisions': 4830, 'Diwali': 4831, 'Domestic': 4832, 'Dominant': 4833, 'Dorm': 4834, 'Dragon': 4835, 'Dramatic': 4836, 'Drawings': 4837, 'Drivers': 4838, 'Dropping': 4839, 'Dumb': 4840, 'Dumbledore': 4841, 'Dwight': 4842, 'Earns': 4843, 'Easier': 4844, 'Easiest': 4845, 'Edge': 4846, 'Eggs': 4847, 'Electric': 4848, 'Electronic': 4849, 'Eliminates': 4850, 'Elle': 4851, 'Emotions': 4852, 'Entertainment': 4853, 'Ethiopia': 4854, 'Event': 4855, 'Exercise': 4856, 'Existence': 4857, 'Expert': 4858, 'Express': 4859, 'F.B.I.': 4860, 'Fact': 4861, 'Factor': 4862, 'Factory': 4863, 'Fallout': 4864, 'False': 4865, 'Families': 4866, 'Fantasy': 4867, 'Felipe': 4868, 'Feminists': 4869, 'Ferrell': 4870, 'Fi': 4871, 'Fiat': 4872, 'Fifteen': 4873, 'Fighter': 4874, 'Fill': 4875, 'Fires': 4876, 'Fit': 4877, 'Fix': 4878, 'Flag': 4879, 'Flags': 4880, 'Flat': 4881, 'Flood': 4882, 'Footage': 4883, 'Form': 4884, 'Fries': 4885, 'Funeral': 4886, 'G20': 4887, 'Gabrielle': 4888, 'Galaxy': 4889, 'Gaming': 4890, 'Georgian': 4891, 'Ghana': 4892, 'Girlfriends': 4893, 'Glad': 4894, 'Glasgow': 4895, 'Goldman': 4896, 'Goosebumps': 4897, 'Gore': 4898, 'Gotham': 4899, 'Governments': 4900, 'Grocery': 4901, 'Guatemalan': 4902, 'Hanukkah': 4903, 'Harassment': 4904, 'Hathaway': 4905, 'Hats': 4906, 'Heartwarming': 4907, 'Heathrow': 4908, 'Hermione': 4909, 'Hide': 4910, 'Historical': 4911, 'Hitler': 4912, 'Hoax': 4913, 'Holmes': 4914, 'Homeland': 4915, 'Homemade': 4916, 'Honduras': 4917, 'Honeymoon': 4918, 'Horizon': 4919, 'Housewives': 4920, 'Hunk': 4921, 'I.M.F.': 4922, 'III': 4923, 'IQ': 4924, 'Ideal': 4925, 'Independent': 4926, 'Indicted': 4927, 'Indie': 4928, 'Ingredient': 4929, 'Ink': 4930, 'Insurgents': 4931, 'Interest': 4932, 'Introverts': 4933, 'Invented': 4934, 'Islam': 4935, 'Jacob': 4936, 'Jake': 4937, 'Jamaica': 4938, 'Jane': 4939, 'Janet': 4940, 'Jar': 4941, 'Jenna': 4942, 'Jewelry': 4943, 'Judges': 4944, 'Jump': 4945, 'Junk': 4946, 'Khmer': 4947, 'Kosovo': 4948, 'Kremlin': 4949, 'Kris': 4950, 'LA': 4951, 'Lauren': 4952, 'Led': 4953, 'Legacy': 4954, 'Leipheimer': 4955, 'Lending': 4956, 'Leo': 4957, 'Levitt': 4958, 'Liberty': 4959, 'Lifetime': 4960, 'Liked': 4961, 'Limits': 4962, 'Lindsey': 4963, 'Linked': 4964, 'Links': 4965, 'Lips': 4966, 'Lisa': 4967, 'Lisbon': 4968, 'Listening': 4969, 'Lively': 4970, 'Liz': 4971, 'Lucky': 4972, 'Lupita': 4973, 'MDC': 4974, 'MLB': 4975, 'Machine': 4976, 'Madison': 4977, 'Magazines': 4978, 'Main': 4979, 'Makeovers': 4980, 'Malaysian': 4981, 'Manitoba': 4982, 'Marines': 4983, 'Masculinity': 4984, 'Mashup': 4985, 'Masturbation': 4986, 'Math': 4987, 'Max': 4988, 'Meant': 4989, 'Medal': 4990, 'Medtronic': 4991, 'Melt': 4992, 'Messy': 4993, 'Michelle': 4994, 'Migrants': 4995, 'Miles': 4996, 'Mindy': 4997, 'Minneapolis': 4998, 'Mortgages': 4999, 'Mouse': 5000, 'Moved': 5001, 'Movement': 5002, 'Mug': 5003, 'Multiple': 5004, 'Murdoch': 5005, 'Musharraf': 5006, 'Mutual': 5007, 'Myself': 5008, 'Mystery': 5009, 'Nerd': 5010, 'Networks': 5011, 'Newcastle': 5012, 'Newest': 5013, 'Newspapers': 5014, 'Niall': 5015, 'Nickelodeon': 5016, 'Nightmares': 5017, 'Nominee': 5018, 'Northeast': 5019, 'Notes': 5020, 'Nuggets': 5021, \"Nyong'o\": 5022, 'O': 5023, 'Oakland': 5024, 'Obscure': 5025, 'Offense': 5026, 'Offices': 5027, 'Organized': 5028, 'Organizing': 5029, 'Orgasm': 5030, 'Ousted': 5031, 'Overhaul': 5032, 'Owned': 5033, 'Pack': 5034, 'Pair': 5035, 'Parade': 5036, 'Passes': 5037, 'Pat': 5038, 'Pee': 5039, 'Penguin': 5040, 'Pepsi': 5041, 'Perspective': 5042, 'Peruvian': 5043, 'Pettitte': 5044, 'Photoshopped': 5045, 'Pig': 5046, 'Pirate': 5047, 'Piss': 5048, 'Pit': 5049, 'Planned': 5050, 'Plants': 5051, 'Playlist': 5052, 'Plea': 5053, 'Pleads': 5054, 'Pool': 5055, 'Positions': 5056, 'Posting': 5057, 'Potential': 5058, 'Prank': 5059, 'Pranked': 5060, 'Producer': 5061, 'Pros': 5062, 'Prospect': 5063, 'Protect': 5064, 'Protection': 5065, 'Puerto': 5066, 'Pug': 5067, 'Quality': 5068, 'Quebec': 5069, 'Quietly': 5070, 'Quite': 5071, 'Raccoon': 5072, 'Rae': 5073, 'Rail': 5074, 'Raven': 5075, 'Ray': 5076, 'Reaches': 5077, 'Realest': 5078, 'Rebuild': 5079, 'Recent': 5080, 'Recreated': 5081, 'Redmayne': 5082, 'Reid': 5083, 'Releases': 5084, 'Replace': 5085, 'Reserve': 5086, 'Resistance': 5087, 'Resists': 5088, 'Rico': 5089, 'Rides': 5090, 'Riding': 5091, 'Rio': 5092, 'Rockets': 5093, 'Roddick': 5094, 'Roll': 5095, 'Rome': 5096, 'Rouge': 5097, 'Rounds': 5098, 'Rove': 5099, 'Row': 5100, 'Ruled': 5101, 'SAG': 5102, 'Safe': 5103, 'Sanctions': 5104, 'Sandy': 5105, 'Schwarzenegger': 5106, 'Seattle': 5107, 'Semester': 5108, 'Sequel': 5109, 'Serbian': 5110, 'Settlement': 5111, 'Seventeen': 5112, 'Shake': 5113, 'Shitty': 5114, 'Shuts': 5115, 'Sibling': 5116, 'Siblings': 5117, 'Sides': 5118, 'Silver': 5119, 'Skating': 5120, 'Slip': 5121, 'Smartphone': 5122, 'Smiling': 5123, 'Socks': 5124, 'Sometimes': 5125, 'Sorority': 5126, 'Source': 5127, 'Speed': 5128, 'Spell': 5129, 'Spoke': 5130, 'Spooky': 5131, 'Spy': 5132, 'Staff': 5133, 'Stance': 5134, 'Stands': 5135, 'Starting': 5136, 'Stays': 5137, 'Steelers': 5138, 'Stem': 5139, 'Stirs': 5140, 'Storms': 5141, 'Stress': 5142, 'Struggling': 5143, 'Studios': 5144, 'Subtle': 5145, 'Sue': 5146, 'Summit': 5147, 'Supposed': 5148, 'Surprisingly': 5149, 'Swapped': 5150, 'Sweep': 5151, 'Tactics': 5152, 'Talked': 5153, 'Tape': 5154, 'Taraji': 5155, 'Teaser': 5156, 'Telescope': 5157, 'Thankful': 5158, 'Theories': 5159, 'Therapy': 5160, 'Thirsty': 5161, 'Threatens': 5162, 'Threats': 5163, 'Tightens': 5164, 'Tools': 5165, 'Touch': 5166, 'Tougher': 5167, 'Tourists': 5168, 'Traditions': 5169, 'Trait': 5170, 'Trap': 5171, 'Trash': 5172, 'Twenty': 5173, 'Tyra': 5174, 'USC': 5175, 'Uncertain': 5176, 'Underwear': 5177, 'Unions': 5178, 'Upbeat': 5179, 'Upcoming': 5180, 'Users': 5181, 'VP': 5182, 'Vatican': 5183, 'Vegetarian': 5184, 'Villains': 5185, 'Villanova': 5186, 'Viola': 5187, 'Vogue': 5188, 'Voices': 5189, 'Voters': 5190, 'WWE': 5191, 'Warner': 5192, 'Wary': 5193, 'Waters': 5194, 'Weak': 5195, 'Weighs': 5196, 'Wet': 5197, 'Wheel': 5198, 'Withdrawal': 5199, 'Witherspoon': 5200, 'Wiz': 5201, 'Woes': 5202, 'Wolf': 5203, 'Wonderfully': 5204, 'Writers': 5205, 'Yorkshire': 5206, 'aboard': 5207, 'account': 5208, 'acquires': 5209, 'activity': 5210, 'ad': 5211, 'address': 5212, 'addresses': 5213, 'ambassador': 5214, 'amidst': 5215, 'animal': 5216, 'apologizes': 5217, 'appointed': 5218, 'approved': 5219, 'articles': 5220, 'assassinated': 5221, 'asylum': 5222, 'auto': 5223, 'available': 5224, 'award': 5225, 'backs': 5226, 'bankruptcy': 5227, 'baseball': 5228, 'blaze': 5229, 'block': 5230, 'blocked': 5231, 'blocks': 5232, 'both': 5233, 'camp': 5234, 'can': 5235, 'capsizes': 5236, 'career': 5237, 'cases': 5238, 'chairman': 5239, 'channel': 5240, 'chaos': 5241, 'cities': 5242, 'commission': 5243, 'concludes': 5244, 'convention': 5245, 'coup': 5246, 'critical': 5247, 'criticizes': 5248, 'cruise': 5249, 'damages': 5250, 'date': 5251, 'deadly': 5252, 'defends': 5253, 'deficit': 5254, 'demolition': 5255, 'derails': 5256, 'design': 5257, 'died': 5258, 'digital': 5259, 'display': 5260, 'domestic': 5261, 'drilling': 5262, 'drive': 5263, 'effect': 5264, 'eruption': 5265, 'escape': 5266, 'ethics': 5267, 'euro': 5268, 'event': 5269, 'executed': 5270, 'executes': 5271, 'expert': 5272, 'failure': 5273, 'festival': 5274, 'file': 5275, 'firefighters': 5276, 'fly': 5277, 'footballer': 5278, 'forest': 5279, 'full': 5280, 'further': 5281, 'future': 5282, 'grave': 5283, 'green': 5284, 'hacking': 5285, 'having': 5286, 'heavy': 5287, 'highest': 5288, 'hijacked': 5289, 'hunt': 5290, 'immigration': 5291, 'inside': 5292, 'internet': 5293, 'interview': 5294, 'island': 5295, 'key': 5296, 'kidnapping': 5297, 'known': 5298, 'lack': 5299, 'leaks': 5300, 'left': 5301, 'lifts': 5302, 'lights': 5303, 'list': 5304, 'live': 5305, 'location': 5306, 'long': 5307, 'longest': 5308, 'lose': 5309, 'march': 5310, 'massacre': 5311, 'model': 5312, 'multiple': 5313, 'name': 5314, 'nearly': 5315, 'nears': 5316, 'need': 5317, 'nominates': 5318, 'north': 5319, 'outage': 5320, 'own': 5321, 'penalty': 5322, 'personal': 5323, 'phones': 5324, 'points': 5325, 'post': 5326, 'pre': 5327, 'predicts': 5328, 'produce': 5329, 'promote': 5330, 'pullout': 5331, 'push': 5332, 'question': 5333, 'questions': 5334, 'raised': 5335, 'rating': 5336, 'reached': 5337, 'recovered': 5338, 'remove': 5339, 'replace': 5340, 'researchers': 5341, 'retire': 5342, 'reward': 5343, 'riot': 5344, 'risk': 5345, 'scheme': 5346, 'secret': 5347, 'seriously': 5348, 'sharing': 5349, 'shopping': 5350, 'should': 5351, 'some': 5352, 'song': 5353, 'spot': 5354, 'stations': 5355, 'stimulus': 5356, 'stores': 5357, 'suggest': 5358, 'suspend': 5359, 'teens': 5360, 'terrorists': 5361, 'theft': 5362, 'thousand': 5363, 'thrown': 5364, 'toilet': 5365, 'tourists': 5366, 'towards': 5367, 'trail': 5368, 'triple': 5369, 'union': 5370, 'unions': 5371, 'university': 5372, 'user': 5373, 'vehicle': 5374, 'visa': 5375, 'voters': 5376, 'warming': 5377, 'warn': 5378, 'wrestler': 5379, '10,000': 5380, '100,000': 5381, '12-year': 5382, '180': 5383, '3.5': 5384, '30,000': 5385, '56': 5386, '59': 5387, '6.5': 5388, '700': 5389, '71': 5390, '89': 5391, '98': 5392, 'A&M': 5393, 'Aaron': 5394, 'Acceptance': 5395, 'Accusations': 5396, 'Accuses': 5397, 'Achievement': 5398, 'Acting': 5399, 'Adulthood': 5400, 'Affair': 5401, 'Agenda': 5402, 'Ahmadinejad': 5403, 'Aim': 5404, 'Alexandra': 5405, 'Algerian': 5406, 'Alice': 5407, 'Allen': 5408, 'Allies': 5409, 'Amandla': 5410, 'Amazingly': 5411, 'Android': 5412, 'Animated': 5413, 'Announce': 5414, 'Announced': 5415, 'Apologizes': 5416, 'Appearance': 5417, 'Argentine': 5418, 'Armed': 5419, 'Armenia': 5420, 'Arrive': 5421, 'Arts': 5422, 'Ash': 5423, 'Asking': 5424, 'Astronauts': 5425, 'Authorities': 5426, 'Authors': 5427, 'Automakers': 5428, 'BMW': 5429, 'Backs': 5430, 'Badu': 5431, 'Bang': 5432, 'Bangs': 5433, 'Barnes': 5434, 'Barry': 5435, 'Beast': 5436, 'Beating': 5437, 'Bee': 5438, 'Beirut': 5439, 'Belongs': 5440, 'Bernard': 5441, 'Bias': 5442, 'Billionaire': 5443, 'Bills': 5444, 'Bite': 5445, 'Blackhawks': 5446, 'Blockbuster': 5447, 'Bone': 5448, 'Boner': 5449, 'Bonus': 5450, 'Bottom': 5451, 'Boxes': 5452, 'Bra': 5453, 'Brides': 5454, 'Bridesmaid': 5455, 'Brilliantly': 5456, 'Britons': 5457, 'Bryan': 5458, 'Bucket': 5459, 'Buddy': 5460, 'Bullying': 5461, 'Burmese': 5462, 'Burris': 5463, 'Businessman': 5464, 'CA': 5465, 'Cable': 5466, 'Calgary': 5467, 'Calling': 5468, 'Caloundra': 5469, 'Campbell': 5470, 'Candle': 5471, 'Candles': 5472, 'Cape': 5473, 'Cappella': 5474, 'Carb': 5475, 'Cassini': 5476, 'Casting': 5477, 'Category': 5478, 'Cease': 5479, 'Celebrating': 5480, 'Ceremony': 5481, 'Chain': 5482, 'Charlie': 5483, 'Charming': 5484, 'Chechen': 5485, 'Christopher': 5486, 'Circuit': 5487, 'Cites': 5488, 'Claire': 5489, 'Climb': 5490, 'Coalition': 5491, 'Coleman': 5492, 'Colorful': 5493, 'Comebacks': 5494, 'Comfort': 5495, 'Compliments': 5496, 'Con': 5497, 'Confederations': 5498, 'Confess': 5499, 'Confusion': 5500, 'Conrad': 5501, 'Constantly': 5502, 'Contact': 5503, 'Contestant': 5504, 'Controversy': 5505, 'Conversations': 5506, 'Convicted': 5507, 'Cope': 5508, 'Corgi': 5509, 'Corn': 5510, 'Corruption': 5511, 'Costco': 5512, 'Coup': 5513, 'Crack': 5514, 'Crawl': 5515, 'Crew': 5516, 'Criminal': 5517, 'Critic': 5518, 'Criticizes': 5519, 'Crock': 5520, 'Cuban': 5521, 'Cuomo': 5522, 'Curb': 5523, 'Curse': 5524, 'Customers': 5525, 'DVD': 5526, 'Dame': 5527, 'Damon': 5528, 'Dan': 5529, 'Darwin': 5530, 'DeLay': 5531, 'Deadline': 5532, 'Debated': 5533, 'Deepwater': 5534, 'Defend': 5535, 'Delicate': 5536, 'Delivers': 5537, 'Delphi': 5538, 'Dept': 5539, 'Discover': 5540, 'Discovered': 5541, 'Disick': 5542, 'Disorders': 5543, 'Divorced': 5544, 'Dormer': 5545, 'Doubt': 5546, 'Dresses': 5547, 'Drinker': 5548, 'Dry': 5549, 'Dylan': 5550, 'E.P.A.': 5551, 'Eagles': 5552, 'Easily': 5553, 'Eaten': 5554, 'Ecuador': 5555, 'Edges': 5556, 'Education': 5557, 'Eleven': 5558, 'Elliott': 5559, 'Email': 5560, 'Embrace': 5561, 'Emerge': 5562, 'Endeavour': 5563, 'Enemy': 5564, 'Enjoying': 5565, 'Estonia': 5566, 'Europeans': 5567, 'Eva': 5568, 'Events': 5569, 'Everest': 5570, 'Excellent': 5571, 'Exclusive': 5572, 'Existed': 5573, 'Expects': 5574, 'Expedition': 5575, 'Experienced': 5576, 'Explosions': 5577, 'Extreme': 5578, 'F.D.A.': 5579, 'Falters': 5580, 'Fandom': 5581, 'Faris': 5582, 'Farm': 5583, 'Fascinating': 5584, 'Features': 5585, 'FedEx': 5586, 'Feed': 5587, 'Fees': 5588, 'Felix': 5589, 'Fierce': 5590, 'File': 5591, 'Filing': 5592, 'Finance': 5593, 'Financing': 5594, 'Fired': 5595, 'Fits': 5596, 'Flirting': 5597, 'Fort': 5598, 'Founder': 5599, 'Freaky': 5600, 'Freshers': 5601, 'Fußball': 5602, 'Gallinari': 5603, 'Gamers': 5604, 'Gerald': 5605, 'Glamour': 5606, 'Glenn': 5607, 'Glory': 5608, 'Gmail': 5609, 'Goddess': 5610, 'Gon': 5611, 'Goodbye': 5612, 'Googled': 5613, 'Grab': 5614, 'Grade': 5615, 'Graham': 5616, 'Grammar': 5617, 'Grinch': 5618, 'Guest': 5619, 'HBO': 5620, 'HGTV': 5621, 'Hack': 5622, 'Halsey': 5623, 'Handler': 5624, 'Hang': 5625, 'Hanging': 5626, 'Harassed': 5627, 'Harper': 5628, 'Hat': 5629, 'Hated': 5630, 'Haters': 5631, 'Haunt': 5632, 'Hears': 5633, 'Hearts': 5634, 'Heaven': 5635, 'Hiding': 5636, 'Hills': 5637, 'Hindu': 5638, 'Holy': 5639, 'Hotels': 5640, 'Hour': 5641, 'Hours': 5642, 'Howard': 5643, 'Hummus': 5644, 'Hunt': 5645, 'ICC': 5646, 'IT': 5647, 'Icy': 5648, 'Imagine': 5649, 'Immigrants': 5650, 'Imprisoned': 5651, 'Improved': 5652, 'Inauguration': 5653, 'Inquiries': 5654, 'Insider': 5655, 'Inspiration': 5656, 'Instagrammed': 5657, 'Instruments': 5658, 'Investor': 5659, 'Invitational': 5660, 'Irritate': 5661, 'Islamist': 5662, 'Islamists': 5663, 'Islanders': 5664, 'Istanbul': 5665, 'Item': 5666, 'Ivy': 5667, 'J.Lo': 5668, 'Jean': 5669, 'Jeans': 5670, 'Jesse': 5671, 'Jeter': 5672, 'Joined': 5673, 'Joining': 5674, 'Julia': 5675, 'Julianne': 5676, 'Junior': 5677, 'Kaling': 5678, 'Kapoor': 5679, 'Karaoke': 5680, 'Karl': 5681, 'Katniss': 5682, 'Kazakhstan': 5683, 'Ken': 5684, 'Kept': 5685, 'Khalifa': 5686, 'Kidnapped': 5687, 'Kittens': 5688, 'Knowledge': 5689, 'Kourtney': 5690, 'L.P.G.A.': 5691, 'L.S.U.': 5692, 'Lack': 5693, 'Laid': 5694, 'Landmarks': 5695, 'Languages': 5696, 'Laurent': 5697, 'Lawson': 5698, 'Lawyers': 5699, 'Lea': 5700, 'Leadership': 5701, 'Learning': 5702, 'Legendary': 5703, 'Legs': 5704, 'Lesson': 5705, 'Lifeline': 5706, 'Lighter': 5707, 'Lightweight': 5708, 'Linux': 5709, 'Listened': 5710, 'Literal': 5711, 'Lockerbie': 5712, 'Log': 5713, 'Logo': 5714, 'Lottery': 5715, 'Luck': 5716, 'MGM': 5717, 'Maintains': 5718, 'Manuel': 5719, 'Marquette': 5720, 'Matching': 5721, 'Maze': 5722, 'Measures': 5723, 'Memo': 5724, 'Memories': 5725, 'Mid': 5726, 'Milestones': 5727, 'Militant': 5728, 'Misconceptions': 5729, 'Mississippi': 5730, 'Mitchell': 5731, 'Miyazaki': 5732, 'Moldovan': 5733, 'Mongolia': 5734, 'Mortgage': 5735, 'Motorcycle': 5736, 'Mozilla': 5737, 'Mugs': 5738, 'N.Y.': 5739, 'NSYNC': 5740, 'Nascar': 5741, 'Necklaces': 5742, 'Nervous': 5743, 'Niger': 5744, 'Notre': 5745, 'Nurses': 5746, 'Nutella': 5747, 'OS': 5748, 'Object': 5749, 'Objects': 5750, 'Obsession': 5751, 'Offensive': 5752, 'Offshore': 5753, 'Oliver': 5754, 'Oman': 5755, 'Onion': 5756, 'Opel': 5757, 'Optimistic': 5758, 'Orioles': 5759, 'Outer': 5760, 'Oversight': 5761, 'Oxford': 5762, 'PSA': 5763, 'Pace': 5764, 'Package': 5765, 'Pakistanis': 5766, 'Palm': 5767, 'Pam': 5768, 'Patience': 5769, 'Patriarchy': 5770, 'Peer': 5771, 'Pension': 5772, 'Percentage': 5773, 'Perks': 5774, 'Photoshop': 5775, 'Picky': 5776, 'Pilots': 5777, 'Playoff': 5778, 'Pledges': 5779, 'Politician': 5780, 'Pork': 5781, 'Portugal': 5782, 'Pose': 5783, 'Posh': 5784, 'Practice': 5785, 'Prep': 5786, 'Preparing': 5787, 'Priest': 5788, 'Production': 5789, 'Professional': 5790, 'Proposals': 5791, 'Protester': 5792, 'Provide': 5793, 'Proving': 5794, 'Quits': 5795, 'R&B': 5796, 'R.': 5797, 'Racial': 5798, 'Racist': 5799, 'Rafael': 5800, 'Raid': 5801, 'Raids': 5802, 'Ramen': 5803, 'Ramsay': 5804, 'Rat': 5805, 'Ratings': 5806, 'Rattles': 5807, 'Raw': 5808, 'Realities': 5809, 'Receive': 5810, 'Regulation': 5811, 'Regulator': 5812, 'Remix': 5813, 'Remove': 5814, 'Renault': 5815, 'Respond': 5816, 'Retired': 5817, 'Rhode': 5818, 'Rid': 5819, 'Rita': 5820, 'Robots': 5821, 'Roles': 5822, 'Roller': 5823, 'Rolling': 5824, 'Roommates': 5825, 'Rumors': 5826, 'Rumsfeld': 5827, 'Runners': 5828, 'Rwanda': 5829, 'S.O.': 5830, 'Sadly': 5831, 'Samsung': 5832, 'Sanchez': 5833, 'Sandwich': 5834, 'Santas': 5835, 'Sarkozy': 5836, 'Satellite': 5837, 'Score': 5838, 'Scouts': 5839, 'Sean': 5840, 'Seats': 5841, 'Seem': 5842, 'Semifinal': 5843, 'Senators': 5844, 'Sensitive': 5845, 'Seth': 5846, 'Shabaab': 5847, 'Shade': 5848, 'Shades': 5849, 'Shah': 5850, 'Sharapova': 5851, 'Sherlock': 5852, 'Shirtless': 5853, 'Shore': 5854, 'Shout': 5855, 'Siberia': 5856, 'Silent': 5857, 'Sings': 5858, 'Sinks': 5859, 'Siri': 5860, 'Situation': 5861, 'Snap': 5862, 'Socially': 5863, 'Sort': 5864, 'Sounds': 5865, 'Soyuz': 5866, 'Speaking': 5867, 'Spider': 5868, 'Spin': 5869, 'Stan': 5870, 'Standoff': 5871, 'Starring': 5872, 'Stealing': 5873, 'Steel': 5874, 'Stenberg': 5875, 'Stereotypically': 5876, 'Stolen': 5877, 'Stoner': 5878, 'Stretch': 5879, 'Strictly': 5880, 'Stripped': 5881, 'Studio': 5882, 'Successor': 5883, 'Suffering': 5884, 'Supermodel': 5885, 'Survived': 5886, 'Swaps': 5887, 'Sweater': 5888, 'Sweatpants': 5889, 'Swimming': 5890, 'Teaching': 5891, 'Telling': 5892, 'Temporary': 5893, 'Terrify': 5894, 'Terrorism': 5895, 'Testing': 5896, 'Texted': 5897, 'Thaksin': 5898, 'Thank': 5899, 'Thanks': 5900, 'Thin': 5901, 'Thirteen': 5902, 'Though': 5903, 'Threaten': 5904, 'Threw': 5905, 'Thrill': 5906, 'Thrives': 5907, 'Thursday': 5908, 'Tibetan': 5909, 'Tickets': 5910, 'Tight': 5911, 'Titan': 5912, 'Titanic': 5913, 'Toddler': 5914, 'Tone': 5915, 'Tonga': 5916, 'Tool': 5917, 'Tornado': 5918, 'Touching': 5919, 'Tourism': 5920, 'Trader': 5921, 'Tradition': 5922, 'Tragic': 5923, 'Trainer': 5924, 'Trains': 5925, 'Trees': 5926, 'Trophy': 5927, 'Troubled': 5928, 'Tutorial': 5929, 'Twelve': 5930, 'U.K.': 5931, 'UFO': 5932, 'Uber': 5933, 'Unbelievably': 5934, 'Uncomfortable': 5935, 'Undeniable': 5936, 'Unemployment': 5937, 'Unforgettable': 5938, 'Unicorn': 5939, 'Unrest': 5940, 'Upgrade': 5941, 'Ups': 5942, 'Utility': 5943, 'VW': 5944, 'Vanuatu': 5945, 'Venus': 5946, 'Vermont': 5947, 'Vestas': 5948, 'Vick': 5949, 'Views': 5950, 'Violent': 5951, 'Visa': 5952, 'Walked': 5953, 'Walks': 5954, 'Wardrobe': 5955, 'Warren': 5956, 'Wayne': 5957, 'Weapons': 5958, 'Wears': 5959, 'Website': 5960, 'Weekly': 5961, 'Weeknd': 5962, 'Weeknight': 5963, 'Weirdly': 5964, 'Wendy': 5965, 'Whale': 5966, 'Whales': 5967, 'Whatever': 5968, 'Wi': 5969, 'Wildfires': 5970, 'Winfrey': 5971, 'Wishes': 5972, 'Witnesses': 5973, 'Wonthaggi': 5974, 'Worldwide': 5975, 'Writing': 5976, 'Written': 5977, 'Wyoming': 5978, 'XVI': 5979, 'Xbox': 5980, 'Yanks': 5981, 'Yard': 5982, 'Youth': 5983, 'Yule': 5984, 'Zealander': 5985, 'Zenit': 5986, 'Zone': 5987, 'abducted': 5988, 'accidents': 5989, 'affairs': 5990, 'affect': 5991, 'agency': 5992, 'album': 5993, 'allowed': 5994, 'animals': 5995, 'appear': 5996, 'approval': 5997, 'arson': 5998, 'art': 5999, 'attempting': 6000, 'automaker': 6001, 'awards': 6002, 'bad': 6003, 'band': 6004, 'beach': 6005, 'bears': 6006, 'beaten': 6007, 'bills': 6008, 'black': 6009, 'blog': 6010, 'books': 6011, 'box': 6012, 'broadcaster': 6013, 'brother': 6014, 'bullying': 6015, 'cable': 6016, 'called': 6017, 'captured': 6018, 'captures': 6019, 'card': 6020, 'cave': 6021, 'chair': 6022, 'citizen': 6023, 'claimed': 6024, 'comedian': 6025, 'comment': 6026, 'committee': 6027, 'competition': 6028, 'complaints': 6029, 'condemns': 6030, 'considering': 6031, 'counts': 6032, 'cover': 6033, 'crashed': 6034, 'create': 6035, 'creates': 6036, 'credit': 6037, 'currency': 6038, 'current': 6039, 'deadline': 6040, 'decline': 6041, 'demand': 6042, 'detainee': 6043, 'detects': 6044, 'diplomat': 6045, 'discovery': 6046, 'discuss': 6047, 'disease': 6048, 'displaced': 6049, 'division': 6050, 'do': 6051, 'dozen': 6052, 'drawing': 6053, 'draws': 6054, 'driving': 6055, 'e': 6056, 'effort': 6057, 'eighteen': 6058, 'electorate': 6059, 'electric': 6060, 'email': 6061, 'embassies': 6062, 'emerge': 6063, 'era': 6064, 'escapes': 6065, 'evidence': 6066, 'exercise': 6067, 'exit': 6068, 'experiences': 6069, 'explosives': 6070, 'eye': 6071, 'eyes': 6072, 'fail': 6073, 'farm': 6074, 'faster': 6075, 'fifty': 6076, 'fine': 6077, 'fish': 6078, 'fixing': 6079, 'formally': 6080, 'front': 6081, 'funds': 6082, 'gain': 6083, 'gang': 6084, 'gene': 6085, 'grand': 6086, 'groups': 6087, 'growing': 6088, 'hacked': 6089, 'had': 6090, 'hate': 6091, 'him': 6092, 'hockey': 6093, 'hole': 6094, 'homeless': 6095, 'honor': 6096, 'honour': 6097, 'hopes': 6098, 'housing': 6099, 'iTunes': 6100, 'ill': 6101, 'increased': 6102, 'industrial': 6103, 'injuries': 6104, 'insurance': 6105, 'investigates': 6106, 'involved': 6107, 'jails': 6108, 'jets': 6109, 'joins': 6110, 'license': 6111, 'lift': 6112, 'like': 6113, 'liquid': 6114, 'living': 6115, 'loathing': 6116, 'local': 6117, 'loss': 6118, 'losses': 6119, 'making': 6120, 'manufacturer': 6121, 'marijuana': 6122, 'marks': 6123, 'meat': 6124, 'memorial': 6125, 'message': 6126, 'might': 6127, 'na': 6128, 'nation': 6129, 'negotiations': 6130, 'networks': 6131, 'nomination': 6132, 'northwest': 6133, 'offensive': 6134, 'offices': 6135, 'officially': 6136, 'pandemic': 6137, 'partial': 6138, 'parts': 6139, 'patent': 6140, 'patient': 6141, 'patients': 6142, 'peacekeepers': 6143, 'per': 6144, 'person': 6145, 'pictures': 6146, 'pilgrims': 6147, 'poor': 6148, 'possession': 6149, 'posts': 6150, 'preliminary': 6151, 'presenter': 6152, 'press': 6153, 'presumed': 6154, 'previously': 6155, 'prisons': 6156, 'pro': 6157, 'problems': 6158, 'products': 6159, 'progress': 6160, 'proposed': 6161, 'protestors': 6162, 'pull': 6163, 'purchase': 6164, 'questioned': 6165, 'railway': 6166, 'reading': 6167, 'recovery': 6168, 'refused': 6169, 'region': 6170, 'related': 6171, 'removed': 6172, 'repairs': 6173, 'respond': 6174, 'responds': 6175, 'responsibility': 6176, 'resumes': 6177, 'retains': 6178, 'revealed': 6179, 'rioting': 6180, 'riots': 6181, 'robbery': 6182, 'rugby': 6183, 'runoff': 6184, 'sacked': 6185, 'satellites': 6186, 'save': 6187, 'seat': 6188, 'sector': 6189, 'seized': 6190, 'seizure': 6191, 'self': 6192, 'sends': 6193, 'seventh': 6194, 'shuttle': 6195, 'situation': 6196, 'soon': 6197, 'speed': 6198, 'spreads': 6199, 'stabbed': 6200, 'stand': 6201, 'standoff': 6202, 'statement': 6203, 'status': 6204, 'stay': 6205, 'steal': 6206, 'stealing': 6207, 'story': 6208, 'success': 6209, 'sued': 6210, 'supermarket': 6211, 'surrenders': 6212, 'survives': 6213, 'survivor': 6214, 'suspension': 6215, 'swimmer': 6216, 'tallest': 6217, 'terminal': 6218, 'testing': 6219, 'them': 6220, 'thirteen': 6221, 'tornado': 6222, 'trains': 6223, 'tries': 6224, 'troop': 6225, 'try': 6226, 'turns': 6227, 'unconstitutional': 6228, 'unity': 6229, 'update': 6230, 'videos': 6231, 'wage': 6232, 'want': 6233, 'watchdog': 6234, 'wave': 6235, 'websites': 6236, 'welcome': 6237, 'whales': 6238, 'white': 6239, 'winners': 6240, 'winning': 6241, 'withdrawal': 6242, 'worm': 6243, 'worst': 6244, 'young': 6245, '1.5': 6246, '10-year': 6247, '103': 6248, '106': 6249, '10th': 6250, '160': 6251, '19-Year': 6252, '1970s': 6253, '1995': 6254, '1st': 6255, '2.5': 6256, '22-Year': 6257, '3-Year': 6258, '447': 6259, '44th': 6260, '5,000': 6261, '50,000': 6262, '66': 6263, '7.0': 6264, '78': 6265, '8,000': 6266, '8.5': 6267, '900': 6268, '94': 6269, '96': 6270, 'AFL': 6271, 'AU': 6272, 'Abducted': 6273, 'Abuelita': 6274, 'Abuses': 6275, 'Accord': 6276, 'Achievements': 6277, 'Activities': 6278, 'Adventures': 6279, 'Advocates': 6280, 'Aerial': 6281, 'Affordable': 6282, 'Afraid': 6283, 'Aged': 6284, 'Agent': 6285, 'Ages': 6286, 'Aide': 6287, 'Ailing': 6288, 'Aircraft': 6289, 'Airliner': 6290, 'Alarm': 6291, 'Alberta': 6292, 'Alcoholic': 6293, 'Ambush': 6294, 'Amnesty': 6295, 'Amputee': 6296, 'Angel': 6297, 'Angels': 6298, 'Anglo': 6299, 'Angola': 6300, 'Annan': 6301, 'Annoy': 6302, 'Antitrust': 6303, 'Anybody': 6304, 'Apocalypse': 6305, 'Appeared': 6306, 'Appears': 6307, 'Approve': 6308, 'Arabs': 6309, 'Ariane': 6310, 'Armor': 6311, 'Asleep': 6312, 'Assisted': 6313, 'Astronomers': 6314, 'Attorney': 6315, 'Austrian': 6316, 'Automobile': 6317, 'Avalanche': 6318, 'Avril': 6319, 'BB-8': 6320, 'BSkyB': 6321, 'Backstage': 6322, 'Backstreet': 6323, 'Backyard': 6324, 'Bacon': 6325, 'Bagels': 6326, 'Bahamas': 6327, 'Bailouts': 6328, 'Balance': 6329, 'Baldwin': 6330, 'Ballot': 6331, 'Baltimore': 6332, 'Basque': 6333, 'Beck': 6334, 'Beginning': 6335, 'Belize': 6336, 'Belle': 6337, 'Benefit': 6338, 'Benson': 6339, 'Betancourt': 6340, 'Bing': 6341, 'Biotech': 6342, 'Bishop': 6343, 'Bitch': 6344, 'BlackBerry': 6345, 'Block': 6346, 'Blogger': 6347, 'Bolivian': 6348, 'Bolt': 6349, 'Bondholders': 6350, 'Bones': 6351, 'Boo': 6352, 'Bosnian': 6353, 'Boxing': 6354, 'Brace': 6355, 'Braces': 6356, 'Brady': 6357, 'Braid': 6358, 'Brampton': 6359, 'Brands': 6360, 'Breastfeeding': 6361, 'Breed': 6362, 'Bright': 6363, 'Brits': 6364, 'Bro': 6365, 'Broncos': 6366, 'Bronx': 6367, 'Bros': 6368, 'Brunch': 6369, 'Burden': 6370, 'Burnett': 6371, 'Burns': 6372, 'Burrito': 6373, 'Burst': 6374, 'CBS': 6375, 'CD': 6376, 'CHP': 6377, 'CW': 6378, 'Caledonia': 6379, 'Californian': 6380, 'Cambodian': 6381, 'Canal': 6382, 'Canberra': 6383, 'Cancels': 6384, 'Cap': 6385, 'Caps': 6386, 'Cared': 6387, 'Carly': 6388, 'Carol': 6389, 'Cause': 6390, 'Celebration': 6391, 'Challenges': 6392, 'Chamberlain': 6393, 'Charities': 6394, 'Charlotte': 6395, 'Chart': 6396, 'Chase': 6397, 'Chewbacca': 6398, 'Chips': 6399, 'Choices': 6400, 'Christina': 6401, 'Chávez': 6402, 'Citing': 6403, 'Claiming': 6404, 'Clarke': 6405, 'Clarkson': 6406, 'Classical': 6407, 'Classics': 6408, 'Classy': 6409, 'Cleaning': 6410, 'Cleric': 6411, 'Clients': 6412, 'Cloud': 6413, 'Coaching': 6414, 'Codes': 6415, 'Cody': 6416, 'Collider': 6417, 'Columbus': 6418, 'Com': 6419, 'Combat': 6420, 'Combinations': 6421, 'Comedians': 6422, 'Comfortable': 6423, 'Committed': 6424, 'Compared': 6425, 'Complaints': 6426, 'Complicated': 6427, 'Confuse': 6428, 'Conspiracy': 6429, 'Constitutional': 6430, 'Content': 6431, 'Continued': 6432, 'Conversation': 6433, 'Cooked': 6434, 'Cops': 6435, 'Core': 6436, 'Cosmo': 6437, 'Cosy': 6438, 'Crackdown': 6439, 'Crafts': 6440, 'Crawford': 6441, 'Creates': 6442, 'Creating': 6443, 'Creator': 6444, 'Creature': 6445, 'Critical': 6446, 'Crop': 6447, 'Crushed': 6448, 'Crushes': 6449, 'Cube': 6450, 'Cultural': 6451, 'Cumberbatch': 6452, 'Curly': 6453, 'Curvy': 6454, 'Customer': 6455, 'Cycle': 6456, 'Cycling': 6457, 'Cyclist': 6458, 'Cyprus': 6459, 'D': 6460, 'Daimler': 6461, 'Daisy': 6462, 'Damaged': 6463, 'Dancer': 6464, 'Darth': 6465, 'Dawson': 6466, 'Daytona': 6467, 'Decades': 6468, 'Decor': 6469, 'Deepest': 6470, 'Deepika': 6471, 'Deer': 6472, 'Defeat': 6473, 'Defence': 6474, 'Delayed': 6475, 'Delays': 6476, 'Delectable': 6477, 'Delete': 6478, 'Deliciously': 6479, 'Delightfully': 6480, 'Denies': 6481, 'Denmark': 6482, 'Dentist': 6483, 'Depot': 6484, 'Depressed': 6485, 'Deserves': 6486, 'Designed': 6487, 'Designers': 6488, 'Detained': 6489, 'Detention': 6490, 'Diaries': 6491, 'Dioxide': 6492, 'Disabilities': 6493, 'Disabled': 6494, 'Disputed': 6495, 'Dissidents': 6496, 'District': 6497, 'Diverse': 6498, 'Dividend': 6499, 'Dixie': 6500, 'Dollars': 6501, 'Dolls': 6502, 'Dominate': 6503, 'Dominated': 6504, 'Dominique': 6505, 'Door': 6506, 'Dope': 6507, 'Doping': 6508, 'Doritos': 6509, 'Dose': 6510, 'Dough': 6511, 'Doughnut': 6512, 'Downs': 6513, 'Drawn': 6514, 'Drunken': 6515, 'Ducks': 6516, 'EBay': 6517, 'EPA': 6518, 'Earned': 6519, 'Easter': 6520, 'Eater': 6521, 'Eaters': 6522, 'Eats': 6523, 'Ebola': 6524, 'Editor': 6525, 'Editors': 6526, 'El': 6527, 'Elected': 6528, 'Elements': 6529, 'Emerges': 6530, 'Emotion': 6531, 'Engineering': 6532, 'Entirely': 6533, 'Equity': 6534, 'Error': 6535, 'Erykah': 6536, 'Escape': 6537, 'Essay': 6538, 'Estimates': 6539, 'Ethiopian': 6540, 'Euphoric': 6541, 'Eurozone': 6542, 'Exact': 6543, 'Excuses': 6544, 'Expands': 6545, 'Explorer': 6546, 'Exports': 6547, 'Eyebrow': 6548, 'F': 6549, 'F.D.I.C.': 6550, 'FARC': 6551, 'FEMA': 6552, 'Fab': 6553, 'Familiar': 6554, 'Fargo': 6555, 'Farts': 6556, 'Favre': 6557, 'Feast': 6558, 'Feature': 6559, 'Featuring': 6560, 'Feminism': 6561, 'Fernando': 6562, 'Ferrari': 6563, 'Festive': 6564, 'Fiction': 6565, 'Fifty': 6566, 'Fighters': 6567, 'Filipinos': 6568, 'Filly': 6569, 'Filter': 6570, 'Finishes': 6571, 'Finn': 6572, 'Fishermen': 6573, 'Flashbacks': 6574, 'Flaws': 6575, 'Flights': 6576, 'Flower': 6577, 'Flowers': 6578, 'Focuses': 6579, 'Following': 6580, 'Foreigners': 6581, 'Fought': 6582, 'Franco': 6583, 'Freaks': 6584, 'Freestyle': 6585, 'Fry': 6586, 'Fuckboy': 6587, 'Fuller': 6588, 'Furiosa': 6589, 'Furniture': 6590, 'Further': 6591, 'GP': 6592, 'GPS': 6593, 'Gamer': 6594, 'Garbage': 6595, 'Gazans': 6596, 'Gazprom': 6597, 'Gbagbo': 6598, 'Gear': 6599, 'Geller': 6600, 'Gem': 6601, 'Genentech': 6602, 'Ghostbusters': 6603, 'Glass': 6604, 'Goal': 6605, 'Goalie': 6606, 'Goat': 6607, 'Golfers': 6608, 'Goodwin': 6609, 'Gooey': 6610, 'Gorilla': 6611, 'Grad': 6612, 'Grave': 6613, 'Greeting': 6614, 'Grounds': 6615, 'Guam': 6616, 'Gyllenhaal': 6617, 'Hailee': 6618, 'Haircut': 6619, 'Hamster': 6620, 'Han': 6621, 'Handed': 6622, 'Hanks': 6623, 'Happiness': 6624, 'Harbor': 6625, 'Harrison': 6626, 'Harsh': 6627, 'Harvard': 6628, 'Harvey': 6629, 'Haunting': 6630, 'Haven': 6631, 'Heads': 6632, 'Heck': 6633, 'Hedgehog': 6634, 'Height': 6635, 'Heroes': 6636, 'Herpes': 6637, 'Hiddleston': 6638, 'Higgins': 6639, 'Highly': 6640, 'Hijab': 6641, 'Hip': 6642, 'Hire': 6643, 'Historic': 6644, 'Hobbled': 6645, 'Homecoming': 6646, 'Horan': 6647, 'Horrifyingly': 6648, 'Hortons': 6649, 'Hoverboards': 6650, 'Hung': 6651, 'Hungarian': 6652, 'Hungover': 6653, 'Hungry': 6654, 'Huntsman': 6655, 'Hurdle': 6656, 'Hurdles': 6657, 'Hurricanes': 6658, 'Hysterical': 6659, 'IMF': 6660, 'Ian': 6661, 'Idaho': 6662, 'Imagined': 6663, 'Immigrant': 6664, 'Impact': 6665, 'Impression': 6666, 'Impressions': 6667, 'Impressive': 6668, 'Inaugural': 6669, 'Incentives': 6670, 'Include': 6671, 'Increases': 6672, 'Index': 6673, 'Indigenous': 6674, 'Inexpensive': 6675, 'Infographic': 6676, 'Ingenious': 6677, 'Ingredients': 6678, 'Injuries': 6679, 'Inkblot': 6680, 'Intensely': 6681, 'Inter': 6682, 'Interrogation': 6683, 'Interviewed': 6684, 'Invest': 6685, 'Investigated': 6686, 'Isiah': 6687, 'Islamabad': 6688, 'Isolated': 6689, 'Jacques': 6690, 'Jail': 6691, 'Jealous': 6692, 'Jedi': 6693, 'Jefferson': 6694, 'Jeopardy': 6695, 'Jepsen': 6696, 'Jess': 6697, 'Journalism': 6698, 'Journey': 6699, 'Juan': 6700, 'Junta': 6701, 'Kale': 6702, 'Kangaroo': 6703, 'Karachi': 6704, 'Katie': 6705, 'Ketchup': 6706, 'Khan': 6707, 'Knee': 6708, 'Knight': 6709, 'Koreans': 6710, 'Kyoto': 6711, 'L.': 6712, 'La': 6713, 'Largest': 6714, 'Lasting': 6715, 'Latino': 6716, 'Latinos': 6717, 'Laughter': 6718, 'Launching': 6719, 'Lavigne': 6720, 'Lawsuits': 6721, 'Laziest': 6722, 'Laziness': 6723, 'Leftover': 6724, 'Leg': 6725, 'Legend': 6726, 'Lenders': 6727, 'Leone': 6728, 'Lie': 6729, 'Lifting': 6730, 'Lindsay': 6731, 'Lingerie': 6732, 'Lingers': 6733, 'Lions': 6734, 'Litvinenko': 6735, 'Livingstone': 6736, 'Logos': 6737, 'Longest': 6738, 'Lula': 6739, 'Lush': 6740, 'Lying': 6741, 'M.': 6742, 'MSN': 6743, 'Madonna': 6744, 'Makeover': 6745, 'Malawi': 6746, 'Malaysia': 6747, 'Manage': 6748, 'Management': 6749, 'Managers': 6750, 'Managing': 6751, 'Manny': 6752, 'Mansion': 6753, 'Marilyn': 6754, 'Martial': 6755, 'Mash': 6756, 'Mashed': 6757, 'Mashups': 6758, 'Matters': 6759, 'Matthews': 6760, 'McMahon': 6761, 'Medvedev': 6762, 'Mega': 6763, 'Melting': 6764, 'Memoirs': 6765, 'Menu': 6766, 'Mercury': 6767, 'Merry': 6768, 'Microwave': 6769, 'Midwest': 6770, 'Miliband': 6771, 'Minded': 6772, 'Mirage': 6773, 'Misrata': 6774, 'Mob': 6775, 'Mode': 6776, 'Modeling': 6777, 'Modi': 6778, 'Molossia': 6779, 'Monaco': 6780, 'Monkey': 6781, 'Mood': 6782, 'Morales': 6783, 'Mormon': 6784, 'Moroccan': 6785, 'Morris': 6786, 'Moss': 6787, 'Mosul': 6788, 'Mothers': 6789, 'Motors': 6790, 'Mozambique': 6791, 'Mrs.': 6792, 'Muppet': 6793, 'Mural': 6794, 'Murphy': 6795, 'Musician': 6796, 'Narrows': 6797, 'Naturally': 6798, 'Nauru': 6799, 'Nazi': 6800, 'Negotiations': 6801, 'Nerdy': 6802, 'Nets': 6803, 'Ninth': 6804, 'Niro': 6805, 'Nominees': 6806, 'Noosa': 6807, 'Nurse': 6808, 'O.J.': 6809, 'OPEC': 6810, 'Odds': 6811, 'Odom': 6812, 'Oldest': 6813, 'Olive': 6814, 'Opportunity': 6815, 'Ordered': 6816, 'Ordinary': 6817, 'Ornaments': 6818, 'Orphan': 6819, 'Oslo': 6820, 'Outcry': 6821, 'Outlander': 6822, 'PGA': 6823, 'Pact': 6824, 'Paint': 6825, 'Paintings': 6826, 'Pals': 6827, 'Pancakes': 6828, 'Papers': 6829, 'Paradise': 6830, 'Paralympic': 6831, 'Passive': 6832, 'Passport': 6833, 'Pastor': 6834, 'Pedro': 6835, 'Penalty': 6836, 'Penguins': 6837, 'Pep': 6838, 'Peppers': 6839, 'Perform': 6840, 'Performing': 6841, 'Periodic': 6842, 'Peshawar': 6843, 'Pete': 6844, 'Phoebe': 6845, 'Picking': 6846, 'Pink': 6847, 'Pitt': 6848, 'Playoffs': 6849, 'Pledge': 6850, 'Plunge': 6851, 'Pluto': 6852, 'Poems': 6853, 'Poetry': 6854, 'Poised': 6855, 'Polite': 6856, 'Ponder': 6857, 'Ponders': 6858, 'Ponzi': 6859, 'Poot': 6860, 'Portland': 6861, 'Posed': 6862, 'Postpartum': 6863, 'Potatoes': 6864, 'Practical': 6865, 'Prayer': 6866, 'Preakness': 6867, 'Predicted': 6868, 'Preliminary': 6869, 'Pretended': 6870, 'Pretending': 6871, 'Produce': 6872, 'Profiles': 6873, 'Profound': 6874, 'Promote': 6875, 'Proposes': 6876, 'Published': 6877, 'Pulled': 6878, 'Purdue': 6879, 'Purple': 6880, 'Putin': 6881, 'Puzzles': 6882, 'Quake': 6883, 'Quest': 6884, \"Qur'an\": 6885, 'Rains': 6886, 'Rainy': 6887, 'Ralph': 6888, 'Ranch': 6889, 'Range': 6890, 'Reacted': 6891, 'Reboot': 6892, 'Rebuilding': 6893, 'Rebuke': 6894, 'Receives': 6895, 'Recorded': 6896, 'Recovering': 6897, 'Redhead': 6898, 'Reduce': 6899, 'References': 6900, 'Reflect': 6901, 'Reform': 6902, 'Refuses': 6903, 'Regain': 6904, 'Regional': 6905, 'Regulate': 6906, 'Reject': 6907, 'Rejected': 6908, 'Related': 6909, 'Relatives': 6910, 'Remarkable': 6911, 'Remembering': 6912, 'Removed': 6913, 'Renaissance': 6914, 'Rent': 6915, 'Reopen': 6916, 'Representative': 6917, 'Require': 6918, 'Restrictions': 6919, 'Retain': 6920, 'Rethink': 6921, 'Retire': 6922, 'Retirement': 6923, 'Returned': 6924, 'Reunited': 6925, 'Revive': 6926, 'Revives': 6927, 'Rica': 6928, 'Richmond': 6929, 'Rick': 6930, 'Ricky': 6931, 'Ripa': 6932, 'Risk': 6933, 'Ritual': 6934, 'Rivera': 6935, 'Robbie': 6936, 'Roche': 6937, 'Rodgers': 6938, 'Rogen': 6939, 'Roger': 6940, 'Romney': 6941, 'Roommate': 6942, 'Rooney': 6943, 'Roundup': 6944, 'Routs': 6945, 'RuPaul': 6946, 'Rugrats': 6947, 'Runway': 6948, 'Rush': 6949, 'S.': 6950, 'SO': 6951, 'Saint': 6952, 'Salad': 6953, 'Salads': 6954, 'Salmon': 6955, 'Salvador': 6956, 'Salvadoran': 6957, 'Sanford': 6958, 'Sassy': 6959, 'Sauce': 6960, 'Schedule': 6961, 'Schmidt': 6962, 'Schumacher': 6963, 'Scrumptious': 6964, 'Seat': 6965, 'Seed': 6966, 'Seeded': 6967, 'Seized': 6968, 'Seizes': 6969, 'Separate': 6970, 'Serie': 6971, 'Seventh': 6972, 'Shakes': 6973, 'Shaking': 6974, 'Shamers': 6975, 'Shareholders': 6976, 'Shark': 6977, 'Sharon': 6978, 'Shawn': 6979, 'Shell': 6980, 'Sheriff': 6981, 'Shoe': 6982, 'Showing': 6983, 'Shrinks': 6984, 'Sia': 6985, 'Sir': 6986, 'Sirius': 6987, 'Sitting': 6988, 'Sky': 6989, 'Slang': 6990, 'Slowly': 6991, 'Smarter': 6992, 'Smiles': 6993, 'Smoothies': 6994, 'Snake': 6995, 'Soaring': 6996, 'Socialist': 6997, 'Sofia': 6998, 'Somebody': 6999, 'Somehow': 7000, 'Sons': 7001, 'Sought': 7002, 'Soup': 7003, 'Southeast': 7004, 'SpaceX': 7005, 'Spam': 7006, 'Spelling': 7007, 'Spotify': 7008, 'Spotlight': 7009, 'Spreads': 7010, 'Sprinter': 7011, 'Spur': 7012, 'Squirrel': 7013, 'Stationery': 7014, 'Steinfeld': 7015, 'Stereotypes': 7016, 'Sticks': 7017, 'Stocking': 7018, 'Stops': 7019, 'Strains': 7020, 'Strait': 7021, 'Strangest': 7022, 'Straw': 7023, 'Streets': 7024, 'Stricker': 7025, 'Strict': 7026, 'String': 7027, 'Strings': 7028, 'Struck': 7029, 'Subscription': 7030, 'Suburb': 7031, 'Such': 7032, 'Sucked': 7033, 'Sucks': 7034, 'Suffer': 7035, 'Suggests': 7036, 'Sunnis': 7037, 'Superman': 7038, 'Supply': 7039, 'Surrounded': 7040, 'Surviving': 7041, 'Swaziland': 7042, 'Swearing': 7043, 'Swing': 7044, 'Switzerland': 7045, 'Symbol': 7046, 'TBT': 7047, 'Tainted': 7048, 'Tale': 7049, 'Tanker': 7050, 'Tanzania': 7051, 'Taps': 7052, 'Tarantino': 7053, 'Teammates': 7054, 'Teenagers': 7055, 'Telenovela': 7056, 'Telstra': 7057, 'Tension': 7058, 'Territory': 7059, 'Thierry': 7060, 'Thirty': 7061, 'Thrive': 7062, 'Throughout': 7063, 'Tigger': 7064, 'Tighten': 7065, 'Tortorella': 7066, 'Toughest': 7067, 'Traditional': 7068, 'Tragedy': 7069, 'Training': 7070, 'Transfer': 7071, 'Transition': 7072, 'Translated': 7073, 'Trapped': 7074, 'Treating': 7075, 'Tribune': 7076, 'Tricky': 7077, 'Trim': 7078, 'Troll': 7079, 'Truce': 7080, 'Trucks': 7081, 'Tube': 7082, 'U-17': 7083, 'UAE': 7084, 'Uganda': 7085, 'Ukrainian': 7086, 'Ukranian': 7087, 'Unease': 7088, 'Unexpectedly': 7089, 'Unique': 7090, 'Unrealistic': 7091, 'Upgrades': 7092, 'Upper': 7093, 'User': 7094, 'VI': 7095, 'Vader': 7096, 'Velvet': 7097, 'Vergara': 7098, 'Versions': 7099, 'Vettel': 7100, 'Victorian': 7101, 'Victories': 7102, 'Viewed': 7103, 'Villagers': 7104, 'Villages': 7105, 'Visited': 7106, 'Visiting': 7107, 'VoIP': 7108, 'Vocal': 7109, 'Voldemort': 7110, 'Volunteers': 7111, 'Vonn': 7112, 'Vow': 7113, 'WWF': 7114, 'Waffle': 7115, 'Waffles': 7116, 'Wahlberg': 7117, 'Wand': 7118, 'Wax': 7119, 'Weasley': 7120, 'Weave': 7121, 'Weeks': 7122, 'Weights': 7123, 'Welcome': 7124, 'Wellington': 7125, 'Widen': 7126, 'Wildly': 7127, 'Window': 7128, 'Wing': 7129, 'Winslet': 7130, 'Worker': 7131, 'Worlds': 7132, 'Wounded': 7133, 'Wow': 7134, 'Wreck': 7135, 'Wrenching': 7136, 'Wrestling': 7137, 'Wright': 7138, 'Yale': 7139, 'Yields': 7140, 'Youngsters': 7141, 'Z': 7142, 'Zambian': 7143, 'Zombie': 7144, 'Zoolander': 7145, 'Zuma': 7146, 'accept': 7147, 'accounts': 7148, 'accuse': 7149, 'additional': 7150, 'adopt': 7151, 'affected': 7152, 'affects': 7153, 'agent': 7154, 'agents': 7155, 'airspace': 7156, 'airstrikes': 7157, 'alleges': 7158, 'allows': 7159, 'amendment': 7160, 'anthrax': 7161, 'apologises': 7162, 'apply': 7163, 'asked': 7164, 'assaulted': 7165, 'assets': 7166, 'atomic': 7167, 'attention': 7168, 'bang': 7169, 'banks': 7170, 'bar': 7171, 'barred': 7172, 'because': 7173, 'beer': 7174, 'below': 7175, 'best': 7176, 'billionaire': 7177, 'birds': 7178, 'blocking': 7179, 'bloggers': 7180, 'boost': 7181, 'boss': 7182, 'brands': 7183, 'breached': 7184, 'breaches': 7185, 'brings': 7186, 'business': 7187, 'ceasefire': 7188, 'ceases': 7189, 'cells': 7190, 'chain': 7191, 'channels': 7192, 'charity': 7193, 'chosen': 7194, 'cigarettes': 7195, 'citizens': 7196, 'citizenship': 7197, 'civilian': 7198, 'class': 7199, 'clean': 7200, 'cleric': 7201, 'clinches': 7202, 'coal': 7203, 'cold': 7204, 'collapsing': 7205, 'coma': 7206, 'commercial': 7207, 'compete': 7208, 'complete': 7209, 'completes': 7210, 'compound': 7211, 'concerts': 7212, 'consider': 7213, 'constitutional': 7214, 'construction': 7215, 'contracts': 7216, 'convicts': 7217, 'convoy': 7218, 'cracks': 7219, 'criticises': 7220, 'crossing': 7221, 'cruelty': 7222, 'cutting': 7223, 'democratic': 7224, 'demolished': 7225, 'demonstrators': 7226, 'deportation': 7227, 'deputy': 7228, 'desktop': 7229, 'detect': 7230, 'developer': 7231, 'different': 7232, 'diplomats': 7233, 'discovers': 7234, 'diverted': 7235, 'dollars': 7236, 'draft': 7237, 'drought': 7238, 'editor': 7239, 'education': 7240, 'embassy': 7241, 'engine': 7242, 'environment': 7243, 'escalates': 7244, 'establish': 7245, 'evacuations': 7246, 'exchange': 7247, 'executives': 7248, 'expand': 7249, 'expels': 7250, 'exploration': 7251, 'facilities': 7252, 'fallen': 7253, 'fan': 7254, 'far': 7255, 'fear': 7256, 'feet': 7257, 'fighters': 7258, 'fights': 7259, 'films': 7260, 'finals': 7261, 'focuses': 7262, 'form': 7263, 'freight': 7264, 'frozen': 7265, 'fund': 7266, 'gains': 7267, 'gather': 7268, 'gender': 7269, 'generation': 7270, 'genetic': 7271, 'greenhouse': 7272, 'grounds': 7273, 'grow': 7274, 'grows': 7275, 'headed': 7276, 'headquarters': 7277, 'heat': 7278, 'helicopters': 7279, 'highway': 7280, 'hijacking': 7281, 'holiday': 7282, 'homes': 7283, 'humanity': 7284, 'hurt': 7285, 'image': 7286, 'impacts': 7287, 'infants': 7288, 'infected': 7289, 'inflation': 7290, 'information': 7291, 'injunction': 7292, 'injure': 7293, 'intelligence': 7294, 'introduce': 7295, 'investigated': 7296, 'isolated': 7297, 'issue': 7298, 'jackpot': 7299, 'keep': 7300, 'kicked': 7301, 'lake': 7302, 'leadership': 7303, 'legalizes': 7304, 'lightning': 7305, 'link': 7306, 'loans': 7307, 'longer': 7308, 'lunar': 7309, 'maker': 7310, 'mall': 7311, 'martial': 7312, 'meetings': 7313, 'member': 7314, 'messages': 7315, 'met': 7316, 'mouth': 7317, 'much': 7318, 'navy': 7319, 'needed': 7320, 'networking': 7321, 'nineteen': 7322, 'offenders': 7323, 'opera': 7324, 'owned': 7325, 'pad': 7326, 'panel': 7327, 'panic': 7328, 'parks': 7329, 'partnership': 7330, 'passed': 7331, 'passengers': 7332, 'passport': 7333, 'pays': 7334, 'piracy': 7335, 'placed': 7336, 'places': 7337, 'planet': 7338, 'plunge': 7339, 'pole': 7340, 'politics': 7341, 'population': 7342, 'pornography': 7343, 'poultry': 7344, 'present': 7345, 'pressured': 7346, 'priest': 7347, 'prize': 7348, 'producer': 7349, 'producers': 7350, 'product': 7351, 'profit': 7352, 'profits': 7353, 'promise': 7354, 'prompts': 7355, 'propose': 7356, 'prosecutors': 7357, 'pub': 7358, 'publishes': 7359, 'qualifier': 7360, 'radioactive': 7361, 'raise': 7362, 'raping': 7363, 'rapper': 7364, 'reacts': 7365, 'recommends': 7366, 'recorded': 7367, 'red': 7368, 'reduced': 7369, 'reelected': 7370, 'reforms': 7371, 'refugee': 7372, 'regarding': 7373, 'registration': 7374, 'reject': 7375, 'removal': 7376, 'reopens': 7377, 'repair': 7378, 'requests': 7379, 'resignations': 7380, 'resistant': 7381, 'resort': 7382, 'richest': 7383, 'ride': 7384, 'right': 7385, 'rising': 7386, 'role': 7387, 'rule': 7388, 'score': 7389, 'see': 7390, 'seeking': 7391, 'seen': 7392, 'seizes': 7393, 'sell': 7394, 'sells': 7395, 'semi': 7396, 'senator': 7397, 'sending': 7398, 'senior': 7399, 'sergeant': 7400, 'share': 7401, 'shark': 7402, 'sharply': 7403, 'ships': 7404, 'shortages': 7405, 'shower': 7406, 'single': 7407, 'sitting': 7408, 'sixth': 7409, 'snow': 7410, 'soar': 7411, 'soccer': 7412, 'solar': 7413, 'sought': 7414, 'speeding': 7415, 'spent': 7416, 'spread': 7417, 'spying': 7418, 'standards': 7419, 'steps': 7420, 'stranded': 7421, 'street': 7422, 'stroke': 7423, 'subject': 7424, 'submits': 7425, 'subway': 7426, 'successful': 7427, 'summer': 7428, 'surpasses': 7429, 'surrender': 7430, 'survive': 7431, 'sweep': 7432, 'switch': 7433, 'takeover': 7434, 'talk': 7435, 'tanks': 7436, 'tape': 7437, 'target': 7438, 'teachers': 7439, 'teenager': 7440, 'testify': 7441, 'text': 7442, 'theory': 7443, 'therapy': 7444, 'thought': 7445, 'ticket': 7446, 'tomorrow': 7447, 'tops': 7448, 'tougher': 7449, 'treating': 7450, 'triggers': 7451, 'trip': 7452, 'troubles': 7453, 'tube': 7454, 'tunnel': 7455, 'turn': 7456, 'undergoes': 7457, 'upholds': 7458, 'urged': 7459, 'vandalism': 7460, 'very': 7461, 'vessels': 7462, 'via': 7463, 'volunteers': 7464, 'walks': 7465, 'warrant': 7466, 'waste': 7467, 'wedding': 7468, 'weekend': 7469, 'well': 7470, 'widespread': 7471, 'wildfire': 7472, 'withdrawn': 7473, 'working': 7474, 'would': 7475, 'wounds': 7476, 'you': 7477, 'zone': 7478, '1,100': 7479, '1.4': 7480, '1.7': 7481, '12-Year': 7482, '120': 7483, '12th': 7484, '130': 7485, '14,000': 7486, '140': 7487, '16-Year': 7488, '17-Year': 7489, '1993': 7490, '1994': 7491, '19th': 7492, '2,000': 7493, '2.4': 7494, '20,000': 7495, '2020': 7496, '25,000': 7497, '266': 7498, '3000': 7499, '360': 7500, '3D': 7501, '4,000': 7502, '52': 7503, '54': 7504, '58': 7505, '6.0': 7506, '6.4': 7507, '6.8': 7508, '60th': 7509, '7.5': 7510, '7.9': 7511, '8-Picture': 7512, '800': 7513, '911': 7514, '97': 7515, '99': 7516, '=': 7517, 'A.C.C.': 7518, 'A.F.C.': 7519, 'A380': 7520, 'ABCs': 7521, 'ACLU': 7522, 'AMAs': 7523, 'AOL': 7524, 'AP': 7525, 'Abdelbaset': 7526, 'Abercrombie': 7527, 'Aboard': 7528, 'Above': 7529, 'Abrams': 7530, 'Abuela': 7531, 'Accept': 7532, 'Accessory': 7533, 'Acid': 7534, 'Acquire': 7535, 'Acted': 7536, 'Activated': 7537, 'Active': 7538, 'Activists': 7539, 'Activity': 7540, 'Actresses': 7541, 'Addams': 7542, 'Addiction': 7543, 'Addresses': 7544, 'Adelaide': 7545, 'Adjust': 7546, 'Admit': 7547, 'Adolf': 7548, 'Adopt': 7549, 'Adopted': 7550, 'Adrift': 7551, 'Aduba': 7552, 'Adulting': 7553, 'Advantage': 7554, 'Advertisers': 7555, 'Advertising': 7556, 'Advisers': 7557, 'Affairs': 7558, 'Affect': 7559, 'Affects': 7560, 'Aguilera': 7561, 'Aided': 7562, 'Aiding': 7563, 'Aids': 7564, 'Airshow': 7565, 'Airstrikes': 7566, 'Alaskan': 7567, 'Albert': 7568, 'Alberto': 7569, 'Alert': 7570, 'Alfred': 7571, 'Allison': 7572, 'Ally': 7573, 'Alpha': 7574, 'Alphabet': 7575, 'Alpine': 7576, 'Altered': 7577, 'Alternate': 7578, 'Amanda': 7579, 'Anaconda': 7580, 'Anakin': 7581, 'Anal': 7582, 'Analysis': 7583, 'Angers': 7584, 'Angle': 7585, 'Angolans': 7586, 'Anniversary': 7587, 'Announcement': 7588, 'Antarctic': 7589, 'Anywhere': 7590, 'Appetite': 7591, 'Apples': 7592, 'Archive': 7593, 'Areas': 7594, 'Arenas': 7595, 'Arguing': 7596, 'Ariel': 7597, 'Aristocats': 7598, 'Arkansas': 7599, 'Armisen': 7600, 'Arroyo': 7601, 'Artichoke': 7602, 'Articles': 7603, 'Asexual': 7604, 'Aside': 7605, 'Asif': 7606, 'Assholes': 7607, 'Associated': 7608, 'Astrology': 7609, 'Athletic': 7610, 'Atomic': 7611, 'Attacked': 7612, 'Attempt': 7613, 'Attend': 7614, 'Attendants': 7615, 'Attended': 7616, 'Attract': 7617, 'Auction': 7618, 'Audio': 7619, 'Auditioned': 7620, 'Avatar': 7621, 'Avenger': 7622, 'Avengers': 7623, 'Average': 7624, 'Await': 7625, 'Awaits': 7626, 'Awake': 7627, 'Ayatollah': 7628, 'Azerbaijan': 7629, 'BC': 7630, 'BF': 7631, 'BMI': 7632, 'BNP': 7633, 'Bachelorette': 7634, 'Background': 7635, 'Backing': 7636, 'Balancing': 7637, 'Bald': 7638, 'Bali': 7639, 'Ballet': 7640, 'Baltic': 7641, 'Bands': 7642, 'Bankers': 7643, 'Bankrupt': 7644, 'Barcelona': 7645, 'Barely': 7646, 'Barr': 7647, 'Barrichello': 7648, 'Barrier': 7649, 'Barrymore': 7650, 'Bart': 7651, 'Bartender': 7652, 'Basis': 7653, 'Bassett': 7654, 'Battles': 7655, 'Baugh': 7656, 'Baywatch': 7657, 'Beaches': 7658, 'Bean': 7659, 'Beans': 7660, 'Beds': 7661, 'Beers': 7662, 'Bel': 7663, 'Belfast': 7664, 'Bellassai': 7665, 'Bench': 7666, 'Benoit': 7667, 'Bethpage': 7668, 'Bette': 7669, 'Beverly': 7670, 'Bicentennial': 7671, 'Bike': 7672, 'Billboard': 7673, 'Bipolar': 7674, 'Bishops': 7675, 'Blackpool': 7676, 'Blasts': 7677, 'Blew': 7678, 'Blocks': 7679, 'Bloggers': 7680, 'Bloody': 7681, 'Bloom': 7682, 'Blot': 7683, 'Blu': 7684, 'Blues': 7685, 'Boards': 7686, 'Bodily': 7687, 'Bolster': 7688, 'Boom': 7689, 'Boonen': 7690, 'Boost': 7691, 'Booth': 7692, 'Botswana': 7693, 'Bottle': 7694, 'Boundaries': 7695, 'Bourbon': 7696, 'Boxer': 7697, 'Boycott': 7698, 'Brad': 7699, 'Brains': 7700, 'Bras': 7701, 'Breeds': 7702, 'Brendan': 7703, 'Brent': 7704, 'Brett': 7705, 'Bribery': 7706, 'Brink': 7707, 'Brisbane': 7708, 'Britannica': 7709, 'Broad': 7710, 'Broadband': 7711, 'Broadcasting': 7712, 'Bromance': 7713, 'Bros.': 7714, 'Brotherhood': 7715, 'Bruce': 7716, 'Bruins': 7717, 'Brunswick': 7718, 'Buildings': 7719, 'Bulbs': 7720, 'Bulgarian': 7721, 'Bulldog': 7722, 'Bullshit': 7723, 'Bureau': 7724, 'Burn': 7725, 'Burundi': 7726, 'Busch': 7727, 'Butts': 7728, 'Buyout': 7729, 'C.I.A.': 7730, 'CBC': 7731, 'CDC': 7732, 'CIT': 7733, 'Caillou': 7734, 'Calculated': 7735, 'Cam': 7736, 'Camping': 7737, 'Campus': 7738, 'Canceled': 7739, 'Candid': 7740, 'Cane': 7741, 'Careful': 7742, 'Carlos': 7743, 'Casey': 7744, 'Cashier': 7745, 'Castle': 7746, 'Castro': 7747, 'Cauliflower': 7748, 'Caused': 7749, 'Causing': 7750, 'Cautious': 7751, 'Censor': 7752, 'Chancellor': 7753, 'Chances': 7754, 'Chandler': 7755, 'Chaos': 7756, 'Chapter': 7757, 'Charm': 7758, 'Charms': 7759, 'Chastain': 7760, 'Chats': 7761, 'Cheer': 7762, 'Cheers': 7763, 'Cheesecakes': 7764, 'Cheesy': 7765, 'Chevron': 7766, 'Chicks': 7767, 'Chiefs': 7768, 'Chills': 7769, 'Chipotle': 7770, 'Chirac': 7771, 'Chocolates': 7772, 'Chooses': 7773, 'Chopped': 7774, 'Chose': 7775, 'Christians': 7776, 'Chronic': 7777, 'Churches': 7778, 'Cinema': 7779, 'Citizens': 7780, 'Ciudad': 7781, 'Clearly': 7782, 'Clerics': 7783, 'Cleverly': 7784, 'Click': 7785, 'Clippers': 7786, 'Clooney': 7787, 'Closings': 7788, 'Clouds': 7789, 'Clown': 7790, 'Coca': 7791, 'Cole': 7792, 'Colin': 7793, 'Collins': 7794, 'Colton': 7795, 'Combine': 7796, 'Comcast': 7797, 'Command': 7798, 'Commercials': 7799, 'Commonwealth': 7800, 'Communist': 7801, 'Compare': 7802, 'Compatible': 7803, 'Complaint': 7804, 'Computers': 7805, 'Coms': 7806, 'Condiment': 7807, 'Conditions': 7808, 'Condoms': 7809, 'Confessed': 7810, 'Confident': 7811, 'Confirmed': 7812, 'Confirms': 7813, 'Confronted': 7814, 'ConocoPhillips': 7815, 'Conquer': 7816, 'Cons': 7817, 'Consent': 7818, 'Contacts': 7819, 'Contador': 7820, 'Contain': 7821, 'Contouring': 7822, 'Controlled': 7823, 'Conviction': 7824, 'Convicts': 7825, 'Coordinated': 7826, 'Copeland': 7827, 'Copter': 7828, 'Cornell': 7829, 'Coroner': 7830, 'Cosplayers': 7831, 'Cotton': 7832, 'Coverage': 7833, 'Covering': 7834, 'Crane': 7835, 'Cranston': 7836, 'Crappy': 7837, 'Craving': 7838, 'Creed': 7839, 'Creek': 7840, 'Croatia': 7841, 'Croatian': 7842, 'Crossing': 7843, 'Crow': 7844, 'Crushing': 7845, 'Cub': 7846, 'Cubans': 7847, 'Cuffing': 7848, 'Curbs': 7849, 'Currency': 7850, 'Custody': 7851, 'Dagestan': 7852, 'Dahl': 7853, 'Dakota': 7854, 'Dams': 7855, 'Dangerous': 7856, 'Dash': 7857, 'Dave': 7858, 'Davos': 7859, 'Daylight': 7860, 'Deaflympics': 7861, 'Debates': 7862, 'Decides': 7863, 'Decisions': 7864, 'Declutter': 7865, 'Default': 7866, 'Defeats': 7867, 'Defensive': 7868, 'Defies': 7869, 'Define': 7870, 'Defined': 7871, 'Defy': 7872, 'Defying': 7873, 'Delaware': 7874, 'Dell': 7875, 'Democrat': 7876, 'Denied': 7877, 'Dennis': 7878, 'Deodorant': 7879, 'Depressing': 7880, 'Derivatives': 7881, 'Descriptions': 7882, 'Desi': 7883, 'Desk': 7884, 'Destiny': 7885, 'Destruction': 7886, 'Deutsche': 7887, 'Developers': 7888, 'Differences': 7889, 'Difficulties': 7890, 'Dims': 7891, 'Dino': 7892, 'Dion': 7893, 'Diplomat': 7894, 'DirecTV': 7895, 'Directed': 7896, 'Disappear': 7897, 'Disease': 7898, 'Disgusting': 7899, 'Disgustingly': 7900, 'Dismissed': 7901, 'Dismisses': 7902, 'Disturbing': 7903, 'Divas': 7904, 'Divide': 7905, 'Documentary': 7906, 'Dogg': 7907, 'Doll': 7908, 'Dominican': 7909, 'Don': 7910, 'Donovan': 7911, 'Donuts': 7912, 'Doug': 7913, 'Downhill': 7914, 'Downing': 7915, 'Downloads': 7916, 'Dr': 7917, 'Dramatically': 7918, 'Dreaming': 7919, 'Drooling': 7920, 'Duck': 7921, 'Duet': 7922, 'Dumped': 7923, 'Dunn': 7924, 'Duo': 7925, 'Dustin': 7926, 'Duty': 7927, 'Dwarf': 7928, 'Dye': 7929, 'Dyed': 7930, 'EADS': 7931, 'EDM': 7932, 'Eagle': 7933, 'Earn': 7934, 'Earphones': 7935, 'Ears': 7936, 'Eases': 7937, 'Easing': 7938, 'Economies': 7939, 'Effect': 7940, 'Effects': 7941, 'Efficiency': 7942, 'Eighth': 7943, 'ElBaradei': 7944, 'Elbows': 7945, 'Elderly': 7946, 'Elementary': 7947, 'Elena': 7948, 'Elevating': 7949, 'Elite': 7950, 'Ellie': 7951, 'Elsa': 7952, 'Embraced': 7953, 'Emerging': 7954, 'Emotionally': 7955, 'Employee': 7956, 'Employment': 7957, 'Empty': 7958, 'Encounter': 7959, 'Endangered': 7960, 'Engine': 7961, 'Enters': 7962, 'Environmental': 7963, 'Envy': 7964, 'Epitome': 7965, 'Equatorial': 7966, 'Ericsson': 7967, 'Eritrea': 7968, 'Erupts': 7969, 'Escapes': 7970, 'Essence': 7971, 'Essential': 7972, 'Estimate': 7973, 'Estonian': 7974, 'Ethics': 7975, 'EuroMillions': 7976, 'Evo': 7977, 'Evolutionary': 7978, 'Exam': 7979, 'Exciting': 7980, 'Exhausting': 7981, 'Explaining': 7982, 'Explains': 7983, 'Explode': 7984, 'Explore': 7985, 'Explores': 7986, 'Explosives': 7987, 'Expo': 7988, 'Expressing': 7989, 'Expressions': 7990, 'Extensions': 7991, 'Extraordinary': 7992, 'Eyed': 7993, 'Eyeshadow': 7994, 'F.C.': 7995, 'FIA': 7996, 'FLDS': 7997, 'Fades': 7998, 'Faked': 7999, 'Faking': 8000, 'Falcon': 8001, 'Fantasies': 8002, 'Fate': 8003, 'Faves': 8004, 'Fearing': 8005, 'Feasting': 8006, 'Fellow': 8007, 'Ferrera': 8008, 'Fetty': 8009, 'Fewer': 8010, 'Fiery': 8011, 'Fijian': 8012, 'Filed': 8013, 'Finale': 8014, 'Finger': 8015, 'Firing': 8016, 'Fiscal': 8017, 'Fischer': 8018, 'Fixes': 8019, 'Flame': 8020, 'Flare': 8021, 'Flavored': 8022, 'Flavors': 8023, 'Fled': 8024, 'Flemish': 8025, 'Flirt': 8026, 'Floating': 8027, 'Flock': 8028, 'Floor': 8029, 'Flop': 8030, 'Floyd': 8031, 'Flush': 8032, 'Follows': 8033, 'Font': 8034, 'Foolproof': 8035, 'Footballer': 8036, 'Footballers': 8037, 'Forbes': 8038, 'Forced': 8039, 'Fordham': 8040, 'Foreclosures': 8041, 'Forensics': 8042, 'Formed': 8043, 'Fossil': 8044, 'Foundations': 8045, 'Fragile': 8046, 'Francis': 8047, 'Franken': 8048, 'Fraying': 8049, 'Freaked': 8050, 'Freckles': 8051, 'Frenchie': 8052, 'Friedlander': 8053, 'Frontier': 8054, 'Fuels': 8055, 'Fury': 8056, 'G': 8057, 'G.': 8058, 'GQ': 8059, 'Gag': 8060, 'Gallagher': 8061, 'Gallery': 8062, 'Gambian': 8063, 'Gamble': 8064, 'Gangster': 8065, 'Gaps': 8066, 'Garfield': 8067, 'Garuda': 8068, 'Geek': 8069, 'Geeks': 8070, 'Geeky': 8071, 'Generations': 8072, 'Genetic': 8073, 'Geometry': 8074, 'Georgetown': 8075, 'Gibson': 8076, 'Gilbert': 8077, 'Gina': 8078, 'Gingerbread': 8079, 'Ginsburg': 8080, 'Glee': 8081, 'Glitch': 8082, 'Glitter': 8083, 'Gluten': 8084, 'Goats': 8085, 'Golfer': 8086, 'Golfing': 8087, 'Goosen': 8088, 'Goth': 8089, 'Goulding': 8090, 'Graduated': 8091, 'Graft': 8092, 'Grant': 8093, 'Graphic': 8094, 'Graphs': 8095, 'Gravity': 8096, 'Gregory': 8097, 'Grenade': 8098, 'Grieving': 8099, 'Grossest': 8100, 'Grumpy': 8101, 'Gryffindors': 8102, 'Guatemala': 8103, 'Guild': 8104, 'Guitar': 8105, 'Gwen': 8106, 'H': 8107, 'H&M': 8108, 'H5N1': 8109, 'HIMYM': 8110, 'HP': 8111, 'Hadron': 8112, 'Hairdresser': 8113, 'Hairstyle': 8114, 'Hairstyles': 8115, 'Haitians': 8116, 'Hajj': 8117, 'Halifax': 8118, 'Halliburton': 8119, 'Halts': 8120, 'Hamid': 8121, 'Hangs': 8122, 'Hannover': 8123, 'Happier': 8124, 'Harbour': 8125, 'Harm': 8126, 'Harness': 8127, 'Harvest': 8128, 'Hatoyama': 8129, 'Hayley': 8130, 'Haynes': 8131, 'Headphones': 8132, 'Heal': 8133, 'Healing': 8134, 'Heartbreakingly': 8135, 'Hella': 8136, 'Herald': 8137, 'Heritage': 8138, 'Heroine': 8139, 'Hewlett': 8140, 'Hezbollah': 8141, 'Highlights': 8142, 'Highway': 8143, 'Hiking': 8144, 'Hindi': 8145, 'Hint': 8146, 'Hints': 8147, 'Hiroshima': 8148, 'Hitting': 8149, 'Ho': 8150, 'Holdings': 8151, 'Holes': 8152, 'Hometown': 8153, 'Honored': 8154, 'Hood': 8155, 'Hop': 8156, 'Horoscopes': 8157, 'Horrified': 8158, 'Hospitals': 8159, 'Hudgens': 8160, 'Hugs': 8161, 'Hunting': 8162, 'Hybrid': 8163, 'Hype': 8164, 'IAEA': 8165, 'IBM': 8166, 'ICANN': 8167, 'IOC': 8168, 'ITV': 8169, 'Icon': 8170, 'Identified': 8171, 'Ignatieff': 8172, 'Ignore': 8173, 'Illegal': 8174, 'Imaginary': 8175, 'Imam': 8176, 'Imitated': 8177, 'Impostor': 8178, 'Including': 8179, 'Increased': 8180, 'Indexes': 8181, 'Industries': 8182, 'Inequality': 8183, 'Inevitably': 8184, 'Influential': 8185, 'Inmate': 8186, 'Inning': 8187, 'Innovation': 8188, 'Insecure': 8189, 'Insight': 8190, 'Institute': 8191, 'Instrumental': 8192, 'Insurer': 8193, 'Intelligent': 8194, 'Interesting': 8195, 'Interim': 8196, 'Iranians': 8197, 'Iron': 8198, 'Irresistible': 8199, 'Irwin': 8200, 'Ish': 8201, 'Islamophobia': 8202, 'Israelis': 8203, 'Issued': 8204, 'Italians': 8205, 'JFK': 8206, 'JPMorgan': 8207, 'Jada': 8208, 'Jammu': 8209, 'Janeiro': 8210, 'Jared': 8211, 'Jay': 8212, 'Jeff': 8213, 'Jelena': 8214, 'Jelly': 8215, 'Jennings': 8216, 'Jenny': 8217, 'Jetliner': 8218, 'Jill': 8219, 'Jimmie': 8220, 'Jindal': 8221, 'Jingle': 8222, 'JoJo': 8223, 'Joey': 8224, 'Johnny': 8225, 'Johnston': 8226, 'Joker': 8227, 'Jonathan': 8228, 'Judah': 8229, 'Jude': 8230, 'Julian': 8231, 'Julie': 8232, 'Jungle': 8233, 'Juno': 8234, 'Jupiter': 8235, 'Jurassic': 8236, 'KFC': 8237, 'Kahn': 8238, 'Kandahar': 8239, 'Kay': 8240, 'Keith': 8241, 'Kent': 8242, 'Kenyans': 8243, 'Kermit': 8244, 'Khamenei': 8245, 'Khloe': 8246, 'Kidnappers': 8247, 'Kimi': 8248, 'Kimmy': 8249, 'Kirk': 8250, 'Kissed': 8251, 'Kit': 8252, 'Knesset': 8253, 'Knock': 8254, 'Knowles': 8255, 'Kyi': 8256, 'L.A': 8257, 'LED': 8258, 'LOL': 8259, 'Label': 8260, 'Labels': 8261, 'Lakes': 8262, 'Lambert': 8263, 'Landless': 8264, 'Landscape': 8265, 'Lapse': 8266, 'Laptops': 8267, 'Latrobe': 8268, 'Latte': 8269, 'Latter': 8270, 'Lay': 8271, 'Lays': 8272, 'Le': 8273, 'Leaf': 8274, 'Leak': 8275, 'Leash': 8276, 'Lech': 8277, 'Legally': 8278, 'Legends': 8279, 'Legit': 8280, 'Lemon': 8281, 'Lends': 8282, 'Leonard': 8283, 'Letting': 8284, 'Liar': 8285, 'Libby': 8286, 'Lighting': 8287, 'Lightsaber': 8288, 'Lilly': 8289, 'Lin': 8290, 'Lineup': 8291, 'Lists': 8292, 'Lizzie': 8293, 'Lobby': 8294, 'Locals': 8295, 'Location': 8296, 'Lohan': 8297, 'Londonderry': 8298, 'Londoners': 8299, 'Loneliness': 8300, 'Longoria': 8301, 'Longtime': 8302, 'Looms': 8303, 'Loose': 8304, 'Lopez': 8305, 'Lords': 8306, 'Losers': 8307, 'Lowe': 8308, 'Lucas': 8309, 'Luis': 8310, 'Lundqvist': 8311, 'Luxembourg': 8312, 'Lynch': 8313, 'Lyon': 8314, 'MPs': 8315, 'MSNBC': 8316, 'MV': 8317, 'Macy': 8318, 'Madeleine': 8319, 'Majority': 8320, 'Majors': 8321, 'Maliki': 8322, 'Mama': 8323, 'Managed': 8324, 'Manhattan': 8325, 'Manson': 8326, 'Maoist': 8327, 'Maoists': 8328, 'Marbury': 8329, 'Marc': 8330, 'Marie': 8331, 'Marks': 8332, 'Marnie': 8333, 'Martian': 8334, 'Mascot': 8335, 'Mask': 8336, 'Massage': 8337, 'Masterpiece': 8338, 'Matter': 8339, 'Mattress': 8340, 'Maya': 8341, 'Mayors': 8342, 'McCann': 8343, 'McCarthy': 8344, 'McCartney': 8345, 'McChrystal': 8346, 'McGuire': 8347, 'Medicine': 8348, 'Medieval': 8349, 'Meditate': 8350, 'Mediterranean': 8351, 'Medley': 8352, 'Meghan': 8353, 'Megi': 8354, 'Megrahi': 8355, 'Melted': 8356, 'Memos': 8357, 'Merck': 8358, 'Meredith': 8359, 'Merge': 8360, 'Merkel': 8361, 'Meryl': 8362, 'Messing': 8363, 'Metro': 8364, 'Mexicans': 8365, 'Microsystems': 8366, \"Mid-'00s\": 8367, 'Midler': 8368, 'Migration': 8369, 'Mileage': 8370, 'Millennials': 8371, 'Miller': 8372, 'Mills': 8373, 'Mindful': 8374, 'Minimum': 8375, 'Ministry': 8376, 'Minogue': 8377, 'Minorities': 8378, 'Mirror': 8379, 'Miserable': 8380, 'Misheard': 8381, 'Misses': 8382, 'Mistake': 8383, 'Mistakes': 8384, 'Mitzvah': 8385, 'Mock': 8386, 'Mona': 8387, 'Monitor': 8388, 'Monserrate': 8389, 'Moral': 8390, 'Mortifying': 8391, 'Motivate': 8392, 'Motivated': 8393, 'MotoGP': 8394, 'Motto': 8395, 'Mr': 8396, 'Muggles': 8397, 'Mulder': 8398, 'Municipal': 8399, 'Mustard': 8400, 'Mutiny': 8401, 'Mysterious': 8402, 'NCAA': 8403, 'NOT': 8404, 'NSA': 8405, 'NSFW': 8406, 'Nachos': 8407, 'Nader': 8408, 'Nailing': 8409, 'Nando': 8410, 'Naomi': 8411, 'Natasha': 8412, 'Nathan': 8413, 'Nationwide': 8414, 'Naughty': 8415, 'Neighbors': 8416, 'Nemesis': 8417, 'Nephew': 8418, 'Nerve': 8419, 'Newly': 8420, 'Newton': 8421, 'Nguyen': 8422, 'Nicaragua': 8423, 'Nicholas': 8424, 'Nicole': 8425, 'Nineteen': 8426, 'Ninja': 8427, 'Nipples': 8428, 'Noble': 8429, 'Nod': 8430, 'Noise': 8431, 'Norman': 8432, 'Northamptonshire': 8433, 'Nostalgia': 8434, 'Novak': 8435, 'O.W.L': 8436, 'OITNB': 8437, 'Oasis': 8438, 'Obviously': 8439, 'Oddly': 8440, 'Ode': 8441, 'Officiated': 8442, 'Olmert': 8443, 'Ones': 8444, 'Onstage': 8445, 'Opener': 8446, 'Operation': 8447, 'Opinion': 8448, 'Opposes': 8449, 'Orakzai': 8450, 'Oral': 8451, 'Orchestra': 8452, 'Organize': 8453, 'Orthodox': 8454, 'Otter': 8455, 'Ouattara': 8456, 'Ousts': 8457, 'Outlines': 8458, 'Output': 8459, 'Outrage': 8460, 'Outraged': 8461, 'Ovaries': 8462, 'Ovation': 8463, 'Ovechkin': 8464, 'Oven': 8465, 'Overdose': 8466, 'Overpower': 8467, 'Overseer': 8468, 'Owl': 8469, 'Owns': 8470, 'PC': 8471, 'PETA': 8472, 'Pacey': 8473, 'Packard': 8474, 'Pad': 8475, 'Padukone': 8476, 'Painting': 8477, 'Palestine': 8478, 'Pandas': 8479, 'Pare': 8480, 'Parenthood': 8481, 'Partners': 8482, 'Passion': 8483, 'Pastry': 8484, 'Patriot': 8485, 'Patrol': 8486, 'Paula': 8487, 'Paulo': 8488, 'Pause': 8489, 'Pavarotti': 8490, 'Peanuts': 8491, 'Pelosi': 8492, 'Penelope': 8493, 'Peninsula': 8494, 'Penises': 8495, 'Penn': 8496, 'Perk': 8497, 'Personalities': 8498, 'Personally': 8499, 'Perth': 8500, 'Pfizer': 8501, 'Pharmacy': 8502, 'Philip': 8503, 'Phillies': 8504, 'Photographed': 8505, 'Photographs': 8506, 'Physical': 8507, 'Physicist': 8508, 'Pic': 8509, 'Pickles': 8510, 'Pickup': 8511, 'Pigeons': 8512, 'Pilgrims': 8513, 'Pilot': 8514, 'Pin': 8515, 'Pinochet': 8516, 'Pioneer': 8517, 'Pissed': 8518, 'Pitchers': 8519, 'Pitching': 8520, 'Placement': 8521, 'Placenta': 8522, 'PlayStation': 8523, 'Plug': 8524, 'Poker': 8525, 'Policies': 8526, 'Politkovskaya': 8527, 'Polls': 8528, 'Pollution': 8529, 'Polo': 8530, 'Ponytail': 8531, 'Popcorn': 8532, 'Population': 8533, 'Portrait': 8534, 'Poster': 8535, 'Pounds': 8536, 'Poverty': 8537, 'Powerpuff': 8538, 'Prada': 8539, 'Pre': 8540, 'Predictable': 8541, 'Preferences': 8542, 'Prejudice': 8543, 'Presidency': 8544, 'Presidents': 8545, 'Preview': 8546, 'Primary': 8547, 'Prisoner': 8548, 'Problematic': 8549, 'Procedure': 8550, 'Procter': 8551, 'Profits': 8552, 'Prominent': 8553, 'Promo': 8554, 'Promotion': 8555, 'Proper': 8556, 'Proportions': 8557, 'Prospects': 8558, 'Protecting': 8559, 'Pub': 8560, 'Pujols': 8561, 'Pulls': 8562, 'Pumped': 8563, 'Pun': 8564, 'Punch': 8565, 'Punny': 8566, 'Pup': 8567, 'Pushing': 8568, 'Qaida': 8569, 'Quaker': 8570, 'Qualification': 8571, 'Qualifying': 8572, 'Qualities': 8573, 'Quandary': 8574, 'Quarterback': 8575, 'Quentin': 8576, 'Quesadillas': 8577, 'Queso': 8578, 'Questioning': 8579, 'Quickly': 8580, 'Quiet': 8581, 'RAF': 8582, 'Radical': 8583, 'Radomski': 8584, 'Ramirez': 8585, 'Randy': 8586, 'Ranks': 8587, 'Rashida': 8588, 'Rates': 8589, 'Reacts': 8590, 'Reassures': 8591, 'Rebellion': 8592, 'Rebuff': 8593, 'Recall': 8594, 'Recalls': 8595, 'Reclaim': 8596, 'Recover': 8597, 'Recruiting': 8598, 'Reddit': 8599, 'Reebok': 8600, 'Refinancing': 8601, 'Regina': 8602, 'Regular': 8603, 'Relative': 8604, 'Relax': 8605, 'Reopens': 8606, 'Rep.': 8607, 'Repeat': 8608, 'Reporting': 8609, 'Represents': 8610, 'Request': 8611, 'Requests': 8612, 'Residents': 8613, 'Resolve': 8614, 'Resort': 8615, 'Resources': 8616, 'Respect': 8617, 'Responds': 8618, 'Responsibility': 8619, 'Restaurant': 8620, 'Resting': 8621, 'Restored': 8622, 'Restructuring': 8623, 'Retailers': 8624, 'Retains': 8625, 'Reuniting': 8626, 'Revamp': 8627, 'Reverse': 8628, 'Revisit': 8629, 'Revolution': 8630, 'Rhimes': 8631, 'Rhys': 8632, 'Rican': 8633, 'Rider': 8634, 'Riley': 8635, 'Rivalry': 8636, 'Roadside': 8637, 'Roar': 8638, 'Robertson': 8639, 'Rocked': 8640, 'Rocks': 8641, 'Roland': 8642, 'Rolls': 8643, 'Roots': 8644, 'Rory': 8645, 'Rover': 8646, 'Rovers': 8647, 'Rowland': 8648, 'Rudd': 8649, 'Ruffalo': 8650, 'Ruining': 8651, 'Ruins': 8652, 'Rukh': 8653, 'Rumours': 8654, 'Rupert': 8655, 'Rural': 8656, 'Räikkönen': 8657, 'S.O': 8658, 'Saab': 8659, 'Sabathia': 8660, 'Sailor': 8661, 'Saints': 8662, 'Sally': 8663, 'Salmond': 8664, 'Salt': 8665, 'Sam': 8666, 'Sandra': 8667, 'Sansa': 8668, 'Sarcastic': 8669, 'Savage': 8670, 'Savings': 8671, 'Scale': 8672, 'Scariest': 8673, 'Scarlet': 8674, 'Scars': 8675, 'Schiphol': 8676, 'Schooled': 8677, 'Schröder': 8678, 'Sciences': 8679, 'Scissorhands': 8680, 'Scolding': 8681, 'Scooter': 8682, 'Scrutiny': 8683, 'Scully': 8684, 'Sears': 8685, 'Seas': 8686, 'Seasons': 8687, 'Secondary': 8688, 'Secrecy': 8689, 'Secure': 8690, 'Securities': 8691, 'Seems': 8692, 'Selves': 8693, 'Sen.': 8694, 'Sending': 8695, 'Sensors': 8696, 'Sensual': 8697, 'Seoul': 8698, 'Sequence': 8699, 'Serve': 8700, 'Served': 8701, 'Server': 8702, 'Serving': 8703, 'Sesame': 8704, 'Shadow': 8705, 'Shameless': 8706, 'Sharks': 8707, 'Shea': 8708, 'Sheehan': 8709, 'Sheets': 8710, 'Sheffield': 8711, 'Shepherd': 8712, 'Shibas': 8713, 'Shiite': 8714, 'Shock': 8715, 'Shocked': 8716, 'Shonda': 8717, 'ShondaLand': 8718, 'Shootings': 8719, 'Shoppers': 8720, 'Shortcut': 8721, 'Showed': 8722, 'Shriver': 8723, 'Shuffle': 8724, 'Siemens': 8725, 'Siena': 8726, 'Sierra': 8727, 'Signing': 8728, 'Silence': 8729, 'Simon': 8730, 'Singh': 8731, 'Sitcom': 8732, 'Skateboarding': 8733, 'Skeleton': 8734, 'Skepticism': 8735, 'Skinny': 8736, 'Skit': 8737, 'Slain': 8738, 'Slave': 8739, 'Slice': 8740, 'Slovenian': 8741, 'Smaller': 8742, 'Smartphones': 8743, 'Smash': 8744, 'Smashed': 8745, 'Smell': 8746, 'Smelled': 8747, 'Smooth': 8748, 'Smugglers': 8749, 'Snowstorm': 8750, 'Snuggle': 8751, 'Sober': 8752, 'Soda': 8753, 'Solidarity': 8754, 'Solomon': 8755, 'Solutions': 8756, 'Somalian': 8757, 'Sophie': 8758, 'Sources': 8759, 'Soviet': 8760, 'Spanair': 8761, 'Spark': 8762, 'Sparked': 8763, 'Speaks': 8764, 'Species': 8765, 'Spectacularly': 8766, 'Specter': 8767, 'Speculation': 8768, 'Speeding': 8769, 'Spencer': 8770, 'Spicy': 8771, 'Spiders': 8772, 'Spike': 8773, 'Spinach': 8774, 'Spiral': 8775, 'Spirited': 8776, 'Spoken': 8777, 'Spots': 8778, 'Spotted': 8779, 'Spree': 8780, 'Spring': 8781, 'Spurs': 8782, 'SquarePants': 8783, 'Squeeze': 8784, 'Squidward': 8785, 'St': 8786, 'Stability': 8787, 'Staged': 8788, 'Stalled': 8789, 'Stampede': 8790, 'Staples': 8791, 'Stardust': 8792, 'Startling': 8793, 'Steep': 8794, 'Stefani': 8795, 'Stepping': 8796, 'Stereotypical': 8797, 'Stigma': 8798, 'Stir': 8799, 'Stonehenge': 8800, 'Stones': 8801, 'Storage': 8802, 'Strain': 8803, 'Stranded': 8804, 'Strategic': 8805, 'Stream': 8806, 'Streaming': 8807, 'Streep': 8808, 'Stressed': 8809, 'Stronger': 8810, 'Stunningly': 8811, 'Stuns': 8812, 'Stupidest': 8813, 'Stylist': 8814, 'Subsidies': 8815, 'Succeed': 8816, 'Successfully': 8817, 'Suite': 8818, 'Sumatra': 8819, 'Sunset': 8820, 'Superbowl': 8821, 'Superfund': 8822, 'Supermodels': 8823, 'Supernatural': 8824, 'Surprises': 8825, 'Surveillance': 8826, 'Survival': 8827, 'Suspends': 8828, 'Suspicious': 8829, 'Sussex': 8830, 'Suu': 8831, 'Swear': 8832, 'Sweary': 8833, 'Swede': 8834, 'Sweeping': 8835, 'Sweetheart': 8836, 'Swim': 8837, 'Swoon': 8838, 'Sync': 8839, 'São': 8840, 'T.I.': 8841, 'TaiSPO': 8842, 'Tales': 8843, 'Tap': 8844, 'Tarot': 8845, 'Taxes': 8846, 'Technologies': 8847, 'Teddy': 8848, 'Tee': 8849, 'Teeny': 8850, 'Tentative': 8851, 'Terminal': 8852, 'Textbooks': 8853, 'Thick': 8854, 'Thief': 8855, 'Thirst': 8856, 'Thirties': 8857, 'Thirtysomethings': 8858, 'Thornton': 8859, 'Thoughtful': 8860, 'Threatened': 8861, 'Tiffany': 8862, 'Tighter': 8863, 'Timeline': 8864, 'Tobacco': 8865, 'Togo': 8866, 'Tons': 8867, 'Topless': 8868, 'Topping': 8869, 'Torn': 8870, 'Touched': 8871, 'Toughens': 8872, 'Tourist': 8873, 'Towers': 8874, 'Towns': 8875, 'Tracking': 8876, 'Tracks': 8877, 'Trail': 8878, 'Trails': 8879, 'Trainor': 8880, 'Transforming': 8881, 'Traps': 8882, 'Traumatic': 8883, 'Travelers': 8884, 'Treasure': 8885, 'Treasurer': 8886, 'Treated': 8887, 'Treatment': 8888, 'Trending': 8889, 'Tributes': 8890, 'Trillion': 8891, 'Triple': 8892, 'Trips': 8893, 'Triumph': 8894, 'Trolls': 8895, 'Tucson': 8896, 'Tunisian': 8897, 'Turkeys': 8898, 'Turmoil': 8899, 'Tycoon': 8900, 'Typical': 8901, 'U': 8902, 'U.S.C.': 8903, 'U.S.O.C.': 8904, 'U2': 8905, 'UFOs': 8906, 'UNHCR': 8907, 'USD': 8908, 'USS': 8909, 'Unbreakable': 8910, 'Uncontrollably': 8911, 'Underage': 8912, 'Underwater': 8913, 'Uni': 8914, 'Unity': 8915, 'Universities': 8916, 'Unknowingly': 8917, 'Unnecessary': 8918, 'Unrelated': 8919, 'Unrequited': 8920, 'Unveils': 8921, 'Update': 8922, 'Updated': 8923, 'Uproar': 8924, 'Uranium': 8925, 'Urge': 8926, 'Usain': 8927, 'Uzo': 8928, 'Valentines': 8929, 'Valuable': 8930, 'Vanessa': 8931, 'Vanity': 8932, 'Vast': 8933, 'Veggie': 8934, 'Vehicle': 8935, 'Venues': 8936, 'Versa': 8937, 'Veterinarian': 8938, 'Veto': 8939, 'Villa': 8940, 'Vincent': 8941, 'Virginity': 8942, 'Virus': 8943, 'Vladimir': 8944, 'Volcanic': 8945, 'Volcano': 8946, 'W.B.C.': 8947, 'Wade': 8948, 'Walt': 8949, 'Wanna': 8950, 'Wap': 8951, 'Warming': 8952, 'Warragul': 8953, 'Warrior': 8954, 'Waste': 8955, 'Wealth': 8956, 'Websites': 8957, 'Wednesday': 8958, 'Weekends': 8959, 'Weigh': 8960, 'Weighing': 8961, 'Welcomes': 8962, 'Wells': 8963, 'Wen': 8964, 'Wes': 8965, 'Whiff': 8966, 'WiMAX': 8967, 'Wider': 8968, 'Wildest': 8969, 'Wilma': 8970, 'Wise': 8971, 'Witches': 8972, 'Withdraws': 8973, 'Within': 8974, 'Wizard': 8975, 'Wizarding': 8976, 'Wonder': 8977, 'Wonderland': 8978, 'Woo': 8979, 'WorldCom': 8980, 'Worm': 8981, 'Worry': 8982, 'Wounds': 8983, 'Wrapped': 8984, 'Wreckage': 8985, 'Wyeth': 8986, 'Xavier': 8987, 'Xinjiang': 8988, 'Yellow': 8989, 'Yemeni': 8990, 'Yik': 8991, 'Yo': 8992, 'Yoda': 8993, 'Yorker': 8994, 'Yorkers': 8995, 'YouTuber': 8996, 'Yugoslavian': 8997, 'Yukio': 8998, 'Yushchenko': 8999, 'Zack': 9000, 'Zelda': 9001, 'Zoey': 9002, 'abused': 9003, 'accidentally': 9004, 'accord': 9005, 'accusations': 9006, 'acquitted': 9007, 'act': 9008, 'active': 9009, 'activities': 9010, 'added': 9011, 'admitted': 9012, 'adopts': 9013, 'ads': 9014, 'advance': 9015, 'advertising': 9016, 'advice': 9017, 'affair': 9018, 'aftershocks': 9019, 'agencies': 9020, 'aides': 9021, 'airplane': 9022, 'alive': 9023, 'alliance': 9024, 'almost': 9025, 'along': 9026, 'ambulance': 9027, 'ambush': 9028, 'anchor': 9029, 'ancient': 9030, 'angered': 9031, 'angry': 9032, 'apartheid': 9033, 'apology': 9034, 'apparent': 9035, 'appearance': 9036, 'applications': 9037, 'applies': 9038, 'approve': 9039, 'arrival': 9040, 'arrive': 9041, 'artificial': 9042, 'artist': 9043, 'ash': 9044, 'ask': 9045, 'assist': 9046, 'assumes': 9047, 'astronauts': 9048, 'athletes': 9049, 'autism': 9050, 'axe': 9051, 'backed': 9052, 'balloon': 9053, 'beating': 9054, 'behavior': 9055, 'big': 9056, 'bike': 9057, 'billions': 9058, 'billionth': 9059, 'bishop': 9060, 'bonuses': 9061, 'brain': 9062, 'brand': 9063, 'brawl': 9064, 'breach': 9065, 'breast': 9066, 'bribes': 9067, 'bring': 9068, 'broadcasters': 9069, 'broadcasts': 9070, 'browser': 9071, 'buildings': 9072, 'busy': 9073, 'buying': 9074, 'ca': 9075, 'cables': 9076, 'cannabis': 9077, 'cap': 9078, 'captain': 9079, 'carried': 9080, 'casualties': 9081, 'cease': 9082, 'celebrated': 9083, 'century': 9084, 'chase': 9085, 'cheating': 9086, 'check': 9087, 'chess': 9088, 'chooses': 9089, 'chopper': 9090, 'cigarette': 9091, 'cleanup': 9092, 'clears': 9093, 'cliff': 9094, 'cloned': 9095, 'cocaine': 9096, 'collects': 9097, 'college': 9098, 'collides': 9099, 'combat': 9100, 'comedy': 9101, 'command': 9102, 'commemorates': 9103, 'commentator': 9104, 'completed': 9105, 'compromise': 9106, 'concedes': 9107, 'concern': 9108, 'conduct': 9109, 'confirm': 9110, 'conflict': 9111, 'console': 9112, 'conspiracy': 9113, 'contamination': 9114, 'content': 9115, 'continuing': 9116, 'contracting': 9117, 'contractors': 9118, 'copies': 9119, 'coverage': 9120, 'covert': 9121, 'cow': 9122, 'crackdown': 9123, 'created': 9124, 'critic': 9125, 'criticised': 9126, 'criticism': 9127, 'criticized': 9128, 'crosses': 9129, 'cult': 9130, 'cyclone': 9131, 'daily': 9132, 'danger': 9133, 'database': 9134, 'deadlock': 9135, 'debris': 9136, 'debut': 9137, 'decades': 9138, 'declare': 9139, 'defeating': 9140, 'defence': 9141, 'defend': 9142, 'democracy': 9143, 'demonstrations': 9144, 'departure': 9145, 'deployed': 9146, 'deploys': 9147, 'deported': 9148, 'depot': 9149, 'depression': 9150, 'destroy': 9151, 'destruction': 9152, 'develop': 9153, 'device': 9154, 'diplomatic': 9155, 'directive': 9156, 'disappearance': 9157, 'disappears': 9158, 'discussion': 9159, 'dismissed': 9160, 'disputed': 9161, 'disrupt': 9162, 'disrupted': 9163, 'disruption': 9164, 'dissident': 9165, 'dissolves': 9166, 'distance': 9167, 'donations': 9168, 'dramatic': 9169, 'drink': 9170, 'drivers': 9171, 'dropped': 9172, 'eBay': 9173, 'east': 9174, 'edits': 9175, 'electioneering': 9176, 'electoral': 9177, 'electricity': 9178, 'eliminate': 9179, 'embargo': 9180, 'encephalitis': 9181, 'enemy': 9182, 'engines': 9183, 'enough': 9184, 'envoy': 9185, 'ethnic': 9186, 'evacuate': 9187, 'executions': 9188, 'exposes': 9189, 'extra': 9190, 'extradition': 9191, 'extreme': 9192, 'facility': 9193, 'fake': 9194, 'false': 9195, 'families': 9196, 'famine': 9197, 'fans': 9198, 'farmer': 9199, 'fastest': 9200, 'fatalities': 9201, 'fault': 9202, 'favor': 9203, 'features': 9204, 'figures': 9205, 'filed': 9206, 'filmmaker': 9207, 'fines': 9208, 'finish': 9209, 'firing': 9210, 'firms': 9211, 'fishing': 9212, 'fleet': 9213, 'flies': 9214, 'floor': 9215, 'flotilla': 9216, 'footage': 9217, 'forecast': 9218, 'freeze': 9219, 'frog': 9220, 'gasoline': 9221, 'glitch': 9222, 'granted': 9223, 'grenade': 9224, 'ground': 9225, 'guard': 9226, 'hall': 9227, 'halts': 9228, 'handed': 9229, 'hang': 9230, 'hanged': 9231, 'havoc': 9232, 'hears': 9233, 'higher': 9234, 'highlights': 9235, 'hijack': 9236, 'hikers': 9237, 'himself': 9238, 'hired': 9239, 'hires': 9240, 'honors': 9241, 'hour': 9242, 'hundred': 9243, 'iOS': 9244, 'iPad': 9245, 'immune': 9246, 'imposed': 9247, 'imprisoned': 9248, 'improve': 9249, 'inciting': 9250, 'included': 9251, 'indicate': 9252, 'infection': 9253, 'infections': 9254, 'injuring': 9255, 'injury': 9256, 'inmates': 9257, 'intelligent': 9258, 'intentions': 9259, 'interrogation': 9260, 'investigators': 9261, 'journey': 9262, 'jump': 9263, 'karaoke': 9264, 'labor': 9265, 'labour': 9266, 'landslide': 9267, 'laser': 9268, 'lash': 9269, 'later': 9270, 'lawmaker': 9271, 'lawyers': 9272, 'layer': 9273, 'leaking': 9274, 'legalise': 9275, 'less': 9276, 'let': 9277, 'leukemia': 9278, 'libel': 9279, 'limited': 9280, 'limits': 9281, 'links': 9282, 'look': 9283, 'looks': 9284, 'lower': 9285, 'lowest': 9286, 'male': 9287, 'mammoth': 9288, 'mandatory': 9289, 'manned': 9290, 'marine': 9291, 'mark': 9292, 'marked': 9293, 'mayoral': 9294, 'measure': 9295, 'memo': 9296, 'memory': 9297, 'merger': 9298, 'mice': 9299, 'mid': 9300, 'middle': 9301, 'minimum': 9302, 'ministers': 9303, 'minor': 9304, 'minute': 9305, 'miss': 9306, 'missed': 9307, 'missiles': 9308, 'mistake': 9309, 'mix': 9310, 'modified': 9311, 'motion': 9312, 'motorcycle': 9313, 'motorway': 9314, 'movements': 9315, 'murderer': 9316, 'musician': 9317, 'mystery': 9318, 'naked': 9319, 'nightclub': 9320, 'nominated': 9321, 'novelist': 9322, 'numbers': 9323, 'occupation': 9324, 'occurs': 9325, 'offered': 9326, 'offshore': 9327, 'onto': 9328, 'opportunities': 9329, 'orbit': 9330, 'organization': 9331, 'outbreaks': 9332, 'outrage': 9333, 'owners': 9334, 'pact': 9335, 'painting': 9336, 'palace': 9337, 'parade': 9338, 'participate': 9339, 'participating': 9340, 'particle': 9341, 'pass': 9342, 'payments': 9343, 'peak': 9344, 'peanut': 9345, 'peer': 9346, 'penalties': 9347, 'pending': 9348, 'permanent': 9349, 'personnel': 9350, 'petition': 9351, 'phosphorus': 9352, 'photographed': 9353, 'planning': 9354, 'platform': 9355, 'players': 9356, 'plea': 9357, 'plotting': 9358, 'poised': 9359, 'policies': 9360, 'polling': 9361, 'popular': 9362, 'positive': 9363, 'posting': 9364, 'poverty': 9365, 'powered': 9366, 'prayer': 9367, 'prayers': 9368, 'predicted': 9369, 'preparing': 9370, 'presents': 9371, 'preserved': 9372, 'prevents': 9373, 'previous': 9374, 'primary': 9375, 'print': 9376, 'prisoner': 9377, 'process': 9378, 'professional': 9379, 'projects': 9380, 'property': 9381, 'prostitutes': 9382, 'proves': 9383, 'provide': 9384, 'provider': 9385, 'provokes': 9386, 'pulled': 9387, 'pushed': 9388, 'put': 9389, 'qualify': 9390, 'quarterback': 9391, 'radiation': 9392, 'rainforest': 9393, 'rains': 9394, 'rallies': 9395, 'rampage': 9396, 'rapid': 9397, 'rapist': 9398, 'rare': 9399, 'rat': 9400, 'ray': 9401, 'reaction': 9402, 'ready': 9403, 'real': 9404, 'reality': 9405, 'recall': 9406, 'recalled': 9407, 'received': 9408, 'recovers': 9409, 'referee': 9410, 'regains': 9411, 'regional': 9412, 'regulations': 9413, 'regulator': 9414, 'rejected': 9415, 'relationship': 9416, 'relegated': 9417, 'remembers': 9418, 'remote': 9419, 'renewable': 9420, 'request': 9421, 'restore': 9422, 'restored': 9423, 'retailers': 9424, 'retaliation': 9425, 'retrial': 9426, 'returned': 9427, 'returning': 9428, 'ring': 9429, 'rips': 9430, 'roadside': 9431, 'rocked': 9432, 'route': 9433, 'rover': 9434, 'ruled': 9435, 'rural': 9436, 'rushed': 9437, 'sacks': 9438, 'safely': 9439, 'sail': 9440, 'sailor': 9441, 'salmonella': 9442, 'sample': 9443, 'scientific': 9444, 'seal': 9445, 'sealed': 9446, 'secures': 9447, 'senators': 9448, 'sensation': 9449, 'serve': 9450, 'shares': 9451, 'shelf': 9452, 'shootings': 9453, 'showing': 9454, 'shrine': 9455, 'shuffle': 9456, 'shutdown': 9457, 'significant': 9458, 'silence': 9459, 'sky': 9460, 'skyscraper': 9461, 'smartphone': 9462, 'smoked': 9463, 'smuggling': 9464, 'so': 9465, 'soap': 9466, 'sovereignty': 9467, 'spend': 9468, 'spending': 9469, 'spokesperson': 9470, 'sports': 9471, 'stabbing': 9472, 'stadium': 9473, 'stampede': 9474, 'stands': 9475, 'stopped': 9476, 'strain': 9477, 'stricken': 9478, 'strip': 9479, 'suburb': 9480, 'succeeds': 9481, 'sufferers': 9482, 'suffering': 9483, 'supports': 9484, 'surfaces': 9485, 'surge': 9486, 'surveillance': 9487, 'systems': 9488, 'tackle': 9489, 'tainted': 9490, 'tank': 9491, 'taxi': 9492, 'techniques': 9493, 'teenagers': 9494, 'tells': 9495, 'temporarily': 9496, 'then': 9497, 'thirty': 9498, 'throughout': 9499, 'throwing': 9500, 'throws': 9501, 'tobacco': 9502, 'together': 9503, 'tomb': 9504, 'tonight': 9505, 'too': 9506, 'torch': 9507, 'tornadoes': 9508, 'tournament': 9509, 'toward': 9510, 'tower': 9511, 'towns': 9512, 'trademark': 9513, 'trafficking': 9514, 'training': 9515, 'transfer': 9516, 'traps': 9517, 'travel': 9518, 'travels': 9519, 'tribute': 9520, 'tried': 9521, 'trigger': 9522, 'trillion': 9523, 'tropical': 9524, 'trouble': 9525, 'tuberculosis': 9526, 'twice': 9527, 'twin': 9528, 'underground': 9529, 'universal': 9530, 'unrest': 9531, 'unveiled': 9532, 'upgrade': 9533, 'upon': 9534, 'v.': 9535, 'vacated': 9536, 'vehicles': 9537, 'veils': 9538, 'vessel': 9539, 'vetoes': 9540, 'victorious': 9541, 'visible': 9542, 'volcanic': 9543, 'vows': 9544, 'wake': 9545, 'warnings': 9546, 'ways': 9547, 'we': 9548, 'wearing': 9549, 'welfare': 9550, 'went': 9551, 'west': 9552, 'whale': 9553, 'wiki': 9554, 'wild': 9555, 'wind': 9556, 'window': 9557, 'winds': 9558, 'winter': 9559, 'witness': 9560, 'words': 9561, 'works': 9562, 'worse': 9563, 'wraps': 9564, 'writer': 9565, 'yet': 9566, 'your': 9567, 'Íngrid': 9568})\n"
          ],
          "name": "stdout"
        }
      ]
    },
    {
      "cell_type": "code",
      "metadata": {
        "id": "pJX8k7bJwGiy",
        "colab_type": "code",
        "colab": {}
      },
      "source": [
        "device = torch.device('cuda' if torch.cuda.is_available() else 'cpu')  \n",
        "BATCH_SIZE = 64\n",
        "train_iterator, valid_iterator = data.BucketIterator.splits(\n",
        "    (train_data, valid_data), \n",
        "    batch_size = BATCH_SIZE,\n",
        "    sort_key = lambda x: len(x.text),\n",
        "    sort_within_batch=True,\n",
        "    device = device)"
      ],
      "execution_count": null,
      "outputs": []
    },
    {
      "cell_type": "code",
      "metadata": {
        "id": "S0pK2eyzwLlI",
        "colab_type": "code",
        "colab": {}
      },
      "source": [
        "import torch.nn as nn\n",
        "\n",
        "class classifier(nn.Module):\n",
        "    #define all the layers used in model\n",
        "    def __init__(self, vocab_size, embedding_dim, hidden_dim, output_dim, n_layers, \n",
        "                 bidirectional, dropout):\n",
        "        super().__init__()          \n",
        "        \n",
        "        self.embedding = nn.Embedding(vocab_size, embedding_dim)\n",
        "        self.lstm = nn.LSTM(embedding_dim, hidden_dim, num_layers=n_layers, bidirectional=bidirectional, dropout=dropout, batch_first=True)\n",
        "        #dense layer\n",
        "        self.fc = nn.Linear(hidden_dim * 2, output_dim)\n",
        "        #activation function\n",
        "        self.act = nn.Sigmoid()\n",
        "        \n",
        "    def forward(self, text, text_lengths):\n",
        "        \n",
        "        #text = [batch size,sent_length]\n",
        "        embedded = self.embedding(text)\n",
        "        #embedded = [batch size, sent_len, emb dim]\n",
        "      \n",
        "        #packed sequence\n",
        "        packed_embedded = nn.utils.rnn.pack_padded_sequence(embedded, text_lengths,batch_first=True)\n",
        "        \n",
        "        packed_output, (hidden, cell) = self.lstm(packed_embedded)\n",
        "        #hidden = [batch size, num layers * num directions,hid dim]\n",
        "        #cell = [batch size, num layers * num directions,hid dim]\n",
        "        \n",
        "        #concat the final forward and backward hidden state\n",
        "        hidden = torch.cat((hidden[-2,:,:], hidden[-1,:,:]), dim = 1)\n",
        "                \n",
        "        #hidden = [batch size, hid dim * num directions]\n",
        "        dense_outputs=self.fc(hidden)\n",
        "\n",
        "        #Final activation function\n",
        "        outputs=self.act(dense_outputs)\n",
        "        \n",
        "        return outputs"
      ],
      "execution_count": null,
      "outputs": []
    },
    {
      "cell_type": "code",
      "metadata": {
        "id": "PlwaPotowStu",
        "colab_type": "code",
        "colab": {}
      },
      "source": [
        "size_of_vocab = len(TEXT.vocab)\n",
        "embedding_dim = 50\n",
        "num_hidden_nodes = 32\n",
        "num_output_nodes = 1\n",
        "n_layers = 2\n",
        "bidirection = True\n",
        "dropout = 0.2\n",
        "\n",
        "model = classifier(size_of_vocab, embedding_dim, num_hidden_nodes,num_output_nodes, n_layers, \n",
        "                    bidirectional = True, dropout = dropout)"
      ],
      "execution_count": null,
      "outputs": []
    },
    {
      "cell_type": "code",
      "metadata": {
        "id": "VfSCmhPAwVVX",
        "colab_type": "code",
        "colab": {
          "base_uri": "https://localhost:8080/",
          "height": 153
        },
        "outputId": "6ac8d76b-1a12-4759-aa7c-fbb4309c1f63"
      },
      "source": [
        "#architecture\n",
        "print(model)\n",
        "\n",
        "#No. of trianable parameters\n",
        "def count_parameters(model):\n",
        "    return sum(p.numel() for p in model.parameters() if p.requires_grad)\n",
        "    \n",
        "print(f'The model has {count_parameters(model):,} trainable parameters')\n",
        "\n",
        "#Initialize the pretrained embedding\n",
        "pretrained_embeddings = TEXT.vocab.vectors\n",
        "model.embedding.weight.data.copy_(pretrained_embeddings)\n",
        "\n",
        "print(pretrained_embeddings.shape)"
      ],
      "execution_count": null,
      "outputs": [
        {
          "output_type": "stream",
          "text": [
            "classifier(\n",
            "  (embedding): Embedding(9569, 50)\n",
            "  (lstm): LSTM(50, 32, num_layers=2, batch_first=True, dropout=0.2, bidirectional=True)\n",
            "  (fc): Linear(in_features=64, out_features=1, bias=True)\n",
            "  (act): Sigmoid()\n",
            ")\n",
            "The model has 525,107 trainable parameters\n",
            "torch.Size([9569, 50])\n"
          ],
          "name": "stdout"
        }
      ]
    },
    {
      "cell_type": "code",
      "metadata": {
        "id": "620tpVjv7Xpl",
        "colab_type": "code",
        "colab": {}
      },
      "source": [
        "import torch.optim as optim\n",
        "\n",
        "#define optimizer and loss\n",
        "optimizer = optim.Adam(model.parameters(),lr = 0.01)\n",
        "criterion = nn.BCELoss()\n",
        "\n",
        "#define metric\n",
        "def binary_accuracy(preds, y):\n",
        "    #round predictions to the closest integer\n",
        "    rounded_preds = torch.round(preds)\n",
        "    correct = (rounded_preds == y).float() \n",
        "    acc = correct.sum() / len(correct)\n",
        "    return acc\n",
        "    \n",
        "#push to cuda if available\n",
        "model = model.to(device)\n",
        "criterion = criterion.to(device)\n"
      ],
      "execution_count": null,
      "outputs": []
    },
    {
      "cell_type": "code",
      "metadata": {
        "id": "-Z8e9F_H7bap",
        "colab_type": "code",
        "colab": {}
      },
      "source": [
        "def train(model, iterator, optimizer, criterion):\n",
        "    \n",
        "    #initialize every epoch \n",
        "    epoch_loss = 0\n",
        "    epoch_acc = 0    \n",
        "    #set the model in training phase\n",
        "    model.train()  \n",
        "    \n",
        "    for batch in iterator:\n",
        "        \n",
        "        #resets the gradients after every batch\n",
        "        optimizer.zero_grad()   \n",
        "        \n",
        "        #retrieve text and no. of words\n",
        "        text, text_lengths = batch.text   \n",
        "        \n",
        "        #convert to 1D tensor\n",
        "        predictions = model(text, text_lengths).squeeze()  \n",
        "        \n",
        "        #compute the loss\n",
        "        loss = criterion(predictions, batch.label)        \n",
        "        \n",
        "        #compute the binary accuracy\n",
        "        acc = binary_accuracy(predictions, batch.label)   \n",
        "        \n",
        "        #backpropage the loss and compute the gradients\n",
        "        loss.backward()       \n",
        "        \n",
        "        #update the weights\n",
        "        optimizer.step()      \n",
        "        \n",
        "        #loss and accuracy\n",
        "        epoch_loss += loss.item()  \n",
        "        epoch_acc += acc.item()    \n",
        "        \n",
        "    return epoch_loss / len(iterator), epoch_acc / len(iterator)\n"
      ],
      "execution_count": null,
      "outputs": []
    },
    {
      "cell_type": "code",
      "metadata": {
        "id": "ygvsvnL17fb6",
        "colab_type": "code",
        "colab": {}
      },
      "source": [
        "def evaluate(model, iterator, criterion):\n",
        "    \n",
        "    #initialize every epoch\n",
        "    epoch_loss = 0\n",
        "    epoch_acc = 0\n",
        "\n",
        "    #deactivating dropout layers\n",
        "    model.eval()\n",
        "    \n",
        "    #deactivates autograd\n",
        "    with torch.no_grad():\n",
        "    \n",
        "        for batch in iterator:\n",
        "        \n",
        "            #retrieve text and no. of words\n",
        "            text, text_lengths = batch.text\n",
        "            \n",
        "            #convert to 1d tensor\n",
        "            predictions = model(text, text_lengths).squeeze()\n",
        "            \n",
        "            #compute loss and accuracy\n",
        "            loss = criterion(predictions, batch.label)\n",
        "            acc = binary_accuracy(predictions, batch.label)\n",
        "            \n",
        "            #keep track of loss and accuracy\n",
        "            epoch_loss += loss.item()\n",
        "            epoch_acc += acc.item()\n",
        "        \n",
        "    return epoch_loss / len(iterator), epoch_acc / len(iterator)\n"
      ],
      "execution_count": null,
      "outputs": []
    },
    {
      "cell_type": "code",
      "metadata": {
        "id": "BrzUM81s7kE1",
        "colab_type": "code",
        "colab": {
          "base_uri": "https://localhost:8080/",
          "height": 187
        },
        "outputId": "c0cb04df-78a0-4f6b-cd38-376fb5d2a56f"
      },
      "source": [
        "N_EPOCHS = 5\n",
        "best_valid_loss = float('inf')\n",
        "\n",
        "for epoch in range(N_EPOCHS):\n",
        "     \n",
        "    #train the model\n",
        "    train_loss, train_acc = train(model, train_iterator, optimizer, criterion)\n",
        "    \n",
        "    #evaluate the model\n",
        "    valid_loss, valid_acc = evaluate(model, valid_iterator, criterion)\n",
        "    \n",
        "    #save the best model\n",
        "    if valid_loss < best_valid_loss:\n",
        "        best_valid_loss = valid_loss\n",
        "        torch.save(model.state_dict(), 'saved_weights.pt')\n",
        "    \n",
        "    print(f'\\tTrain Loss: {train_loss:.3f} | Train Acc: {train_acc*100:.2f}%')\n",
        "    print(f'\\t Val. Loss: {valid_loss:.3f} |  Val. Acc: {valid_acc*100:.2f}%')\n"
      ],
      "execution_count": null,
      "outputs": [
        {
          "output_type": "stream",
          "text": [
            "\tTrain Loss: 0.044 | Train Acc: 98.32%\n",
            "\t Val. Loss: 0.017 |  Val. Acc: 99.44%\n",
            "\tTrain Loss: 0.005 | Train Acc: 99.86%\n",
            "\t Val. Loss: 0.023 |  Val. Acc: 99.41%\n",
            "\tTrain Loss: 0.002 | Train Acc: 99.95%\n",
            "\t Val. Loss: 0.020 |  Val. Acc: 99.38%\n",
            "\tTrain Loss: 0.002 | Train Acc: 99.95%\n",
            "\t Val. Loss: 0.023 |  Val. Acc: 99.36%\n",
            "\tTrain Loss: 0.001 | Train Acc: 99.96%\n",
            "\t Val. Loss: 0.027 |  Val. Acc: 99.33%\n"
          ],
          "name": "stdout"
        }
      ]
    },
    {
      "cell_type": "code",
      "metadata": {
        "id": "FJgqRvc_7nRT",
        "colab_type": "code",
        "colab": {}
      },
      "source": [
        "#load weights\n",
        "path='/content/drive/My Drive/Classroom/Ass10/saved_weights.pt'\n",
        "model.load_state_dict(torch.load(path));\n",
        "model.eval();\n",
        "\n",
        "#inference\n",
        "import spacy\n",
        "nlp = spacy.load('en')\n",
        "\n",
        "def predict(model, sentence):\n",
        "    tokenized = [tok.text for tok in nlp.tokenizer(sentence)]  #tokenize the sentence \n",
        "    indexed = [TEXT.vocab.stoi[t] for t in tokenized]          #convert to integer sequence\n",
        "    length = [len(indexed)]                                    #compute no. of words\n",
        "    tensor = torch.LongTensor(indexed).to(device)              #convert to tensor\n",
        "    tensor = tensor.unsqueeze(1).T                             #reshape in form of batch,no. of words\n",
        "    length_tensor = torch.Tensor(length)                   #convert to tensor\n",
        "    prediction = model(tensor, length_tensor)                  #prediction \n",
        "    return prediction.item()\n"
      ],
      "execution_count": null,
      "outputs": []
    },
    {
      "cell_type": "code",
      "metadata": {
        "id": "MlJ17ksUvwIH",
        "colab_type": "code",
        "colab": {}
      },
      "source": [
        "from sklearn.metrics import f1_score\n",
        "def f1(model, iterator):\n",
        "\n",
        "    p = []\n",
        "    y = []\n",
        "    model.eval()\n",
        "    for batch in iterator:\n",
        "        text, text_lengths = batch.text\n",
        "        predictions = model(text, text_lengths).squeeze()\n",
        "        p = p + list(predictions.detach().cpu().numpy().round())\n",
        "        y = y + list(batch.label.detach().cpu().numpy())\n",
        "    \n",
        "    return f1_score(y,p)"
      ],
      "execution_count": null,
      "outputs": []
    },
    {
      "cell_type": "code",
      "metadata": {
        "id": "TS2Wq_8tOi8p",
        "colab_type": "code",
        "colab": {
          "base_uri": "https://localhost:8080/",
          "height": 34
        },
        "outputId": "bac6f32b-3f70-4d4e-926a-7cd43aa2871f"
      },
      "source": [
        "f1(model,valid_iterator)"
      ],
      "execution_count": null,
      "outputs": [
        {
          "output_type": "execute_result",
          "data": {
            "text/plain": [
              "0.994408201304753"
            ]
          },
          "metadata": {
            "tags": []
          },
          "execution_count": 22
        }
      ]
    },
    {
      "cell_type": "markdown",
      "metadata": {
        "id": "3-ony-4uFpn_",
        "colab_type": "text"
      },
      "source": [
        "ConvNet Implementation\n"
      ]
    },
    {
      "cell_type": "code",
      "metadata": {
        "id": "l_eXWnHnv0bW",
        "colab_type": "code",
        "colab": {}
      },
      "source": [
        "class CNN(nn.Module):\n",
        "\tdef __init__(self, batch_size, output_size, in_channels, out_channels, kernel_heights, stride, padding, keep_probab, vocab_size, embedding_length, weights):\n",
        "\t\tsuper(CNN, self).__init__()\n",
        "\t\t\n",
        "\t\t\"\"\"\n",
        "\t\tArguments\n",
        "\t\t---------\n",
        "\t\tbatch_size : Size of each batch which is same as the batch_size of the data returned by the TorchText BucketIterator\n",
        "\t\toutput_size : 2 = (pos, neg)\n",
        "\t\tin_channels : Number of input channels. Here it is 1 as the input data has dimension = (batch_size, num_seq, embedding_length)\n",
        "\t\tout_channels : Number of output channels after convolution operation performed on the input matrix\n",
        "\t\tkernel_heights : A list consisting of 3 different kernel_heights. Convolution will be performed 3 times and finally results from each kernel_height will be concatenated.\n",
        "\t\tkeep_probab : Probability of retaining an activation node during dropout operation\n",
        "\t\tvocab_size : Size of the vocabulary containing unique words\n",
        "\t\tembedding_length : Embedding dimension of GloVe word embeddings\n",
        "\t\tweights : Pre-trained GloVe word_embeddings which we will use to create our word_embedding look-up table\n",
        "\t\t--------\n",
        "\t\t\n",
        "\t\t\"\"\"\n",
        "\t\tself.batch_size = batch_size\n",
        "\t\tself.output_size = output_size\n",
        "\t\tself.in_channels = in_channels\n",
        "\t\tself.out_channels = out_channels\n",
        "\t\tself.kernel_heights = kernel_heights\n",
        "\t\tself.stride = stride\n",
        "\t\tself.padding = padding\n",
        "\t\tself.vocab_size = vocab_size\n",
        "\t\tself.embedding_length = embedding_length\n",
        "\t\t\n",
        "\t\tself.word_embeddings = nn.Embedding(vocab_size, embedding_length)\n",
        "\t\tself.word_embeddings.weight = nn.Parameter(weights, requires_grad=False)\n",
        "\t\tself.conv1 = nn.Conv2d(in_channels, out_channels, (kernel_heights[0], embedding_length), stride, padding)\n",
        "\t\tself.conv2 = nn.Conv2d(in_channels, out_channels, (kernel_heights[1], embedding_length), stride, padding)\n",
        "\t\tself.conv3 = nn.Conv2d(in_channels, out_channels, (kernel_heights[2], embedding_length), stride, padding)\n",
        "\t\tself.dropout = nn.Dropout(keep_probab)\n",
        "\t\tself.label = nn.Linear(len(kernel_heights)*out_channels, output_size)\n",
        "\t\n",
        "\tdef conv_block(self, input, conv_layer):\n",
        "\t\tconv_out = conv_layer(input)# conv_out.size() = (batch_size, out_channels, dim, 1)\n",
        "\t\tactivation = F.relu(conv_out.squeeze(3))# activation.size() = (batch_size, out_channels, dim1)\n",
        "\t\tmax_out = F.max_pool1d(activation, activation.size()[2]).squeeze(2)# maxpool_out.size() = (batch_size, out_channels)\n",
        "\t\t\n",
        "\t\treturn max_out\n",
        "\t\n",
        "\tdef forward(self, input_sentences, batch_size=None):\n",
        "\t\t\n",
        "\t\t\"\"\"\n",
        "\t\tThe idea of the Convolutional Neural Netwok for Text Classification is very simple. We perform convolution operation on the embedding matrix \n",
        "\t\twhose shape for each batch is (num_seq, embedding_length) with kernel of varying height but constant width which is same as the embedding_length.\n",
        "\t\tWe will be using ReLU activation after the convolution operation and then for each kernel height, we will use max_pool operation on each tensor \n",
        "\t\tand will filter all the maximum activation for every channel and then we will concatenate the resulting tensors. This output is then fully connected\n",
        "\t\tto the output layers consisting two units which basically gives us the logits for both positive and negative classes.\n",
        "\t\t\n",
        "\t\tParameters\n",
        "\t\t----------\n",
        "\t\tinput_sentences: input_sentences of shape = (batch_size, num_sequences)\n",
        "\t\tbatch_size : default = None. Used only for prediction on a single sentence after training (batch_size = 1)\n",
        "\t\t\n",
        "\t\tReturns\n",
        "\t\t-------\n",
        "\t\tOutput of the linear layer containing logits for pos & neg class.\n",
        "\t\tlogits.size() = (batch_size, output_size)\n",
        "\t\t\n",
        "\t\t\"\"\"\n",
        "\t\t\n",
        "\t\tinput = self.word_embeddings(input_sentences)\n",
        "\t\t# input.size() = (batch_size, num_seq, embedding_length)\n",
        "\t\tinput = input.unsqueeze(1)\n",
        "\t\t# input.size() = (batch_size, 1, num_seq, embedding_length)\n",
        "\t\tmax_out1 = self.conv_block(input, self.conv1)\n",
        "\t\tmax_out2 = self.conv_block(input, self.conv2)\n",
        "\t\tmax_out3 = self.conv_block(input, self.conv3)\n",
        "\t\t\n",
        "\t\tall_out = torch.cat((max_out1, max_out2, max_out3), 1)\n",
        "\t\t# all_out.size() = (batch_size, num_kernels*out_channels)\n",
        "\t\tfc_in = self.dropout(all_out)\n",
        "\t\t# fc_in.size()) = (batch_size, num_kernels*out_channels)\n",
        "\t\tlogits = self.label(fc_in)\n",
        "\t\t\n",
        "\t\treturn logits"
      ],
      "execution_count": null,
      "outputs": []
    },
    {
      "cell_type": "code",
      "metadata": {
        "id": "VStXopmyXxQh",
        "colab_type": "code",
        "colab": {}
      },
      "source": [
        "word_idx = dict(TEXT.vocab.stoi)"
      ],
      "execution_count": null,
      "outputs": []
    },
    {
      "cell_type": "code",
      "metadata": {
        "id": "8JVFtzzNFx2l",
        "colab_type": "code",
        "colab": {}
      },
      "source": [
        "def create_embedding_matrix(filepath, word_idx, embedding_dim):\n",
        "    vocab_size = len(word_idx) + 1\n",
        "    # Adding again 1 because of reserved 0 index\n",
        "    embedding_matrix = np.zeros((vocab_size, embedding_dim))\n",
        "    with open(filepath) as f:\n",
        "        for line in f:\n",
        "            word = line.split()[0]\n",
        "            vector = line.split()[1:]\n",
        "            if word in word_idx.keys():\n",
        "                idx = word_idx[word] \n",
        "                embedding_matrix[idx] = np.array(vector, dtype=np.float32)[:embedding_dim]\n",
        "    return embedding_matrix\n",
        "embedding_matrix = create_embedding_matrix('/content/drive/My Drive/Classroom/Ass10/.vector_cache/glove.6B.50d.txt',\n",
        "                                            word_idx,\n",
        "                                            embedding_dim = 50)"
      ],
      "execution_count": null,
      "outputs": []
    },
    {
      "cell_type": "code",
      "metadata": {
        "id": "7jS_6928__4g",
        "colab_type": "code",
        "colab": {}
      },
      "source": [
        "model = CNN(batch_size = BATCH_SIZE,output_size = 1, in_channels=1,out_channels=1,kernel_heights=[3,2,1],keep_probab=0.5,stride=1,padding=0,embedding_length=50,vocab_size= size_of_vocab, weights = torch.Tensor(embedding_matrix).cuda() )"
      ],
      "execution_count": null,
      "outputs": []
    },
    {
      "cell_type": "code",
      "metadata": {
        "id": "QSePEcj7hbm-",
        "colab_type": "code",
        "colab": {
          "base_uri": "https://localhost:8080/",
          "height": 153
        },
        "outputId": "c3c7f99c-10c9-4a74-ed2c-f6968f02814d"
      },
      "source": [
        "print(model)"
      ],
      "execution_count": null,
      "outputs": [
        {
          "output_type": "stream",
          "text": [
            "CNN(\n",
            "  (word_embeddings): Embedding(9569, 50)\n",
            "  (conv1): Conv2d(1, 1, kernel_size=(3, 50), stride=(1, 1))\n",
            "  (conv2): Conv2d(1, 1, kernel_size=(2, 50), stride=(1, 1))\n",
            "  (conv3): Conv2d(1, 1, kernel_size=(1, 50), stride=(1, 1))\n",
            "  (dropout): Dropout(p=0.5, inplace=False)\n",
            "  (label): Linear(in_features=3, out_features=1, bias=True)\n",
            ")\n"
          ],
          "name": "stdout"
        }
      ]
    },
    {
      "cell_type": "code",
      "metadata": {
        "id": "MkAprqCZhuff",
        "colab_type": "code",
        "colab": {
          "base_uri": "https://localhost:8080/",
          "height": 34
        },
        "outputId": "7a7a5897-e416-44f8-f6fd-802c5fdd02e2"
      },
      "source": [
        "def count_parameters(model):\n",
        "    return sum(p.numel() for p in model.parameters() if p.requires_grad)\n",
        "    \n",
        "print(f'The model has {count_parameters(model):,} trainable parameters')"
      ],
      "execution_count": null,
      "outputs": [
        {
          "output_type": "stream",
          "text": [
            "The model has 307 trainable parameters\n"
          ],
          "name": "stdout"
        }
      ]
    },
    {
      "cell_type": "code",
      "metadata": {
        "id": "UWMCZma8h9kn",
        "colab_type": "code",
        "colab": {}
      },
      "source": [
        "import torch.optim as optim\n",
        "\n",
        "#define optimizer and loss\n",
        "optimizer = optim.Adam(model.parameters(),lr = 0.01)\n",
        "criterion = nn.BCELoss()\n",
        "\n",
        "#define metric\n",
        "def binary_accuracy(preds, y):\n",
        "    #round predictions to the closest integer\n",
        "    rounded_preds = torch.round(preds)\n",
        "    correct = (rounded_preds == y).float() \n",
        "    acc = correct.sum() / len(correct)\n",
        "    return acc\n",
        "    \n",
        "#push to cuda if available\n",
        "model = model.to(device)\n",
        "criterion = criterion.to(device)\n"
      ],
      "execution_count": null,
      "outputs": []
    },
    {
      "cell_type": "code",
      "metadata": {
        "id": "2JFwydj5V-vv",
        "colab_type": "code",
        "colab": {}
      },
      "source": [
        "def train(model, iterator, optimizer, criterion):\n",
        "    \n",
        "    #initialize every epoch \n",
        "    epoch_loss = 0\n",
        "    epoch_acc = 0    \n",
        "    #set the model in training phase\n",
        "    model.train()  \n",
        "    \n",
        "    for batch in iterator:\n",
        "        \n",
        "        #resets the gradients after every batch\n",
        "        optimizer.zero_grad()   \n",
        "        \n",
        "        #retrieve text and no. of words\n",
        "        text, text_lengths = batch.text   \n",
        "        \n",
        "        #convert to 1D tensor\n",
        "        predictions = model(text, text_lengths).squeeze()  \n",
        "        \n",
        "        #compute the loss\n",
        "        loss = criterion(predictions, batch.label)        \n",
        "        \n",
        "        #compute the binary accuracy\n",
        "        acc = binary_accuracy(predictions, batch.label)   \n",
        "        \n",
        "        #backpropage the loss and compute the gradients\n",
        "        loss.backward()       \n",
        "        \n",
        "        #update the weights\n",
        "        optimizer.step()      \n",
        "        \n",
        "        #loss and accuracy\n",
        "        epoch_loss += loss.item()  \n",
        "        epoch_acc += acc.item()    \n",
        "        \n",
        "    return epoch_loss / len(iterator), epoch_acc / len(iterator)\n"
      ],
      "execution_count": null,
      "outputs": []
    },
    {
      "cell_type": "code",
      "metadata": {
        "id": "AKUIPv1oiOeX",
        "colab_type": "code",
        "colab": {
          "base_uri": "https://localhost:8080/",
          "height": 85
        },
        "outputId": "65716929-d866-4768-8d0d-32456a0c6431"
      },
      "source": [
        "N_EPOCHS = 5\n",
        "best_valid_loss = float('inf')\n",
        "\n",
        "for epoch in range(N_EPOCHS):\n",
        "     \n",
        "    #train the model\n",
        "    train_loss, train_acc = train(model, train_iterator, optimizer, criterion)\n",
        "    \n",
        "    #evaluate the model\n",
        "    valid_loss, valid_acc = evaluate(model, valid_iterator, criterion)\n",
        "    \n",
        "    #save the best model\n",
        "    if valid_loss < best_valid_loss:\n",
        "        best_valid_loss = valid_loss\n",
        "        torch.save(model.state_dict(), 'saved_weights.pt')\n",
        "    \n",
        "    print(f'\\tTrain Loss: {train_loss:.3f} | Train Acc: {train_acc*100:.2f}%')\n",
        "    print(f'\\t Val. Loss: {valid_loss:.3f} |  Val. Acc: {valid_acc*100:.2f}%')"
      ],
      "execution_count": null,
      "outputs": [
        {
          "output_type": "stream",
          "text": [
            "\tTrain Loss: nan | Train Acc: 50.81%\n",
            "\t Val. Loss: 0.946 |  Val. Acc: 49.73%\n",
            "\tTrain Loss: nan | Train Acc: 49.74%\n",
            "\t Val. Loss: 0.946 |  Val. Acc: 49.73%\n"
          ],
          "name": "stdout"
        }
      ]
    },
    {
      "cell_type": "code",
      "metadata": {
        "id": "uKMBwsQtiUkY",
        "colab_type": "code",
        "colab": {
          "base_uri": "https://localhost:8080/",
          "height": 34
        },
        "outputId": "9c9d2d01-feb3-4e16-ccc4-270758af77f7"
      },
      "source": [
        "from sklearn.metrics import f1_score\n",
        "def f1(model, iterator):\n",
        "\n",
        "    p = []\n",
        "    y = []\n",
        "    model.eval()\n",
        "    for batch in iterator:\n",
        "        text, text_lengths = batch.text\n",
        "        predictions = model(text, text_lengths).squeeze()\n",
        "        p = p + list(predictions.detach().cpu().numpy().round())\n",
        "        y = y + list(batch.label.detach().cpu().numpy())\n",
        "    \n",
        "    return f1_score(y,p)\n",
        "f1(model,valid_iterator)"
      ],
      "execution_count": null,
      "outputs": [
        {
          "output_type": "execute_result",
          "data": {
            "text/plain": [
              "0.0"
            ]
          },
          "metadata": {
            "tags": []
          },
          "execution_count": 85
        }
      ]
    },
    {
      "cell_type": "code",
      "metadata": {
        "id": "cUi91q9mQcdK",
        "colab_type": "code",
        "colab": {}
      },
      "source": [
        ""
      ],
      "execution_count": null,
      "outputs": []
    }
  ]
}